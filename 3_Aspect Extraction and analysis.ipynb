{
 "cells": [
  {
   "cell_type": "code",
   "execution_count": 1,
   "id": "939d9b43",
   "metadata": {},
   "outputs": [],
   "source": [
    "import pandas as pd\n",
    "import nltk.data\n",
    "import re\n",
    "import scipy.stats as st\n",
    "import numpy as np\n",
    "import itertools\n",
    "from collections import Counter\n",
    "\n",
    "# NLP libraries\n",
    "from nltk.corpus import stopwords\n",
    "from nltk.stem import WordNetLemmatizer\n",
    "from nltk import pos_tag\n",
    "from gensim.utils import simple_preprocess\n",
    "from nltk import bigrams as nltkbigrams\n",
    "from gensim.corpora.dictionary import Dictionary\n",
    "\n",
    "# Graphic libraries\n",
    "import matplotlib.pyplot as plt\n",
    "import plotly.express as px\n",
    "%matplotlib inline\n",
    "import seaborn as sns\n",
    "sns.set_theme()"
   ]
  },
  {
   "cell_type": "markdown",
   "id": "1f2bac14",
   "metadata": {},
   "source": [
    "# Dataset"
   ]
  },
  {
   "cell_type": "code",
   "execution_count": 2,
   "id": "680885fc",
   "metadata": {},
   "outputs": [
    {
     "data": {
      "text/html": [
       "<div>\n",
       "<style scoped>\n",
       "    .dataframe tbody tr th:only-of-type {\n",
       "        vertical-align: middle;\n",
       "    }\n",
       "\n",
       "    .dataframe tbody tr th {\n",
       "        vertical-align: top;\n",
       "    }\n",
       "\n",
       "    .dataframe thead th {\n",
       "        text-align: right;\n",
       "    }\n",
       "</style>\n",
       "<table border=\"1\" class=\"dataframe\">\n",
       "  <thead>\n",
       "    <tr style=\"text-align: right;\">\n",
       "      <th></th>\n",
       "      <th>createdDate</th>\n",
       "      <th>stayDate</th>\n",
       "      <th>hotelName</th>\n",
       "      <th>rating</th>\n",
       "      <th>helpfulVotes</th>\n",
       "      <th>text</th>\n",
       "      <th>tripType</th>\n",
       "      <th>parentGeo</th>\n",
       "      <th>text_n</th>\n",
       "    </tr>\n",
       "  </thead>\n",
       "  <tbody>\n",
       "    <tr>\n",
       "      <th>0</th>\n",
       "      <td>2020-07-14</td>\n",
       "      <td>2020-02-29</td>\n",
       "      <td>Hana Riverside Villa</td>\n",
       "      <td>4</td>\n",
       "      <td>0</td>\n",
       "      <td>Hana Riverside Quang Ngai hotel, - Located in ...</td>\n",
       "      <td>NONE</td>\n",
       "      <td>Quảng Ngãi</td>\n",
       "      <td>hana riverside quang ngai hotel located in a q...</td>\n",
       "    </tr>\n",
       "    <tr>\n",
       "      <th>1</th>\n",
       "      <td>2020-02-18</td>\n",
       "      <td>2020-02-29</td>\n",
       "      <td>Hana Riverside Villa</td>\n",
       "      <td>5</td>\n",
       "      <td>0</td>\n",
       "      <td>Dropped in here for 1 night on my way north. F...</td>\n",
       "      <td>SOLO</td>\n",
       "      <td>Quảng Ngãi</td>\n",
       "      <td>dropped in here for 1 night on my way north. f...</td>\n",
       "    </tr>\n",
       "    <tr>\n",
       "      <th>2</th>\n",
       "      <td>2019-09-17</td>\n",
       "      <td>2019-09-30</td>\n",
       "      <td>Hana Riverside Villa</td>\n",
       "      <td>4</td>\n",
       "      <td>0</td>\n",
       "      <td>Stayed here for one night while passing throug...</td>\n",
       "      <td>COUPLES</td>\n",
       "      <td>Quảng Ngãi</td>\n",
       "      <td>stayed here for one night while passing throug...</td>\n",
       "    </tr>\n",
       "    <tr>\n",
       "      <th>3</th>\n",
       "      <td>2018-10-04</td>\n",
       "      <td>2018-09-30</td>\n",
       "      <td>Hana Riverside Villa</td>\n",
       "      <td>5</td>\n",
       "      <td>0</td>\n",
       "      <td>Kinda difficult to find but we had a great sta...</td>\n",
       "      <td>COUPLES</td>\n",
       "      <td>Quảng Ngãi</td>\n",
       "      <td>kind of difficult to find but we had a great s...</td>\n",
       "    </tr>\n",
       "    <tr>\n",
       "      <th>4</th>\n",
       "      <td>2020-03-10</td>\n",
       "      <td>2020-03-31</td>\n",
       "      <td>Cocoland River Beach Resort &amp; Spa</td>\n",
       "      <td>1</td>\n",
       "      <td>1</td>\n",
       "      <td>Don’t go to this place. The manager is a liar....</td>\n",
       "      <td>COUPLES</td>\n",
       "      <td>Quảng Ngãi</td>\n",
       "      <td>do not go to this place. the manager is a liar...</td>\n",
       "    </tr>\n",
       "  </tbody>\n",
       "</table>\n",
       "</div>"
      ],
      "text/plain": [
       "  createdDate    stayDate                          hotelName  rating  \\\n",
       "0  2020-07-14  2020-02-29               Hana Riverside Villa       4   \n",
       "1  2020-02-18  2020-02-29               Hana Riverside Villa       5   \n",
       "2  2019-09-17  2019-09-30               Hana Riverside Villa       4   \n",
       "3  2018-10-04  2018-09-30               Hana Riverside Villa       5   \n",
       "4  2020-03-10  2020-03-31  Cocoland River Beach Resort & Spa       1   \n",
       "\n",
       "   helpfulVotes                                               text tripType  \\\n",
       "0             0  Hana Riverside Quang Ngai hotel, - Located in ...     NONE   \n",
       "1             0  Dropped in here for 1 night on my way north. F...     SOLO   \n",
       "2             0  Stayed here for one night while passing throug...  COUPLES   \n",
       "3             0  Kinda difficult to find but we had a great sta...  COUPLES   \n",
       "4             1  Don’t go to this place. The manager is a liar....  COUPLES   \n",
       "\n",
       "      parentGeo                                             text_n  \n",
       "0  Quảng Ngãi  hana riverside quang ngai hotel located in a q...  \n",
       "1  Quảng Ngãi  dropped in here for 1 night on my way north. f...  \n",
       "2  Quảng Ngãi  stayed here for one night while passing throug...  \n",
       "3  Quảng Ngãi  kind of difficult to find but we had a great s...  \n",
       "4  Quảng Ngãi  do not go to this place. the manager is a liar...  "
      ]
     },
     "execution_count": 2,
     "metadata": {},
     "output_type": "execute_result"
    }
   ],
   "source": [
    "# Load English reviews dataset\n",
    "df = pd.read_csv('input/english_reviews_v2.csv')\n",
    "# Convert all text in pre processed reviews into lower case\n",
    "df['text_n'] = df['text_n'].str.lower()\n",
    "df.head()"
   ]
  },
  {
   "cell_type": "code",
   "execution_count": 5,
   "id": "d8c30fad",
   "metadata": {},
   "outputs": [
    {
     "data": {
      "text/plain": [
       "\"Stayed here for one night while passing through. The room was clean and tidy and had a kettle and fridge which was good. Nice clean modern bathroom. It wasn't in the best location for us to find something for dinner if you're after anything other than standard local food. The bed was comfy, our main issue was just that we got repeatedly woken up all night by a dog barking very close by and was allowed to continue barking all night and in the early hours of the morning. Very frustrating but if that hadnt been a problem, then no issues with the accommodation.\""
      ]
     },
     "execution_count": 5,
     "metadata": {},
     "output_type": "execute_result"
    }
   ],
   "source": [
    "df['text'][2]"
   ]
  },
  {
   "cell_type": "markdown",
   "id": "6b49995d",
   "metadata": {},
   "source": [
    "## Aspect list"
   ]
  },
  {
   "cell_type": "code",
   "execution_count": 129,
   "id": "c5efc318",
   "metadata": {},
   "outputs": [
    {
     "data": {
      "text/html": [
       "<div>\n",
       "<style scoped>\n",
       "    .dataframe tbody tr th:only-of-type {\n",
       "        vertical-align: middle;\n",
       "    }\n",
       "\n",
       "    .dataframe tbody tr th {\n",
       "        vertical-align: top;\n",
       "    }\n",
       "\n",
       "    .dataframe thead th {\n",
       "        text-align: right;\n",
       "    }\n",
       "</style>\n",
       "<table border=\"1\" class=\"dataframe\">\n",
       "  <thead>\n",
       "    <tr style=\"text-align: right;\">\n",
       "      <th></th>\n",
       "      <th>aspect</th>\n",
       "      <th>keywords</th>\n",
       "    </tr>\n",
       "    <tr>\n",
       "      <th>aspect_no</th>\n",
       "      <th></th>\n",
       "      <th></th>\n",
       "    </tr>\n",
       "  </thead>\n",
       "  <tbody>\n",
       "    <tr>\n",
       "      <th>1</th>\n",
       "      <td>Location</td>\n",
       "      <td>44</td>\n",
       "    </tr>\n",
       "    <tr>\n",
       "      <th>2</th>\n",
       "      <td>Cleanliness</td>\n",
       "      <td>34</td>\n",
       "    </tr>\n",
       "    <tr>\n",
       "      <th>3</th>\n",
       "      <td>Comfort</td>\n",
       "      <td>24</td>\n",
       "    </tr>\n",
       "    <tr>\n",
       "      <th>4</th>\n",
       "      <td>Facilities</td>\n",
       "      <td>84</td>\n",
       "    </tr>\n",
       "    <tr>\n",
       "      <th>5</th>\n",
       "      <td>Service</td>\n",
       "      <td>102</td>\n",
       "    </tr>\n",
       "    <tr>\n",
       "      <th>6</th>\n",
       "      <td>Value</td>\n",
       "      <td>17</td>\n",
       "    </tr>\n",
       "    <tr>\n",
       "      <th>7</th>\n",
       "      <td>Food_and_beverage</td>\n",
       "      <td>54</td>\n",
       "    </tr>\n",
       "  </tbody>\n",
       "</table>\n",
       "</div>"
      ],
      "text/plain": [
       "                      aspect  keywords\n",
       "aspect_no                             \n",
       "1                   Location        44\n",
       "2                Cleanliness        34\n",
       "3                    Comfort        24\n",
       "4                 Facilities        84\n",
       "5                    Service       102\n",
       "6                      Value        17\n",
       "7          Food_and_beverage        54"
      ]
     },
     "execution_count": 129,
     "metadata": {},
     "output_type": "execute_result"
    }
   ],
   "source": [
    "# Import the list of aspects and words bank\n",
    "aspect_df = pd.read_csv('input/Aspect_List.csv')\n",
    "# Remove duplicates\n",
    "aspect_df = aspect_df.drop_duplicates()\n",
    "\n",
    "# Creating a dataframe with aspect numbers and names\n",
    "aspect_list_df = aspect_df.groupby(['aspect', 'aspect_no']).nunique().reset_index()\n",
    "aspect_list_df= aspect_list_df.sort_values('aspect_no').reset_index(drop = True)\n",
    "aspect_list_df = aspect_list_df.set_index('aspect_no')\n",
    "aspect_list_df"
   ]
  },
  {
   "cell_type": "markdown",
   "id": "a63c1658",
   "metadata": {},
   "source": [
    "## Tokenisation"
   ]
  },
  {
   "cell_type": "code",
   "execution_count": 109,
   "id": "9c1099d0",
   "metadata": {},
   "outputs": [
    {
     "name": "stdout",
     "output_type": "stream",
     "text": [
      "Tokens groups created: 32449 \n",
      "\n"
     ]
    },
    {
     "data": {
      "text/html": [
       "<div>\n",
       "<style scoped>\n",
       "    .dataframe tbody tr th:only-of-type {\n",
       "        vertical-align: middle;\n",
       "    }\n",
       "\n",
       "    .dataframe tbody tr th {\n",
       "        vertical-align: top;\n",
       "    }\n",
       "\n",
       "    .dataframe thead th {\n",
       "        text-align: right;\n",
       "    }\n",
       "</style>\n",
       "<table border=\"1\" class=\"dataframe\">\n",
       "  <thead>\n",
       "    <tr style=\"text-align: right;\">\n",
       "      <th></th>\n",
       "      <th>createdDate</th>\n",
       "      <th>stayDate</th>\n",
       "      <th>hotelName</th>\n",
       "      <th>rating</th>\n",
       "      <th>helpfulVotes</th>\n",
       "      <th>text</th>\n",
       "      <th>tripType</th>\n",
       "      <th>parentGeo</th>\n",
       "      <th>text_n</th>\n",
       "      <th>tokens</th>\n",
       "    </tr>\n",
       "  </thead>\n",
       "  <tbody>\n",
       "    <tr>\n",
       "      <th>0</th>\n",
       "      <td>2020-07-14</td>\n",
       "      <td>2020-02-29</td>\n",
       "      <td>Hana Riverside Villa</td>\n",
       "      <td>4</td>\n",
       "      <td>0</td>\n",
       "      <td>Hana Riverside Quang Ngai hotel, - Located in ...</td>\n",
       "      <td>NONE</td>\n",
       "      <td>Quảng Ngãi</td>\n",
       "      <td>hana riverside quang ngai hotel located in a q...</td>\n",
       "      <td>[[hana, riverside, quang, ngai, hotel, locate,...</td>\n",
       "    </tr>\n",
       "    <tr>\n",
       "      <th>1</th>\n",
       "      <td>2020-02-18</td>\n",
       "      <td>2020-02-29</td>\n",
       "      <td>Hana Riverside Villa</td>\n",
       "      <td>5</td>\n",
       "      <td>0</td>\n",
       "      <td>Dropped in here for 1 night on my way north. F...</td>\n",
       "      <td>SOLO</td>\n",
       "      <td>Quảng Ngãi</td>\n",
       "      <td>dropped in here for 1 night on my way north. f...</td>\n",
       "      <td>[[drop, night, way, north], [friendly, helpful...</td>\n",
       "    </tr>\n",
       "    <tr>\n",
       "      <th>2</th>\n",
       "      <td>2019-09-17</td>\n",
       "      <td>2019-09-30</td>\n",
       "      <td>Hana Riverside Villa</td>\n",
       "      <td>4</td>\n",
       "      <td>0</td>\n",
       "      <td>Stayed here for one night while passing throug...</td>\n",
       "      <td>COUPLES</td>\n",
       "      <td>Quảng Ngãi</td>\n",
       "      <td>stayed here for one night while passing throug...</td>\n",
       "      <td>[[stay, one, night, pass], [room, clean, tidy,...</td>\n",
       "    </tr>\n",
       "    <tr>\n",
       "      <th>3</th>\n",
       "      <td>2018-10-04</td>\n",
       "      <td>2018-09-30</td>\n",
       "      <td>Hana Riverside Villa</td>\n",
       "      <td>5</td>\n",
       "      <td>0</td>\n",
       "      <td>Kinda difficult to find but we had a great sta...</td>\n",
       "      <td>COUPLES</td>\n",
       "      <td>Quảng Ngãi</td>\n",
       "      <td>kind of difficult to find but we had a great s...</td>\n",
       "      <td>[[kind, difficult, find, great, stay], [place,...</td>\n",
       "    </tr>\n",
       "    <tr>\n",
       "      <th>4</th>\n",
       "      <td>2020-03-10</td>\n",
       "      <td>2020-03-31</td>\n",
       "      <td>Cocoland River Beach Resort &amp; Spa</td>\n",
       "      <td>1</td>\n",
       "      <td>1</td>\n",
       "      <td>Don’t go to this place. The manager is a liar....</td>\n",
       "      <td>COUPLES</td>\n",
       "      <td>Quảng Ngãi</td>\n",
       "      <td>do not go to this place. the manager is a liar...</td>\n",
       "      <td>[[not, go, place], [manager, liar], [first, re...</td>\n",
       "    </tr>\n",
       "  </tbody>\n",
       "</table>\n",
       "</div>"
      ],
      "text/plain": [
       "  createdDate    stayDate                          hotelName  rating  \\\n",
       "0  2020-07-14  2020-02-29               Hana Riverside Villa       4   \n",
       "1  2020-02-18  2020-02-29               Hana Riverside Villa       5   \n",
       "2  2019-09-17  2019-09-30               Hana Riverside Villa       4   \n",
       "3  2018-10-04  2018-09-30               Hana Riverside Villa       5   \n",
       "4  2020-03-10  2020-03-31  Cocoland River Beach Resort & Spa       1   \n",
       "\n",
       "   helpfulVotes                                               text tripType  \\\n",
       "0             0  Hana Riverside Quang Ngai hotel, - Located in ...     NONE   \n",
       "1             0  Dropped in here for 1 night on my way north. F...     SOLO   \n",
       "2             0  Stayed here for one night while passing throug...  COUPLES   \n",
       "3             0  Kinda difficult to find but we had a great sta...  COUPLES   \n",
       "4             1  Don’t go to this place. The manager is a liar....  COUPLES   \n",
       "\n",
       "      parentGeo                                             text_n  \\\n",
       "0  Quảng Ngãi  hana riverside quang ngai hotel located in a q...   \n",
       "1  Quảng Ngãi  dropped in here for 1 night on my way north. f...   \n",
       "2  Quảng Ngãi  stayed here for one night while passing throug...   \n",
       "3  Quảng Ngãi  kind of difficult to find but we had a great s...   \n",
       "4  Quảng Ngãi  do not go to this place. the manager is a liar...   \n",
       "\n",
       "                                              tokens  \n",
       "0  [[hana, riverside, quang, ngai, hotel, locate,...  \n",
       "1  [[drop, night, way, north], [friendly, helpful...  \n",
       "2  [[stay, one, night, pass], [room, clean, tidy,...  \n",
       "3  [[kind, difficult, find, great, stay], [place,...  \n",
       "4  [[not, go, place], [manager, liar], [first, re...  "
      ]
     },
     "execution_count": 109,
     "metadata": {},
     "output_type": "execute_result"
    }
   ],
   "source": [
    "# import stopwords\n",
    "stop_words = stopwords.words('english')\n",
    "# Additional stop words\n",
    "stop_words = stop_words + ['etc'] \n",
    "\n",
    "# Remove words for negation from the words list\n",
    "words_to_remove = ['no', 'not', 'very']\n",
    "for word in words_to_remove:\n",
    "    try:\n",
    "        stop_words.remove(word)\n",
    "    except:\n",
    "        print(\"Word '\"+ word + \"' not in the list\")\n",
    "\n",
    "# Load sentence tokenizer\n",
    "sent_detector = nltk.data.load('tokenizers/punkt/english.pickle')\n",
    "\n",
    "wnl = WordNetLemmatizer()\n",
    "\n",
    "# Preprocessing of Reviews\n",
    "\n",
    "def extract_tokens(review):\n",
    "    # Convert a document into a list of tokens\n",
    "    # This lowercases, tokenizes, removes numerical values\n",
    "    all_tokens = []\n",
    "    sentences = sent_detector.tokenize(review)\n",
    "    for sentence in sentences:\n",
    "        tokens = simple_preprocess(sentence)\n",
    "        # Apply POS tagging\n",
    "        pos_tags = pos_tag(tokens)\n",
    "\n",
    "        sent_tokens = []\n",
    "\n",
    "        for word, tag in pos_tags:\n",
    "            if word not in stop_words:\n",
    "                # Check if the word is a verb\n",
    "                if tag.startswith('V'):\n",
    "                    # Lemmatize the verb (get base form)\n",
    "                    lemma = WordNetLemmatizer().lemmatize(word, pos='v')\n",
    "                    sent_tokens.append(lemma)\n",
    "                elif tag.startswith('N'):\n",
    "                    # Lemmatize the noun (get base form)\n",
    "                    lemma = WordNetLemmatizer().lemmatize(word, pos='n')\n",
    "                    sent_tokens.append(lemma)\n",
    "                elif tag.startswith('J'):\n",
    "                    # Lemmatize the adjective (get base form)\n",
    "                    lemma = WordNetLemmatizer().lemmatize(word, pos='a')\n",
    "                    sent_tokens.append(lemma)\n",
    "                elif tag.startswith('R'):\n",
    "                    # Lemmatize the adverb (get base form)\n",
    "                    lemma = WordNetLemmatizer().lemmatize(word, pos='r')\n",
    "                    sent_tokens.append(lemma)\n",
    "                else:\n",
    "                    sent_tokens.append(word)  # Keep the rest of tokens as is\n",
    "\n",
    "        all_tokens.append(sent_tokens)\n",
    "    return(all_tokens)\n",
    "\n",
    "\n",
    "# Add tokens columns to the dataframe\n",
    "df['tokens'] = df['text_n'].apply(lambda x: extract_tokens(x))\n",
    "\n",
    "\n",
    "# Print out infromation about articles and number of tokens for top 15\n",
    "print('Tokens groups created:', df.tokens.notna().sum(),'\\n')\n",
    "\n",
    "df.head()"
   ]
  },
  {
   "cell_type": "markdown",
   "id": "99e3e37b",
   "metadata": {},
   "source": [
    "## Number of symbols and words in a review"
   ]
  },
  {
   "cell_type": "code",
   "execution_count": 7,
   "id": "46431c1f",
   "metadata": {},
   "outputs": [],
   "source": [
    "# Function to return number of symbols in text review\n",
    "# Input: text string\n",
    "# Output integer\n",
    "def number_of_symbols(review):\n",
    "    no_symbols = len(review)\n",
    "    return(no_symbols)\n",
    "\n",
    "# Function to return number of words in text review\n",
    "# Input: text string\n",
    "# Output integer\n",
    "def number_of_words(review):\n",
    "    no_words = len(simple_preprocess(review))\n",
    "    return(no_words)"
   ]
  },
  {
   "cell_type": "code",
   "execution_count": 110,
   "id": "e537fa1b",
   "metadata": {},
   "outputs": [
    {
     "data": {
      "text/html": [
       "<div>\n",
       "<style scoped>\n",
       "    .dataframe tbody tr th:only-of-type {\n",
       "        vertical-align: middle;\n",
       "    }\n",
       "\n",
       "    .dataframe tbody tr th {\n",
       "        vertical-align: top;\n",
       "    }\n",
       "\n",
       "    .dataframe thead th {\n",
       "        text-align: right;\n",
       "    }\n",
       "</style>\n",
       "<table border=\"1\" class=\"dataframe\">\n",
       "  <thead>\n",
       "    <tr style=\"text-align: right;\">\n",
       "      <th></th>\n",
       "      <th>no_symbols</th>\n",
       "      <th>no_words</th>\n",
       "      <th>no_sentences</th>\n",
       "    </tr>\n",
       "  </thead>\n",
       "  <tbody>\n",
       "    <tr>\n",
       "      <th>count</th>\n",
       "      <td>32449.000000</td>\n",
       "      <td>32449.000000</td>\n",
       "      <td>32449.000000</td>\n",
       "    </tr>\n",
       "    <tr>\n",
       "      <th>mean</th>\n",
       "      <td>802.398626</td>\n",
       "      <td>140.363709</td>\n",
       "      <td>9.229098</td>\n",
       "    </tr>\n",
       "    <tr>\n",
       "      <th>std</th>\n",
       "      <td>801.680488</td>\n",
       "      <td>141.001467</td>\n",
       "      <td>8.008418</td>\n",
       "    </tr>\n",
       "    <tr>\n",
       "      <th>min</th>\n",
       "      <td>63.000000</td>\n",
       "      <td>10.000000</td>\n",
       "      <td>1.000000</td>\n",
       "    </tr>\n",
       "    <tr>\n",
       "      <th>25%</th>\n",
       "      <td>322.000000</td>\n",
       "      <td>56.000000</td>\n",
       "      <td>5.000000</td>\n",
       "    </tr>\n",
       "    <tr>\n",
       "      <th>50%</th>\n",
       "      <td>552.000000</td>\n",
       "      <td>96.000000</td>\n",
       "      <td>7.000000</td>\n",
       "    </tr>\n",
       "    <tr>\n",
       "      <th>75%</th>\n",
       "      <td>973.000000</td>\n",
       "      <td>171.000000</td>\n",
       "      <td>11.000000</td>\n",
       "    </tr>\n",
       "    <tr>\n",
       "      <th>max</th>\n",
       "      <td>20269.000000</td>\n",
       "      <td>3483.000000</td>\n",
       "      <td>189.000000</td>\n",
       "    </tr>\n",
       "  </tbody>\n",
       "</table>\n",
       "</div>"
      ],
      "text/plain": [
       "         no_symbols      no_words  no_sentences\n",
       "count  32449.000000  32449.000000  32449.000000\n",
       "mean     802.398626    140.363709      9.229098\n",
       "std      801.680488    141.001467      8.008418\n",
       "min       63.000000     10.000000      1.000000\n",
       "25%      322.000000     56.000000      5.000000\n",
       "50%      552.000000     96.000000      7.000000\n",
       "75%      973.000000    171.000000     11.000000\n",
       "max    20269.000000   3483.000000    189.000000"
      ]
     },
     "execution_count": 110,
     "metadata": {},
     "output_type": "execute_result"
    }
   ],
   "source": [
    "# Calculate nuber of symbols, words, and sentences in original review\n",
    "df['no_symbols'] = df['text'].apply(lambda x: number_of_symbols(x))\n",
    "df['no_words'] = df['text'].apply(lambda x: number_of_words(x))\n",
    "df['no_sentences'] = df['text'].apply(lambda x: len(sent_detector.tokenize(x)))\n",
    "df[['no_symbols', 'no_words', 'no_sentences']].describe()"
   ]
  },
  {
   "cell_type": "code",
   "execution_count": 115,
   "id": "851a1a24",
   "metadata": {},
   "outputs": [],
   "source": [
    "# Function calulates confidence interval (by default at 95% level)\n",
    "# Input: array of numeric values\n",
    "# Output: prints mean value, confidence interval and min / max boundry values\n",
    "def conf_interval(array, conf_level = 0.95):\n",
    "    ci_scale = st.t.interval(confidence = conf_level, \n",
    "                  df = len(array) - 1, \n",
    "                  loc = np.mean(array),  \n",
    "                  scale = st.sem(array))\n",
    "    print('Confidence interval with 0.95% conf level:', round(np.mean(array),2), ' +/-', round(np.mean(array) - ci_scale[0],2))\n",
    "    print('Min:', str(round(ci_scale[0], 2)), '; Max:', round(ci_scale[1],2) )"
   ]
  },
  {
   "cell_type": "code",
   "execution_count": 116,
   "id": "148c1565",
   "metadata": {},
   "outputs": [
    {
     "name": "stdout",
     "output_type": "stream",
     "text": [
      "Confidence interval with 0.95% conf level: 802.4  +/- 8.72\n",
      "Min: 793.68 ; Max: 811.12\n"
     ]
    }
   ],
   "source": [
    "conf_interval(df['no_symbols'])"
   ]
  },
  {
   "cell_type": "code",
   "execution_count": 117,
   "id": "1a07411f",
   "metadata": {},
   "outputs": [
    {
     "name": "stdout",
     "output_type": "stream",
     "text": [
      "Confidence interval with 0.95% conf level: 140.36  +/- 1.53\n",
      "Min: 138.83 ; Max: 141.9\n"
     ]
    }
   ],
   "source": [
    "conf_interval(df['no_words'])"
   ]
  },
  {
   "cell_type": "code",
   "execution_count": 118,
   "id": "d187615a",
   "metadata": {},
   "outputs": [
    {
     "name": "stdout",
     "output_type": "stream",
     "text": [
      "Confidence interval with 0.95% conf level: 9.23  +/- 0.09\n",
      "Min: 9.14 ; Max: 9.32\n"
     ]
    }
   ],
   "source": [
    "conf_interval(df['no_sentences'])"
   ]
  },
  {
   "cell_type": "code",
   "execution_count": 119,
   "id": "d0053126",
   "metadata": {},
   "outputs": [
    {
     "data": {
      "image/png": "[encoded data removed]",
      "text/plain": [
       "<Figure size 640x480 with 1 Axes>"
      ]
     },
     "metadata": {},
     "output_type": "display_data"
    }
   ],
   "source": [
    "# Histogram for number of words\n",
    "sns.histplot(df[\"no_words\"], kde=True, bins = 50)\n",
    "plt.xlabel('Number of words')\n",
    "plt.ylabel('Reviews')\n",
    "plt.show()"
   ]
  },
  {
   "cell_type": "code",
   "execution_count": 120,
   "id": "72bb6bc3",
   "metadata": {},
   "outputs": [
    {
     "data": {
      "image/png": "[encoded data removed]",
      "text/plain": [
       "<Figure size 640x480 with 1 Axes>"
      ]
     },
     "metadata": {},
     "output_type": "display_data"
    }
   ],
   "source": [
    "# Histogram for number of sentences\n",
    "sns.histplot(df[\"no_sentences\"], kde=True, bins = 50)\n",
    "plt.xlabel('Number of sentences')\n",
    "plt.ylabel('Reviews')\n",
    "plt.show()"
   ]
  },
  {
   "cell_type": "code",
   "execution_count": 121,
   "id": "ff52e846",
   "metadata": {},
   "outputs": [
    {
     "data": {
      "image/png": "[encoded data removed]",
      "text/plain": [
       "<Figure size 900x500 with 1 Axes>"
      ]
     },
     "metadata": {},
     "output_type": "display_data"
    }
   ],
   "source": [
    "# Median number of words per review by trip type - bar plot\n",
    "plt.figure(figsize=(9,5))\n",
    "ax = sns.barplot(df, x='tripType', y=\"no_words\", estimator=np.median)\n",
    "ax.set_ylabel('Median number of words per review')\n",
    "ax.set_xlabel('Trip type')\n",
    "plt.show()"
   ]
  },
  {
   "cell_type": "code",
   "execution_count": 123,
   "id": "4d36fdaa",
   "metadata": {},
   "outputs": [
    {
     "data": {
      "text/html": [
       "<div>\n",
       "<style scoped>\n",
       "    .dataframe tbody tr th:only-of-type {\n",
       "        vertical-align: middle;\n",
       "    }\n",
       "\n",
       "    .dataframe tbody tr th {\n",
       "        vertical-align: top;\n",
       "    }\n",
       "\n",
       "    .dataframe thead th {\n",
       "        text-align: right;\n",
       "    }\n",
       "</style>\n",
       "<table border=\"1\" class=\"dataframe\">\n",
       "  <thead>\n",
       "    <tr style=\"text-align: right;\">\n",
       "      <th></th>\n",
       "      <th>no_words</th>\n",
       "    </tr>\n",
       "    <tr>\n",
       "      <th>tripType</th>\n",
       "      <th></th>\n",
       "    </tr>\n",
       "  </thead>\n",
       "  <tbody>\n",
       "    <tr>\n",
       "      <th>BUSINESS</th>\n",
       "      <td>66.0</td>\n",
       "    </tr>\n",
       "    <tr>\n",
       "      <th>COUPLES</th>\n",
       "      <td>113.0</td>\n",
       "    </tr>\n",
       "    <tr>\n",
       "      <th>FAMILY</th>\n",
       "      <td>91.0</td>\n",
       "    </tr>\n",
       "    <tr>\n",
       "      <th>FRIENDS</th>\n",
       "      <td>81.0</td>\n",
       "    </tr>\n",
       "    <tr>\n",
       "      <th>NONE</th>\n",
       "      <td>91.0</td>\n",
       "    </tr>\n",
       "    <tr>\n",
       "      <th>SOLO</th>\n",
       "      <td>86.5</td>\n",
       "    </tr>\n",
       "  </tbody>\n",
       "</table>\n",
       "</div>"
      ],
      "text/plain": [
       "          no_words\n",
       "tripType          \n",
       "BUSINESS      66.0\n",
       "COUPLES      113.0\n",
       "FAMILY        91.0\n",
       "FRIENDS       81.0\n",
       "NONE          91.0\n",
       "SOLO          86.5"
      ]
     },
     "execution_count": 123,
     "metadata": {},
     "output_type": "execute_result"
    }
   ],
   "source": [
    "# Median number of words per review by trip type\n",
    "df[['tripType', 'no_words']].groupby('tripType').median()"
   ]
  },
  {
   "cell_type": "markdown",
   "id": "7e02ebf7",
   "metadata": {},
   "source": [
    "# Birgams "
   ]
  },
  {
   "cell_type": "code",
   "execution_count": 124,
   "id": "a2b6abf9",
   "metadata": {},
   "outputs": [
    {
     "name": "stdout",
     "output_type": "stream",
     "text": [
      "Number of unique bigrams in the answers: 806045\n"
     ]
    },
    {
     "data": {
      "text/html": [
       "<div>\n",
       "<style scoped>\n",
       "    .dataframe tbody tr th:only-of-type {\n",
       "        vertical-align: middle;\n",
       "    }\n",
       "\n",
       "    .dataframe tbody tr th {\n",
       "        vertical-align: top;\n",
       "    }\n",
       "\n",
       "    .dataframe thead th {\n",
       "        text-align: right;\n",
       "    }\n",
       "</style>\n",
       "<table border=\"1\" class=\"dataframe\">\n",
       "  <thead>\n",
       "    <tr style=\"text-align: right;\">\n",
       "      <th></th>\n",
       "      <th>bigram</th>\n",
       "      <th>count</th>\n",
       "    </tr>\n",
       "  </thead>\n",
       "  <tbody>\n",
       "    <tr>\n",
       "      <th>0</th>\n",
       "      <td>(very, good)</td>\n",
       "      <td>3209</td>\n",
       "    </tr>\n",
       "    <tr>\n",
       "      <th>1</th>\n",
       "      <td>(come, back)</td>\n",
       "      <td>3133</td>\n",
       "    </tr>\n",
       "    <tr>\n",
       "      <th>2</th>\n",
       "      <td>(staff, very)</td>\n",
       "      <td>2720</td>\n",
       "    </tr>\n",
       "    <tr>\n",
       "      <th>3</th>\n",
       "      <td>(very, nice)</td>\n",
       "      <td>2681</td>\n",
       "    </tr>\n",
       "    <tr>\n",
       "      <th>4</th>\n",
       "      <td>(could, not)</td>\n",
       "      <td>2600</td>\n",
       "    </tr>\n",
       "    <tr>\n",
       "      <th>5</th>\n",
       "      <td>(highly, recommend)</td>\n",
       "      <td>2551</td>\n",
       "    </tr>\n",
       "    <tr>\n",
       "      <th>6</th>\n",
       "      <td>(phu, quoc)</td>\n",
       "      <td>2481</td>\n",
       "    </tr>\n",
       "    <tr>\n",
       "      <th>7</th>\n",
       "      <td>(very, friendly)</td>\n",
       "      <td>2426</td>\n",
       "    </tr>\n",
       "    <tr>\n",
       "      <th>8</th>\n",
       "      <td>(phong, nha)</td>\n",
       "      <td>2155</td>\n",
       "    </tr>\n",
       "    <tr>\n",
       "      <th>9</th>\n",
       "      <td>(stay, night)</td>\n",
       "      <td>1908</td>\n",
       "    </tr>\n",
       "    <tr>\n",
       "      <th>10</th>\n",
       "      <td>(friendly, helpful)</td>\n",
       "      <td>1727</td>\n",
       "    </tr>\n",
       "    <tr>\n",
       "      <th>11</th>\n",
       "      <td>(banyan, tree)</td>\n",
       "      <td>1606</td>\n",
       "    </tr>\n",
       "    <tr>\n",
       "      <th>12</th>\n",
       "      <td>(make, sure)</td>\n",
       "      <td>1561</td>\n",
       "    </tr>\n",
       "    <tr>\n",
       "      <th>13</th>\n",
       "      <td>(private, pool)</td>\n",
       "      <td>1510</td>\n",
       "    </tr>\n",
       "    <tr>\n",
       "      <th>14</th>\n",
       "      <td>(place, stay)</td>\n",
       "      <td>1486</td>\n",
       "    </tr>\n",
       "    <tr>\n",
       "      <th>15</th>\n",
       "      <td>(staff, friendly)</td>\n",
       "      <td>1483</td>\n",
       "    </tr>\n",
       "    <tr>\n",
       "      <th>16</th>\n",
       "      <td>(one, night)</td>\n",
       "      <td>1443</td>\n",
       "    </tr>\n",
       "    <tr>\n",
       "      <th>17</th>\n",
       "      <td>(very, clean)</td>\n",
       "      <td>1397</td>\n",
       "    </tr>\n",
       "    <tr>\n",
       "      <th>18</th>\n",
       "      <td>(nam, hai)</td>\n",
       "      <td>1394</td>\n",
       "    </tr>\n",
       "    <tr>\n",
       "      <th>19</th>\n",
       "      <td>(pool, villa)</td>\n",
       "      <td>1377</td>\n",
       "    </tr>\n",
       "  </tbody>\n",
       "</table>\n",
       "</div>"
      ],
      "text/plain": [
       "                 bigram  count\n",
       "0          (very, good)   3209\n",
       "1          (come, back)   3133\n",
       "2         (staff, very)   2720\n",
       "3          (very, nice)   2681\n",
       "4          (could, not)   2600\n",
       "5   (highly, recommend)   2551\n",
       "6           (phu, quoc)   2481\n",
       "7      (very, friendly)   2426\n",
       "8          (phong, nha)   2155\n",
       "9         (stay, night)   1908\n",
       "10  (friendly, helpful)   1727\n",
       "11       (banyan, tree)   1606\n",
       "12         (make, sure)   1561\n",
       "13      (private, pool)   1510\n",
       "14        (place, stay)   1486\n",
       "15    (staff, friendly)   1483\n",
       "16         (one, night)   1443\n",
       "17        (very, clean)   1397\n",
       "18           (nam, hai)   1394\n",
       "19        (pool, villa)   1377"
      ]
     },
     "execution_count": 124,
     "metadata": {},
     "output_type": "execute_result"
    }
   ],
   "source": [
    "# Create a list of bigrams based on tokens\n",
    "bigrams = [list(nltkbigrams(list(itertools.chain(*review)))) for review in df.tokens]\n",
    "\n",
    "# Flatten list of bigrams\n",
    "bigrams_list = list(itertools.chain(*bigrams))\n",
    "\n",
    "# Create counter of words in bigrams list\n",
    "bigram_counts = Counter(bigrams_list)\n",
    "print('Number of unique bigrams in the answers:', len(bigram_counts))\n",
    "\n",
    "# Dataframe with bigrams sorted by frequency\n",
    "bigram_df = pd.DataFrame(bigram_counts.most_common(300), columns=['bigram', 'count'])\n",
    "bigram_df.head(20)"
   ]
  },
  {
   "cell_type": "code",
   "execution_count": 15,
   "id": "b6246d02",
   "metadata": {},
   "outputs": [],
   "source": [
    "# Export top 300 bigrams to CSV\n",
    "bigram_df.to_csv(\"output/english_bigrams_300.csv\", index = False, header = True)"
   ]
  },
  {
   "cell_type": "code",
   "execution_count": 125,
   "id": "d138c379",
   "metadata": {},
   "outputs": [],
   "source": [
    "# Function to replace tokens with bigrams join by underscore: (one, night) -> one_night\n",
    "# Input: review - list of lists of tokens in a review;\n",
    "# bigrams - list of tuples e.g. ('let', 'us')\n",
    "# Output: list of lists of tokens with bigram matches replaced by two words joint by underscore\n",
    "# based on https://stackoverflow.com/questions/47906952/how-to-replace-bigrams-in-place-using-nltk\n",
    "def bigram_replacement(review, bigrams):\n",
    "    lookup = set(bigrams)\n",
    "    all_tokens = []\n",
    "\n",
    "    for sentence in review:\n",
    "        tokens = []\n",
    "        q_iter = iter(range(len(sentence)))\n",
    "        for idx in q_iter:\n",
    "            tokens.append(sentence[idx])\n",
    "            if idx < (len(sentence) - 1) and (sentence[idx], sentence[idx+1]) in lookup:\n",
    "                tokens[-1] += \"_\" + sentence[idx+1]\n",
    "                next(q_iter)\n",
    "        all_tokens.append(tokens)\n",
    "    return(all_tokens)"
   ]
  },
  {
   "cell_type": "code",
   "execution_count": 130,
   "id": "cd8acc93",
   "metadata": {},
   "outputs": [
    {
     "data": {
      "text/html": [
       "<div>\n",
       "<style scoped>\n",
       "    .dataframe tbody tr th:only-of-type {\n",
       "        vertical-align: middle;\n",
       "    }\n",
       "\n",
       "    .dataframe tbody tr th {\n",
       "        vertical-align: top;\n",
       "    }\n",
       "\n",
       "    .dataframe thead th {\n",
       "        text-align: right;\n",
       "    }\n",
       "</style>\n",
       "<table border=\"1\" class=\"dataframe\">\n",
       "  <thead>\n",
       "    <tr style=\"text-align: right;\">\n",
       "      <th></th>\n",
       "      <th>createdDate</th>\n",
       "      <th>stayDate</th>\n",
       "      <th>hotelName</th>\n",
       "      <th>rating</th>\n",
       "      <th>helpfulVotes</th>\n",
       "      <th>text</th>\n",
       "      <th>tripType</th>\n",
       "      <th>parentGeo</th>\n",
       "      <th>text_n</th>\n",
       "      <th>tokens</th>\n",
       "      <th>no_symbols</th>\n",
       "      <th>no_words</th>\n",
       "      <th>no_sentences</th>\n",
       "      <th>tokens_j</th>\n",
       "    </tr>\n",
       "  </thead>\n",
       "  <tbody>\n",
       "    <tr>\n",
       "      <th>0</th>\n",
       "      <td>2020-07-14</td>\n",
       "      <td>2020-02-29</td>\n",
       "      <td>Hana Riverside Villa</td>\n",
       "      <td>4</td>\n",
       "      <td>0</td>\n",
       "      <td>Hana Riverside Quang Ngai hotel, - Located in ...</td>\n",
       "      <td>NONE</td>\n",
       "      <td>Quảng Ngãi</td>\n",
       "      <td>hana riverside quang ngai hotel located in a q...</td>\n",
       "      <td>[[hana, riverside, quang, ngai, hotel, locate,...</td>\n",
       "      <td>365</td>\n",
       "      <td>60</td>\n",
       "      <td>6</td>\n",
       "      <td>[[hana, riverside, quang, ngai, hotel, locate,...</td>\n",
       "    </tr>\n",
       "    <tr>\n",
       "      <th>1</th>\n",
       "      <td>2020-02-18</td>\n",
       "      <td>2020-02-29</td>\n",
       "      <td>Hana Riverside Villa</td>\n",
       "      <td>5</td>\n",
       "      <td>0</td>\n",
       "      <td>Dropped in here for 1 night on my way north. F...</td>\n",
       "      <td>SOLO</td>\n",
       "      <td>Quảng Ngãi</td>\n",
       "      <td>dropped in here for 1 night on my way north. f...</td>\n",
       "      <td>[[drop, night, way, north], [friendly, helpful...</td>\n",
       "      <td>205</td>\n",
       "      <td>34</td>\n",
       "      <td>4</td>\n",
       "      <td>[[drop, night, way, north], [friendly_helpful,...</td>\n",
       "    </tr>\n",
       "    <tr>\n",
       "      <th>2</th>\n",
       "      <td>2019-09-17</td>\n",
       "      <td>2019-09-30</td>\n",
       "      <td>Hana Riverside Villa</td>\n",
       "      <td>4</td>\n",
       "      <td>0</td>\n",
       "      <td>Stayed here for one night while passing throug...</td>\n",
       "      <td>COUPLES</td>\n",
       "      <td>Quảng Ngãi</td>\n",
       "      <td>stayed here for one night while passing throug...</td>\n",
       "      <td>[[stay, one, night, pass], [room, clean, tidy,...</td>\n",
       "      <td>563</td>\n",
       "      <td>102</td>\n",
       "      <td>6</td>\n",
       "      <td>[[stay_one, night, pass], [room_clean, tidy, k...</td>\n",
       "    </tr>\n",
       "    <tr>\n",
       "      <th>3</th>\n",
       "      <td>2018-10-04</td>\n",
       "      <td>2018-09-30</td>\n",
       "      <td>Hana Riverside Villa</td>\n",
       "      <td>5</td>\n",
       "      <td>0</td>\n",
       "      <td>Kinda difficult to find but we had a great sta...</td>\n",
       "      <td>COUPLES</td>\n",
       "      <td>Quảng Ngãi</td>\n",
       "      <td>kind of difficult to find but we had a great s...</td>\n",
       "      <td>[[kind, difficult, find, great, stay], [place,...</td>\n",
       "      <td>200</td>\n",
       "      <td>39</td>\n",
       "      <td>4</td>\n",
       "      <td>[[kind, difficult, find, great_stay], [place, ...</td>\n",
       "    </tr>\n",
       "    <tr>\n",
       "      <th>4</th>\n",
       "      <td>2020-03-10</td>\n",
       "      <td>2020-03-31</td>\n",
       "      <td>Cocoland River Beach Resort &amp; Spa</td>\n",
       "      <td>1</td>\n",
       "      <td>1</td>\n",
       "      <td>Don’t go to this place. The manager is a liar....</td>\n",
       "      <td>COUPLES</td>\n",
       "      <td>Quảng Ngãi</td>\n",
       "      <td>do not go to this place. the manager is a liar...</td>\n",
       "      <td>[[not, go, place], [manager, liar], [first, re...</td>\n",
       "      <td>1061</td>\n",
       "      <td>199</td>\n",
       "      <td>21</td>\n",
       "      <td>[[not_go, place], [manager, liar], [first, rec...</td>\n",
       "    </tr>\n",
       "  </tbody>\n",
       "</table>\n",
       "</div>"
      ],
      "text/plain": [
       "  createdDate    stayDate                          hotelName  rating  \\\n",
       "0  2020-07-14  2020-02-29               Hana Riverside Villa       4   \n",
       "1  2020-02-18  2020-02-29               Hana Riverside Villa       5   \n",
       "2  2019-09-17  2019-09-30               Hana Riverside Villa       4   \n",
       "3  2018-10-04  2018-09-30               Hana Riverside Villa       5   \n",
       "4  2020-03-10  2020-03-31  Cocoland River Beach Resort & Spa       1   \n",
       "\n",
       "   helpfulVotes                                               text tripType  \\\n",
       "0             0  Hana Riverside Quang Ngai hotel, - Located in ...     NONE   \n",
       "1             0  Dropped in here for 1 night on my way north. F...     SOLO   \n",
       "2             0  Stayed here for one night while passing throug...  COUPLES   \n",
       "3             0  Kinda difficult to find but we had a great sta...  COUPLES   \n",
       "4             1  Don’t go to this place. The manager is a liar....  COUPLES   \n",
       "\n",
       "      parentGeo                                             text_n  \\\n",
       "0  Quảng Ngãi  hana riverside quang ngai hotel located in a q...   \n",
       "1  Quảng Ngãi  dropped in here for 1 night on my way north. f...   \n",
       "2  Quảng Ngãi  stayed here for one night while passing throug...   \n",
       "3  Quảng Ngãi  kind of difficult to find but we had a great s...   \n",
       "4  Quảng Ngãi  do not go to this place. the manager is a liar...   \n",
       "\n",
       "                                              tokens  no_symbols  no_words  \\\n",
       "0  [[hana, riverside, quang, ngai, hotel, locate,...         365        60   \n",
       "1  [[drop, night, way, north], [friendly, helpful...         205        34   \n",
       "2  [[stay, one, night, pass], [room, clean, tidy,...         563       102   \n",
       "3  [[kind, difficult, find, great, stay], [place,...         200        39   \n",
       "4  [[not, go, place], [manager, liar], [first, re...        1061       199   \n",
       "\n",
       "   no_sentences                                           tokens_j  \n",
       "0             6  [[hana, riverside, quang, ngai, hotel, locate,...  \n",
       "1             4  [[drop, night, way, north], [friendly_helpful,...  \n",
       "2             6  [[stay_one, night, pass], [room_clean, tidy, k...  \n",
       "3             4  [[kind, difficult, find, great_stay], [place, ...  \n",
       "4            21  [[not_go, place], [manager, liar], [first, rec...  "
      ]
     },
     "execution_count": 130,
     "metadata": {},
     "output_type": "execute_result"
    }
   ],
   "source": [
    "# Top-300 bigrams\n",
    "top_n = bigram_df['bigram'].iloc[:300]\n",
    "\n",
    "# Adding a column with joint tokens based on bigrams\n",
    "df['tokens_j'] = df['tokens'].apply(lambda x: bigram_replacement(x, top_n))\n",
    "df.head()"
   ]
  },
  {
   "cell_type": "markdown",
   "id": "7ec18efa",
   "metadata": {},
   "source": [
    "# Search for aspects from the list"
   ]
  },
  {
   "cell_type": "code",
   "execution_count": 126,
   "id": "7ca48c8b",
   "metadata": {},
   "outputs": [],
   "source": [
    "# Function to detect aspect words in a list of tokens and save them in to a list\n",
    "# if no askpect words are detected the ist is empty\n",
    "# Input: review - list of list of tokens\n",
    "#        aspect_words - list of words that identify aspect\n",
    "# Output: list of aspect words found\n",
    "def aspect_word_detection(review, aspect_words):\n",
    "    aspect_tokens = []\n",
    "    for sent in review:\n",
    "        common_words = set(sent) & set(aspect_words)\n",
    "        if len(common_words) > 0:\n",
    "            aspect_tokens = aspect_tokens + list(common_words)\n",
    "    if len(aspect_tokens) == 0:\n",
    "        aspect_tokens = 0\n",
    "    return(aspect_tokens)"
   ]
  },
  {
   "cell_type": "code",
   "execution_count": 131,
   "id": "7b54300a",
   "metadata": {},
   "outputs": [
    {
     "data": {
      "text/html": [
       "<div>\n",
       "<style scoped>\n",
       "    .dataframe tbody tr th:only-of-type {\n",
       "        vertical-align: middle;\n",
       "    }\n",
       "\n",
       "    .dataframe tbody tr th {\n",
       "        vertical-align: top;\n",
       "    }\n",
       "\n",
       "    .dataframe thead th {\n",
       "        text-align: right;\n",
       "    }\n",
       "</style>\n",
       "<table border=\"1\" class=\"dataframe\">\n",
       "  <thead>\n",
       "    <tr style=\"text-align: right;\">\n",
       "      <th></th>\n",
       "      <th>createdDate</th>\n",
       "      <th>stayDate</th>\n",
       "      <th>hotelName</th>\n",
       "      <th>rating</th>\n",
       "      <th>helpfulVotes</th>\n",
       "      <th>text</th>\n",
       "      <th>tripType</th>\n",
       "      <th>parentGeo</th>\n",
       "      <th>text_n</th>\n",
       "      <th>tokens</th>\n",
       "      <th>...</th>\n",
       "      <th>no_words</th>\n",
       "      <th>no_sentences</th>\n",
       "      <th>tokens_j</th>\n",
       "      <th>location</th>\n",
       "      <th>cleanliness</th>\n",
       "      <th>comfort</th>\n",
       "      <th>facilities</th>\n",
       "      <th>service</th>\n",
       "      <th>value</th>\n",
       "      <th>food_and_beverage</th>\n",
       "    </tr>\n",
       "  </thead>\n",
       "  <tbody>\n",
       "    <tr>\n",
       "      <th>0</th>\n",
       "      <td>2020-07-14</td>\n",
       "      <td>2020-02-29</td>\n",
       "      <td>Hana Riverside Villa</td>\n",
       "      <td>4</td>\n",
       "      <td>0</td>\n",
       "      <td>Hana Riverside Quang Ngai hotel, - Located in ...</td>\n",
       "      <td>NONE</td>\n",
       "      <td>Quảng Ngãi</td>\n",
       "      <td>hana riverside quang ngai hotel located in a q...</td>\n",
       "      <td>[[hana, riverside, quang, ngai, hotel, locate,...</td>\n",
       "      <td>...</td>\n",
       "      <td>60</td>\n",
       "      <td>6</td>\n",
       "      <td>[[hana, riverside, quang, ngai, hotel, locate,...</td>\n",
       "      <td>[river, area, city]</td>\n",
       "      <td>[clean, dusty]</td>\n",
       "      <td>[quiet, sleep, night]</td>\n",
       "      <td>[villa, hotel, spacious, room, hotel]</td>\n",
       "      <td>[friendly_staff]</td>\n",
       "      <td>0</td>\n",
       "      <td>0</td>\n",
       "    </tr>\n",
       "    <tr>\n",
       "      <th>1</th>\n",
       "      <td>2020-02-18</td>\n",
       "      <td>2020-02-29</td>\n",
       "      <td>Hana Riverside Villa</td>\n",
       "      <td>5</td>\n",
       "      <td>0</td>\n",
       "      <td>Dropped in here for 1 night on my way north. F...</td>\n",
       "      <td>SOLO</td>\n",
       "      <td>Quảng Ngãi</td>\n",
       "      <td>dropped in here for 1 night on my way north. f...</td>\n",
       "      <td>[[drop, night, way, north], [friendly, helpful...</td>\n",
       "      <td>...</td>\n",
       "      <td>34</td>\n",
       "      <td>4</td>\n",
       "      <td>[[drop, night, way, north], [friendly_helpful,...</td>\n",
       "      <td>0</td>\n",
       "      <td>[clean]</td>\n",
       "      <td>[night, night]</td>\n",
       "      <td>[spacious, room]</td>\n",
       "      <td>[staff, friendly_helpful]</td>\n",
       "      <td>0</td>\n",
       "      <td>[seafood]</td>\n",
       "    </tr>\n",
       "    <tr>\n",
       "      <th>2</th>\n",
       "      <td>2019-09-17</td>\n",
       "      <td>2019-09-30</td>\n",
       "      <td>Hana Riverside Villa</td>\n",
       "      <td>4</td>\n",
       "      <td>0</td>\n",
       "      <td>Stayed here for one night while passing throug...</td>\n",
       "      <td>COUPLES</td>\n",
       "      <td>Quảng Ngãi</td>\n",
       "      <td>stayed here for one night while passing throug...</td>\n",
       "      <td>[[stay, one, night, pass], [room, clean, tidy,...</td>\n",
       "      <td>...</td>\n",
       "      <td>102</td>\n",
       "      <td>6</td>\n",
       "      <td>[[stay_one, night, pass], [room_clean, tidy, k...</td>\n",
       "      <td>[location]</td>\n",
       "      <td>[tidy, room_clean, nice_clean]</td>\n",
       "      <td>[night, bed, wake, comfy, night]</td>\n",
       "      <td>[bathroom, accommodation]</td>\n",
       "      <td>0</td>\n",
       "      <td>0</td>\n",
       "      <td>[food, dinner]</td>\n",
       "    </tr>\n",
       "    <tr>\n",
       "      <th>3</th>\n",
       "      <td>2018-10-04</td>\n",
       "      <td>2018-09-30</td>\n",
       "      <td>Hana Riverside Villa</td>\n",
       "      <td>5</td>\n",
       "      <td>0</td>\n",
       "      <td>Kinda difficult to find but we had a great sta...</td>\n",
       "      <td>COUPLES</td>\n",
       "      <td>Quảng Ngãi</td>\n",
       "      <td>kind of difficult to find but we had a great s...</td>\n",
       "      <td>[[kind, difficult, find, great, stay], [place,...</td>\n",
       "      <td>...</td>\n",
       "      <td>39</td>\n",
       "      <td>4</td>\n",
       "      <td>[[kind, difficult, find, great_stay], [place, ...</td>\n",
       "      <td>[place, city, far, city]</td>\n",
       "      <td>0</td>\n",
       "      <td>0</td>\n",
       "      <td>0</td>\n",
       "      <td>[kind, staff]</td>\n",
       "      <td>0</td>\n",
       "      <td>[food]</td>\n",
       "    </tr>\n",
       "    <tr>\n",
       "      <th>4</th>\n",
       "      <td>2020-03-10</td>\n",
       "      <td>2020-03-31</td>\n",
       "      <td>Cocoland River Beach Resort &amp; Spa</td>\n",
       "      <td>1</td>\n",
       "      <td>1</td>\n",
       "      <td>Don’t go to this place. The manager is a liar....</td>\n",
       "      <td>COUPLES</td>\n",
       "      <td>Quảng Ngãi</td>\n",
       "      <td>do not go to this place. the manager is a liar...</td>\n",
       "      <td>[[not, go, place], [manager, liar], [first, re...</td>\n",
       "      <td>...</td>\n",
       "      <td>199</td>\n",
       "      <td>21</td>\n",
       "      <td>[[not_go, place], [manager, liar], [first, rec...</td>\n",
       "      <td>[place, far]</td>\n",
       "      <td>0</td>\n",
       "      <td>[comfortable]</td>\n",
       "      <td>[bungalow, view, bungalow, pool]</td>\n",
       "      <td>[manager, person, reception, manager, service]</td>\n",
       "      <td>[expensive, expensive, price, pay, price, pric...</td>\n",
       "      <td>[food]</td>\n",
       "    </tr>\n",
       "  </tbody>\n",
       "</table>\n",
       "<p>5 rows × 21 columns</p>\n",
       "</div>"
      ],
      "text/plain": [
       "  createdDate    stayDate                          hotelName  rating  \\\n",
       "0  2020-07-14  2020-02-29               Hana Riverside Villa       4   \n",
       "1  2020-02-18  2020-02-29               Hana Riverside Villa       5   \n",
       "2  2019-09-17  2019-09-30               Hana Riverside Villa       4   \n",
       "3  2018-10-04  2018-09-30               Hana Riverside Villa       5   \n",
       "4  2020-03-10  2020-03-31  Cocoland River Beach Resort & Spa       1   \n",
       "\n",
       "   helpfulVotes                                               text tripType  \\\n",
       "0             0  Hana Riverside Quang Ngai hotel, - Located in ...     NONE   \n",
       "1             0  Dropped in here for 1 night on my way north. F...     SOLO   \n",
       "2             0  Stayed here for one night while passing throug...  COUPLES   \n",
       "3             0  Kinda difficult to find but we had a great sta...  COUPLES   \n",
       "4             1  Don’t go to this place. The manager is a liar....  COUPLES   \n",
       "\n",
       "      parentGeo                                             text_n  \\\n",
       "0  Quảng Ngãi  hana riverside quang ngai hotel located in a q...   \n",
       "1  Quảng Ngãi  dropped in here for 1 night on my way north. f...   \n",
       "2  Quảng Ngãi  stayed here for one night while passing throug...   \n",
       "3  Quảng Ngãi  kind of difficult to find but we had a great s...   \n",
       "4  Quảng Ngãi  do not go to this place. the manager is a liar...   \n",
       "\n",
       "                                              tokens  ...  no_words  \\\n",
       "0  [[hana, riverside, quang, ngai, hotel, locate,...  ...        60   \n",
       "1  [[drop, night, way, north], [friendly, helpful...  ...        34   \n",
       "2  [[stay, one, night, pass], [room, clean, tidy,...  ...       102   \n",
       "3  [[kind, difficult, find, great, stay], [place,...  ...        39   \n",
       "4  [[not, go, place], [manager, liar], [first, re...  ...       199   \n",
       "\n",
       "   no_sentences                                           tokens_j  \\\n",
       "0             6  [[hana, riverside, quang, ngai, hotel, locate,...   \n",
       "1             4  [[drop, night, way, north], [friendly_helpful,...   \n",
       "2             6  [[stay_one, night, pass], [room_clean, tidy, k...   \n",
       "3             4  [[kind, difficult, find, great_stay], [place, ...   \n",
       "4            21  [[not_go, place], [manager, liar], [first, rec...   \n",
       "\n",
       "                   location                     cleanliness  \\\n",
       "0       [river, area, city]                  [clean, dusty]   \n",
       "1                         0                         [clean]   \n",
       "2                [location]  [tidy, room_clean, nice_clean]   \n",
       "3  [place, city, far, city]                               0   \n",
       "4              [place, far]                               0   \n",
       "\n",
       "                            comfort                             facilities  \\\n",
       "0             [quiet, sleep, night]  [villa, hotel, spacious, room, hotel]   \n",
       "1                    [night, night]                       [spacious, room]   \n",
       "2  [night, bed, wake, comfy, night]              [bathroom, accommodation]   \n",
       "3                                 0                                      0   \n",
       "4                     [comfortable]       [bungalow, view, bungalow, pool]   \n",
       "\n",
       "                                          service  \\\n",
       "0                                [friendly_staff]   \n",
       "1                       [staff, friendly_helpful]   \n",
       "2                                               0   \n",
       "3                                   [kind, staff]   \n",
       "4  [manager, person, reception, manager, service]   \n",
       "\n",
       "                                               value food_and_beverage  \n",
       "0                                                  0                 0  \n",
       "1                                                  0         [seafood]  \n",
       "2                                                  0    [food, dinner]  \n",
       "3                                                  0            [food]  \n",
       "4  [expensive, expensive, price, pay, price, pric...            [food]  \n",
       "\n",
       "[5 rows x 21 columns]"
      ]
     },
     "execution_count": 131,
     "metadata": {},
     "output_type": "execute_result"
    }
   ],
   "source": [
    "# Going through all aspects and searching for askect words in in reviews\n",
    "for index,row in aspect_list_df.iterrows():\n",
    "    # Select a particuar aspect\n",
    "    aspect_words = list(aspect_df[aspect_df['aspect_no'] == index]['keywords'])\n",
    "    \n",
    "    new_column_name = row['aspect'].lower()\n",
    "    # Apply the function to the 'tokens' column using vectorization\n",
    "    df[new_column_name] = df['tokens_j'].apply(aspect_word_detection, args=(aspect_words,))\n",
    "df.head()"
   ]
  },
  {
   "cell_type": "code",
   "execution_count": 132,
   "id": "a32e419d",
   "metadata": {},
   "outputs": [
    {
     "name": "stdout",
     "output_type": "stream",
     "text": [
      "Number of reviews without aspects identified: 27\n",
      "Reviews without aspects identified from total: 0.08 %\n",
      "\n",
      " I was only halfway my bicycle trip that day, but the nice atmosphere kept me from going further. I had to stay at coco beachresort! Thnx for changing my schedule;) they have nice backpacker dollardeals. keep up the good work!\n",
      "\n",
      " If possible this trip is a must do. A great finish to our independent cycling tour dropped with our biked in central HCMC! Interesting and exciting with boats everywhere almost like HCMC traffic except on water. Such an adventure the highlight of our cycling trip to SE Asia.\n",
      "\n",
      " I believe this is the best place to stay, especially when the weather is nice. It has a great holiday feeling. The people are the best. Hostes Lam, Tao and Sun are lovely, they really want to help you and have a great time. Also, try the BBQ! It's amazing.\n",
      "\n",
      " We had the pleasure of following yoga in a small class. Anastasia is a wonderful teacher. She encouraged us with the yoga practice. It was just what we needed. We felt great after taking her classes. We recommend it to everyone who stays in Nguyen Shack. Katrien and Dominique (Belgium)\n",
      "\n",
      " 풀빌라가 너무 좋았고 작은 수영장이 있어서 수영하면서 놀기 좋고 직원분들이 너무 친절하게 대해주셔서 좋았다. Mr.Son, Ms.Trang and Ms.Quynh is so cute. 빈펄 랜드에 정말 재밌는 놀이기구가 많은데 사람들이 많지 않아서 많이 기다리지않고 바로바로 탈 수 있고 생각보다 놀이기구가 너무 재밌었고 빈펄랜드 직원 중에 To truong hurong dan 이라는 분께서 정말 친절하고 잘 해주셔서 정말 감사했다\n",
      "\n",
      " Went for a family holiday to Phu Quoc and had no idea what to expect but put simply - everyone needs to go there and stay at this hotel!! We had the most amazing time and the Raddison was the just the best in every way\n",
      "\n",
      " Toi co nghi Duong tai vinpearn Tay Ninh 1 dem va toi rat hai long voi moi thu o day. Phuc vu, an uong, phong ngu. Moi thu rat sach se. Everything so exited. I will come back soon. Thank You Thao. 😍😍😍\n",
      "\n",
      " Quang Tri privince Viet Nam in the 1968 to 1972 was damaged alot during the American war . we went to the Vinh Moc tunnels . we appreciated the vietnamese very much . They built the underground passage and was living there to anti the us , they are very ingenious. it must see .\n",
      "\n",
      " 私はベトナムにしゅっちょしました、 サ-ビスホテルはとても気配りがあります 良いcovid予防です。ホテルに食べ物はとても美味しいです、それともへやもきれい、ほんとにありがとうございました、i really feel relaxed with beauty landscape. i hope i can comeback hatinh one more time with my beloved family\n",
      "\n",
      " Feel like I went back in time to 19th century. So much to see and learn. To me, it is a museum. Well done Marriott!!! For preserving all the items in the compound. You must visit to know what I meant.\n",
      "\n",
      " If you want to see how the people really live you need to stay with this group you will appreciate everything you have and find a new found respect for the people I will definitely make another trip here in the future.\n",
      "\n",
      " We visited SSNVB in July 2009 as part of our honeymoon and now came back again after 9 years. Just as fantastic as we remembered it, also when travelling with kids. We have stayed at many 5 star resorts, SSNVB trumps them all\n",
      "\n",
      " What an amazing two days. Great balance - Loads going on. Cliff jumping was one of my favourite time in Vietnam and all the reps were easily the nicest I’ve come across amongst all of the country. Would one hundred percent come again and have recommended to all my friends. Charlie is the boi.\n",
      "\n",
      " One more night! One more night! Thanks Rai, Ash, Florida gal for the country music, and everyone else! Intended to spend a night here and ended up spending 4. Plenty of acitivities day and night, big highlight of Vietnam for me\n",
      "\n",
      " Had a great time here, picked up an injury and Kai was a great help the whole time with ice and a great drinking buddy, anything you need Kai helped greatly, also Camille was. Great help to. Definitely recommend staying here\n",
      "\n",
      " I had a perfect vacation. I will come again! Thank you! 열두개의 수영장에서 프라이빗하게 즐길 수 있었고 깨끗하고 어디서나 카톡으로 연결할 수 있었습니다. 여섯시 넘어서도 가운데 수영장에서 수영할 수 있고 수영장, 바닷가 물이 따뜻해서 딱 좋았습니다. 스태프인 GEN이 우리를 케어해주었고 한국말을 할 수 있어서 편하게 즐길 수 있었습니다! Thank you for GEN!\n",
      "\n",
      " 시설이 너무 좋고 룸 컨디션 매우 청결합니다. 프라이빗 풀장과 메인풀 모두 최고였어요. 샤워시설이 조금 불편하긴 했지만 쓸만합니다. 스파 예약은 미리미리 하시는 걸 추천합니다. 버기는 부르면 10분 이내에 무조건 옵니다. 요가 레슨도 들었는데 자연속에서 너무 편안하고 즐거운 시간이었습니다. 직원들이 모두 너무 친절하고 영어가 잘 통해서 편했습니다. 저희 담당 직원이었던 jason은 카카오톡으로 24시간 저희와 소통해주었습니다. 그의 친절한 서비스 덕분에 잘 지내다가 왔습니다. Hi jason, Thanks to you, I was able to spend my holiday very happily. It was a perfect and wonderful vacation. I wish I will be there again in the future! thank u. hope you have a great day~\n",
      "\n",
      " 제목에도 썼다시피 벌레가 많구요, 밖에서 들어오는 벌레는 뭐 어쩔수없지만 침대에 개미가 있습니다. 샤워기가 없고 위에서 물 떨어지는걸로 샤워해야돼서 좀 불편했어요.. 위치도 시내랑 40분정도 걸려서 차타고 다녔는데도 이동하기 힘들었습니다. 밤에 도로에 불빛이 없어서 운전하기 힘들어요 하루에 한번 스파&마사지 가능한점이 이 리조트의 가장 큰 장점인거같고 , 조식이 맛있고 직원들이 정말정말 친절합니다. 여태까지 가본 여느 숙소에 비해 가장 친절했고 즐거워보여서 저까지 행복했습니다. 메인풀도 너무 잘되어있고 잘 정돈 되어있었어요. 버기도 금방금방 왔고 전체적으로 정말 만족스러웠던 숙소입니다!\n",
      "\n",
      " とても素晴らしい時間を過ごすことができました。 フュージョニスタの皆様のホスピタリティに感動しました。 あいにく雨季で、晴れ間は少なかったですが、それでも楽しむことが出来たのは、フュージョニスタの皆様のお陰です。 また是非訪れたいです。 I was able to have a great time here. I want to visit here again. Thank you very much to everyone of Fusionista!\n",
      "\n",
      " Have some \" doubts\" when writing this review... would prefer this ecolodge to remain mostly unknown but its a gem!!! We spent there 2 nights- refrain from staying less! Preferably stay 3 nights to be able to absorb and hike the region. The resorr is basic but amazingly beautiful and the surroundings amazing!!!!\n",
      "\n",
      " 정말 너무 깨끗하고 조경도 이쁘고 좋은 숙소 였습니다. 숙소에서 제공해주는 다양한 서비스들도 만족스러웠고, 식사나 마사지가 숙소 이용 시 할인되어 부담없이 이용하였습니다. 직원들도 모두 친절하였고, 특히 남자친구가 깜짝 프로포즈 하는데 많은 도움을 주셔서 정말 낭만적인 하루가 될 수 있었어요! Thank you Min! We’ll visit The Anam again soon!\n",
      "\n",
      " Amazing strength these ladies have, so tiny yet so strong! For skill and ability, I would give top marks to them. My husband and I enjoyed couples massage. So relaxing although at times quite painful. The end result was fantastic.\n",
      "\n",
      " It was so wonderful to stay in Nam Hai. I am already planning next stay in Nam Hai The best thing in Nam Hai is they are acting before I move. Everything is well organized and planned. Also your consideration to every single tiny things were excellent. Thanks a lot.\n",
      "\n",
      " All I can say is if you are planning a trip to Hoi An or just want to go somewhere in Vietnam you will be absolutely crazy if you do not stay at The Nam Hai. Simply Bliss.\n",
      "\n",
      " The perfect place for relaxation Will definitely visit again. 가족 여행객에게 최상의 리조트의 입니다. 수영장이 매우 넓고 한적합니다. 키즈클립이 있어서 아이들이 좋아합니다. 각종 체험을 신청할 수 있습니다. 리조트 내에서 버기와 배를 타고 이동이 가능하여 편리합니다. 반얀트리와 같은 단지에 있으며, 추가요금을 내면 반얀트리에서 조식도 가능합니다.\n",
      "\n",
      " It was my second visit. I was so happy that I couldn't have come home. It was great.If you postpone or worry about going here,If you have, don't hesitate to go.If you go there, you'll understand me.\n",
      "\n",
      " They were very fun when you have been included one trip in the calendar at Laguna Lăng Cô. I and my the family that you want to will have the basic cover within the time to. Thanks so much and see your later.\n"
     ]
    }
   ],
   "source": [
    "# Reviews with no aspect\n",
    "condition = (df['location'] == 0) & (df['cleanliness'] == 0) & (df['comfort'] == 0) & (df['facilities'] == 0) & (df['service'] == 0) & (df['value'] == 0) & (df['food_and_beverage'] == 0)\n",
    "\n",
    "no_aspect = len(df[condition])\n",
    "print('Number of reviews without aspects identified:', no_aspect)\n",
    "print('Reviews without aspects identified from total:', round(no_aspect*100 / len(df), 2), \"%\")\n",
    "\n",
    "for review in df[condition]['text']:\n",
    "    print('\\n', review )"
   ]
  },
  {
   "cell_type": "code",
   "execution_count": 133,
   "id": "8cb7aab4",
   "metadata": {},
   "outputs": [
    {
     "name": "stdout",
     "output_type": "stream",
     "text": [
      "Number of reviews with all 7 aspects identified: 2115\n",
      "Reviews with all aspects identified from total: 6.52 %\n"
     ]
    }
   ],
   "source": [
    "# Reviews with all 7 aspects\n",
    "condition = (df['location'] != 0) & (df['cleanliness'] != 0) & (df['comfort'] != 0) & (df['facilities'] != 0) & (df['service'] != 0) & (df['value'] != 0) & (df['food_and_beverage'] != 0)\n",
    "\n",
    "all_aspects = len(df[condition])\n",
    "print('Number of reviews with all 7 aspects identified:', all_aspects)\n",
    "print('Reviews with all aspects identified from total:', round(all_aspects*100 / len(df), 2), \"%\")"
   ]
  },
  {
   "cell_type": "code",
   "execution_count": 134,
   "id": "3eef3744",
   "metadata": {},
   "outputs": [],
   "source": [
    "# Function that calculates number of aspects in a particular review\n",
    "# Input: a row of a dataframe\n",
    "# Output: integer numer of reviews\n",
    "\n",
    "def number_of_aspects(row):\n",
    "    aspects_in_review = 0\n",
    "\n",
    "    if (row['location'] != 0):\n",
    "        aspects_in_review = aspects_in_review + 1\n",
    "    if (row['cleanliness'] != 0):\n",
    "        aspects_in_review = aspects_in_review + 1\n",
    "    if (row['comfort'] != 0):\n",
    "        aspects_in_review = aspects_in_review + 1\n",
    "    if (row['facilities'] != 0):\n",
    "        aspects_in_review = aspects_in_review + 1\n",
    "    if (row['service'] != 0):\n",
    "        aspects_in_review = aspects_in_review + 1\n",
    "    if (row['value'] != 0):\n",
    "        aspects_in_review = aspects_in_review + 1\n",
    "    if (row['food_and_beverage'] != 0):\n",
    "        aspects_in_review = aspects_in_review + 1\n",
    "\n",
    "    return(aspects_in_review)"
   ]
  },
  {
   "cell_type": "code",
   "execution_count": 135,
   "id": "12e1be44",
   "metadata": {},
   "outputs": [
    {
     "data": {
      "text/html": [
       "<div>\n",
       "<style scoped>\n",
       "    .dataframe tbody tr th:only-of-type {\n",
       "        vertical-align: middle;\n",
       "    }\n",
       "\n",
       "    .dataframe tbody tr th {\n",
       "        vertical-align: top;\n",
       "    }\n",
       "\n",
       "    .dataframe thead th {\n",
       "        text-align: right;\n",
       "    }\n",
       "</style>\n",
       "<table border=\"1\" class=\"dataframe\">\n",
       "  <thead>\n",
       "    <tr style=\"text-align: right;\">\n",
       "      <th></th>\n",
       "      <th>createdDate</th>\n",
       "      <th>stayDate</th>\n",
       "      <th>hotelName</th>\n",
       "      <th>rating</th>\n",
       "      <th>helpfulVotes</th>\n",
       "      <th>text</th>\n",
       "      <th>tripType</th>\n",
       "      <th>parentGeo</th>\n",
       "      <th>text_n</th>\n",
       "      <th>tokens</th>\n",
       "      <th>...</th>\n",
       "      <th>no_sentences</th>\n",
       "      <th>tokens_j</th>\n",
       "      <th>location</th>\n",
       "      <th>cleanliness</th>\n",
       "      <th>comfort</th>\n",
       "      <th>facilities</th>\n",
       "      <th>service</th>\n",
       "      <th>value</th>\n",
       "      <th>food_and_beverage</th>\n",
       "      <th>aspect_no</th>\n",
       "    </tr>\n",
       "  </thead>\n",
       "  <tbody>\n",
       "    <tr>\n",
       "      <th>0</th>\n",
       "      <td>2020-07-14</td>\n",
       "      <td>2020-02-29</td>\n",
       "      <td>Hana Riverside Villa</td>\n",
       "      <td>4</td>\n",
       "      <td>0</td>\n",
       "      <td>Hana Riverside Quang Ngai hotel, - Located in ...</td>\n",
       "      <td>NONE</td>\n",
       "      <td>Quảng Ngãi</td>\n",
       "      <td>hana riverside quang ngai hotel located in a q...</td>\n",
       "      <td>[[hana, riverside, quang, ngai, hotel, locate,...</td>\n",
       "      <td>...</td>\n",
       "      <td>6</td>\n",
       "      <td>[[hana, riverside, quang, ngai, hotel, locate,...</td>\n",
       "      <td>[river, area, city]</td>\n",
       "      <td>[clean, dusty]</td>\n",
       "      <td>[quiet, sleep, night]</td>\n",
       "      <td>[villa, hotel, spacious, room, hotel]</td>\n",
       "      <td>[friendly_staff]</td>\n",
       "      <td>0</td>\n",
       "      <td>0</td>\n",
       "      <td>5</td>\n",
       "    </tr>\n",
       "    <tr>\n",
       "      <th>1</th>\n",
       "      <td>2020-02-18</td>\n",
       "      <td>2020-02-29</td>\n",
       "      <td>Hana Riverside Villa</td>\n",
       "      <td>5</td>\n",
       "      <td>0</td>\n",
       "      <td>Dropped in here for 1 night on my way north. F...</td>\n",
       "      <td>SOLO</td>\n",
       "      <td>Quảng Ngãi</td>\n",
       "      <td>dropped in here for 1 night on my way north. f...</td>\n",
       "      <td>[[drop, night, way, north], [friendly, helpful...</td>\n",
       "      <td>...</td>\n",
       "      <td>4</td>\n",
       "      <td>[[drop, night, way, north], [friendly_helpful,...</td>\n",
       "      <td>0</td>\n",
       "      <td>[clean]</td>\n",
       "      <td>[night, night]</td>\n",
       "      <td>[spacious, room]</td>\n",
       "      <td>[staff, friendly_helpful]</td>\n",
       "      <td>0</td>\n",
       "      <td>[seafood]</td>\n",
       "      <td>5</td>\n",
       "    </tr>\n",
       "    <tr>\n",
       "      <th>2</th>\n",
       "      <td>2019-09-17</td>\n",
       "      <td>2019-09-30</td>\n",
       "      <td>Hana Riverside Villa</td>\n",
       "      <td>4</td>\n",
       "      <td>0</td>\n",
       "      <td>Stayed here for one night while passing throug...</td>\n",
       "      <td>COUPLES</td>\n",
       "      <td>Quảng Ngãi</td>\n",
       "      <td>stayed here for one night while passing throug...</td>\n",
       "      <td>[[stay, one, night, pass], [room, clean, tidy,...</td>\n",
       "      <td>...</td>\n",
       "      <td>6</td>\n",
       "      <td>[[stay_one, night, pass], [room_clean, tidy, k...</td>\n",
       "      <td>[location]</td>\n",
       "      <td>[tidy, room_clean, nice_clean]</td>\n",
       "      <td>[night, bed, wake, comfy, night]</td>\n",
       "      <td>[bathroom, accommodation]</td>\n",
       "      <td>0</td>\n",
       "      <td>0</td>\n",
       "      <td>[food, dinner]</td>\n",
       "      <td>5</td>\n",
       "    </tr>\n",
       "    <tr>\n",
       "      <th>3</th>\n",
       "      <td>2018-10-04</td>\n",
       "      <td>2018-09-30</td>\n",
       "      <td>Hana Riverside Villa</td>\n",
       "      <td>5</td>\n",
       "      <td>0</td>\n",
       "      <td>Kinda difficult to find but we had a great sta...</td>\n",
       "      <td>COUPLES</td>\n",
       "      <td>Quảng Ngãi</td>\n",
       "      <td>kind of difficult to find but we had a great s...</td>\n",
       "      <td>[[kind, difficult, find, great, stay], [place,...</td>\n",
       "      <td>...</td>\n",
       "      <td>4</td>\n",
       "      <td>[[kind, difficult, find, great_stay], [place, ...</td>\n",
       "      <td>[place, city, far, city]</td>\n",
       "      <td>0</td>\n",
       "      <td>0</td>\n",
       "      <td>0</td>\n",
       "      <td>[kind, staff]</td>\n",
       "      <td>0</td>\n",
       "      <td>[food]</td>\n",
       "      <td>3</td>\n",
       "    </tr>\n",
       "    <tr>\n",
       "      <th>4</th>\n",
       "      <td>2020-03-10</td>\n",
       "      <td>2020-03-31</td>\n",
       "      <td>Cocoland River Beach Resort &amp; Spa</td>\n",
       "      <td>1</td>\n",
       "      <td>1</td>\n",
       "      <td>Don’t go to this place. The manager is a liar....</td>\n",
       "      <td>COUPLES</td>\n",
       "      <td>Quảng Ngãi</td>\n",
       "      <td>do not go to this place. the manager is a liar...</td>\n",
       "      <td>[[not, go, place], [manager, liar], [first, re...</td>\n",
       "      <td>...</td>\n",
       "      <td>21</td>\n",
       "      <td>[[not_go, place], [manager, liar], [first, rec...</td>\n",
       "      <td>[place, far]</td>\n",
       "      <td>0</td>\n",
       "      <td>[comfortable]</td>\n",
       "      <td>[bungalow, view, bungalow, pool]</td>\n",
       "      <td>[manager, person, reception, manager, service]</td>\n",
       "      <td>[expensive, expensive, price, pay, price, pric...</td>\n",
       "      <td>[food]</td>\n",
       "      <td>6</td>\n",
       "    </tr>\n",
       "  </tbody>\n",
       "</table>\n",
       "<p>5 rows × 22 columns</p>\n",
       "</div>"
      ],
      "text/plain": [
       "  createdDate    stayDate                          hotelName  rating  \\\n",
       "0  2020-07-14  2020-02-29               Hana Riverside Villa       4   \n",
       "1  2020-02-18  2020-02-29               Hana Riverside Villa       5   \n",
       "2  2019-09-17  2019-09-30               Hana Riverside Villa       4   \n",
       "3  2018-10-04  2018-09-30               Hana Riverside Villa       5   \n",
       "4  2020-03-10  2020-03-31  Cocoland River Beach Resort & Spa       1   \n",
       "\n",
       "   helpfulVotes                                               text tripType  \\\n",
       "0             0  Hana Riverside Quang Ngai hotel, - Located in ...     NONE   \n",
       "1             0  Dropped in here for 1 night on my way north. F...     SOLO   \n",
       "2             0  Stayed here for one night while passing throug...  COUPLES   \n",
       "3             0  Kinda difficult to find but we had a great sta...  COUPLES   \n",
       "4             1  Don’t go to this place. The manager is a liar....  COUPLES   \n",
       "\n",
       "      parentGeo                                             text_n  \\\n",
       "0  Quảng Ngãi  hana riverside quang ngai hotel located in a q...   \n",
       "1  Quảng Ngãi  dropped in here for 1 night on my way north. f...   \n",
       "2  Quảng Ngãi  stayed here for one night while passing throug...   \n",
       "3  Quảng Ngãi  kind of difficult to find but we had a great s...   \n",
       "4  Quảng Ngãi  do not go to this place. the manager is a liar...   \n",
       "\n",
       "                                              tokens  ...  no_sentences  \\\n",
       "0  [[hana, riverside, quang, ngai, hotel, locate,...  ...             6   \n",
       "1  [[drop, night, way, north], [friendly, helpful...  ...             4   \n",
       "2  [[stay, one, night, pass], [room, clean, tidy,...  ...             6   \n",
       "3  [[kind, difficult, find, great, stay], [place,...  ...             4   \n",
       "4  [[not, go, place], [manager, liar], [first, re...  ...            21   \n",
       "\n",
       "                                            tokens_j  \\\n",
       "0  [[hana, riverside, quang, ngai, hotel, locate,...   \n",
       "1  [[drop, night, way, north], [friendly_helpful,...   \n",
       "2  [[stay_one, night, pass], [room_clean, tidy, k...   \n",
       "3  [[kind, difficult, find, great_stay], [place, ...   \n",
       "4  [[not_go, place], [manager, liar], [first, rec...   \n",
       "\n",
       "                   location                     cleanliness  \\\n",
       "0       [river, area, city]                  [clean, dusty]   \n",
       "1                         0                         [clean]   \n",
       "2                [location]  [tidy, room_clean, nice_clean]   \n",
       "3  [place, city, far, city]                               0   \n",
       "4              [place, far]                               0   \n",
       "\n",
       "                            comfort                             facilities  \\\n",
       "0             [quiet, sleep, night]  [villa, hotel, spacious, room, hotel]   \n",
       "1                    [night, night]                       [spacious, room]   \n",
       "2  [night, bed, wake, comfy, night]              [bathroom, accommodation]   \n",
       "3                                 0                                      0   \n",
       "4                     [comfortable]       [bungalow, view, bungalow, pool]   \n",
       "\n",
       "                                          service  \\\n",
       "0                                [friendly_staff]   \n",
       "1                       [staff, friendly_helpful]   \n",
       "2                                               0   \n",
       "3                                   [kind, staff]   \n",
       "4  [manager, person, reception, manager, service]   \n",
       "\n",
       "                                               value food_and_beverage  \\\n",
       "0                                                  0                 0   \n",
       "1                                                  0         [seafood]   \n",
       "2                                                  0    [food, dinner]   \n",
       "3                                                  0            [food]   \n",
       "4  [expensive, expensive, price, pay, price, pric...            [food]   \n",
       "\n",
       "  aspect_no  \n",
       "0         5  \n",
       "1         5  \n",
       "2         5  \n",
       "3         3  \n",
       "4         6  \n",
       "\n",
       "[5 rows x 22 columns]"
      ]
     },
     "execution_count": 135,
     "metadata": {},
     "output_type": "execute_result"
    }
   ],
   "source": [
    "# Apply function to add as column with number of aspects identified\n",
    "df['aspect_no'] = df.apply(number_of_aspects, axis = 1)\n",
    "df.head()"
   ]
  },
  {
   "cell_type": "code",
   "execution_count": 136,
   "id": "be507670",
   "metadata": {},
   "outputs": [
    {
     "data": {
      "text/plain": [
       "count    32449.000000\n",
       "mean         4.600481\n",
       "std          1.343113\n",
       "min          0.000000\n",
       "25%          4.000000\n",
       "50%          5.000000\n",
       "75%          6.000000\n",
       "max          7.000000\n",
       "Name: aspect_no, dtype: float64"
      ]
     },
     "execution_count": 136,
     "metadata": {},
     "output_type": "execute_result"
    }
   ],
   "source": [
    "# Descriptive statistics for number of aspects\n",
    "df['aspect_no'].describe()"
   ]
  },
  {
   "cell_type": "code",
   "execution_count": 137,
   "id": "56952dde",
   "metadata": {},
   "outputs": [
    {
     "name": "stdout",
     "output_type": "stream",
     "text": [
      "Confidence interval with 0.95% conf level: 4.6  +/- 0.01\n",
      "Min: 4.59 ; Max: 4.62\n"
     ]
    }
   ],
   "source": [
    "# 95% confidence interval for mean\n",
    "conf_interval(df['aspect_no'])"
   ]
  },
  {
   "cell_type": "code",
   "execution_count": 138,
   "id": "c0047045",
   "metadata": {},
   "outputs": [
    {
     "data": {
      "image/png": "[encoded data removed]",
      "text/plain": [
       "<Figure size 900x700 with 2 Axes>"
      ]
     },
     "metadata": {},
     "output_type": "display_data"
    }
   ],
   "source": [
    "# Correlation matrix\n",
    "corr = df[['rating', 'aspect_no','no_symbols', 'no_words', 'no_sentences', 'helpfulVotes']].corr()\n",
    "mask = np.triu(np.ones_like(corr, dtype=bool))\n",
    "plt.figure(figsize=(9,7))\n",
    "sns.heatmap(corr, mask = mask, annot=True, fmt=\".2f\", cmap=\"crest\", linewidth=.5)\n",
    "plt.xticks(rotation=0)\n",
    "plt.grid(visible = None)\n",
    "plt.show()"
   ]
  },
  {
   "cell_type": "markdown",
   "id": "d37de904",
   "metadata": {},
   "source": [
    "## Aspect frequency"
   ]
  },
  {
   "cell_type": "code",
   "execution_count": 139,
   "id": "cb4cfbec",
   "metadata": {},
   "outputs": [
    {
     "name": "stdout",
     "output_type": "stream",
     "text": [
      "Aspect location is present in 80.32 % of reviews\n",
      "Aspect cleanliness is present in 28.14 % of reviews\n",
      "Aspect comfort is present in 56.99 % of reviews\n",
      "Aspect facilities is present in 91.58 % of reviews\n",
      "Aspect service is present in 91.2 % of reviews\n",
      "Aspect value is present in 34.52 % of reviews\n",
      "Aspect food_and_beverage is present in 77.3 % of reviews\n"
     ]
    },
    {
     "data": {
      "text/html": [
       "<div>\n",
       "<style scoped>\n",
       "    .dataframe tbody tr th:only-of-type {\n",
       "        vertical-align: middle;\n",
       "    }\n",
       "\n",
       "    .dataframe tbody tr th {\n",
       "        vertical-align: top;\n",
       "    }\n",
       "\n",
       "    .dataframe thead th {\n",
       "        text-align: right;\n",
       "    }\n",
       "</style>\n",
       "<table border=\"1\" class=\"dataframe\">\n",
       "  <thead>\n",
       "    <tr style=\"text-align: right;\">\n",
       "      <th></th>\n",
       "      <th>aspect</th>\n",
       "      <th>frequency</th>\n",
       "      <th>share</th>\n",
       "    </tr>\n",
       "  </thead>\n",
       "  <tbody>\n",
       "    <tr>\n",
       "      <th>0</th>\n",
       "      <td>location</td>\n",
       "      <td>26062</td>\n",
       "      <td>80.32</td>\n",
       "    </tr>\n",
       "    <tr>\n",
       "      <th>1</th>\n",
       "      <td>cleanliness</td>\n",
       "      <td>9130</td>\n",
       "      <td>28.14</td>\n",
       "    </tr>\n",
       "    <tr>\n",
       "      <th>2</th>\n",
       "      <td>comfort</td>\n",
       "      <td>18492</td>\n",
       "      <td>56.99</td>\n",
       "    </tr>\n",
       "    <tr>\n",
       "      <th>3</th>\n",
       "      <td>facilities</td>\n",
       "      <td>29718</td>\n",
       "      <td>91.58</td>\n",
       "    </tr>\n",
       "    <tr>\n",
       "      <th>4</th>\n",
       "      <td>service</td>\n",
       "      <td>29595</td>\n",
       "      <td>91.20</td>\n",
       "    </tr>\n",
       "    <tr>\n",
       "      <th>5</th>\n",
       "      <td>value</td>\n",
       "      <td>11200</td>\n",
       "      <td>34.52</td>\n",
       "    </tr>\n",
       "    <tr>\n",
       "      <th>6</th>\n",
       "      <td>food_and_beverage</td>\n",
       "      <td>25084</td>\n",
       "      <td>77.30</td>\n",
       "    </tr>\n",
       "  </tbody>\n",
       "</table>\n",
       "</div>"
      ],
      "text/plain": [
       "              aspect  frequency  share\n",
       "0           location      26062  80.32\n",
       "1        cleanliness       9130  28.14\n",
       "2            comfort      18492  56.99\n",
       "3         facilities      29718  91.58\n",
       "4            service      29595  91.20\n",
       "5              value      11200  34.52\n",
       "6  food_and_beverage      25084  77.30"
      ]
     },
     "execution_count": 139,
     "metadata": {},
     "output_type": "execute_result"
    }
   ],
   "source": [
    "aspect_columns = ['location', 'cleanliness', 'comfort', 'facilities', 'service', 'value',\n",
    "       'food_and_beverage']\n",
    "# Total number of reviews\n",
    "no_of_reviews = len(df)\n",
    "\n",
    "aspect_frequencies = []\n",
    "aspect_shares = []\n",
    "\n",
    "for column in aspect_columns:\n",
    "    # Number of columns where an aspect is present\n",
    "    aspect_present = len(df[df[column] != 0])\n",
    "    aspect_frequencies.append(aspect_present)\n",
    "    aspect_share = round((aspect_present *100)/no_of_reviews,2)\n",
    "    aspect_shares.append(aspect_share)\n",
    "    print('Aspect', column, 'is present in', aspect_share, '% of reviews' )\n",
    "\n",
    "aspect_frequency_df = pd.DataFrame()\n",
    "aspect_frequency_df['aspect'] = aspect_columns\n",
    "aspect_frequency_df['frequency'] = aspect_frequencies\n",
    "aspect_frequency_df['share'] = aspect_shares\n",
    "\n",
    "aspect_frequency_df"
   ]
  },
  {
   "cell_type": "code",
   "execution_count": 140,
   "id": "d007ebca",
   "metadata": {},
   "outputs": [
    {
     "data": {
      "image/png": "[encoded data removed]",
      "text/plain": [
       "<Figure size 1200x600 with 1 Axes>"
      ]
     },
     "metadata": {},
     "output_type": "display_data"
    }
   ],
   "source": [
    "# Bar plot of aspect frequency\n",
    "plt.figure(figsize=(12,6))\n",
    "ax = sns.barplot(aspect_frequency_df, x=\"aspect\", y=\"frequency\")\n",
    "#ax.set_title('Aspect frequency in all reviews')\n",
    "ax.set_ylabel('Number of reviews')\n",
    "ax.set_xlabel('Aspect')\n",
    "plt.show()"
   ]
  },
  {
   "cell_type": "code",
   "execution_count": null,
   "id": "6c1ecfc1",
   "metadata": {},
   "outputs": [],
   "source": [
    "# What are the most popular words within each category?\n",
    "# How many reviews have 0 aspects? how many reviews have all 4 aspects?\n",
    "# How many aspects has a review on average."
   ]
  },
  {
   "cell_type": "code",
   "execution_count": 141,
   "id": "8af2e0a6",
   "metadata": {},
   "outputs": [
    {
     "data": {
      "text/html": [
       "<div>\n",
       "<style scoped>\n",
       "    .dataframe tbody tr th:only-of-type {\n",
       "        vertical-align: middle;\n",
       "    }\n",
       "\n",
       "    .dataframe tbody tr th {\n",
       "        vertical-align: top;\n",
       "    }\n",
       "\n",
       "    .dataframe thead th {\n",
       "        text-align: right;\n",
       "    }\n",
       "</style>\n",
       "<table border=\"1\" class=\"dataframe\">\n",
       "  <thead>\n",
       "    <tr style=\"text-align: right;\">\n",
       "      <th></th>\n",
       "      <th>aspect</th>\n",
       "      <th>frequency</th>\n",
       "      <th>share</th>\n",
       "      <th>none_freq</th>\n",
       "      <th>none_share</th>\n",
       "      <th>solo_freq</th>\n",
       "      <th>solo_share</th>\n",
       "      <th>couples_freq</th>\n",
       "      <th>couples_share</th>\n",
       "      <th>family_freq</th>\n",
       "      <th>family_share</th>\n",
       "      <th>friends_freq</th>\n",
       "      <th>friends_share</th>\n",
       "      <th>business_freq</th>\n",
       "      <th>business_share</th>\n",
       "    </tr>\n",
       "  </thead>\n",
       "  <tbody>\n",
       "    <tr>\n",
       "      <th>0</th>\n",
       "      <td>location</td>\n",
       "      <td>26062</td>\n",
       "      <td>80.32</td>\n",
       "      <td>3289</td>\n",
       "      <td>80.12</td>\n",
       "      <td>1665</td>\n",
       "      <td>81.06</td>\n",
       "      <td>10945</td>\n",
       "      <td>83.21</td>\n",
       "      <td>5900</td>\n",
       "      <td>77.88</td>\n",
       "      <td>3532</td>\n",
       "      <td>78.47</td>\n",
       "      <td>731</td>\n",
       "      <td>68.96</td>\n",
       "    </tr>\n",
       "    <tr>\n",
       "      <th>1</th>\n",
       "      <td>cleanliness</td>\n",
       "      <td>9130</td>\n",
       "      <td>28.14</td>\n",
       "      <td>1128</td>\n",
       "      <td>27.48</td>\n",
       "      <td>642</td>\n",
       "      <td>31.26</td>\n",
       "      <td>3747</td>\n",
       "      <td>28.49</td>\n",
       "      <td>2008</td>\n",
       "      <td>26.50</td>\n",
       "      <td>1294</td>\n",
       "      <td>28.75</td>\n",
       "      <td>311</td>\n",
       "      <td>29.34</td>\n",
       "    </tr>\n",
       "    <tr>\n",
       "      <th>2</th>\n",
       "      <td>comfort</td>\n",
       "      <td>18492</td>\n",
       "      <td>56.99</td>\n",
       "      <td>2220</td>\n",
       "      <td>54.08</td>\n",
       "      <td>1263</td>\n",
       "      <td>61.49</td>\n",
       "      <td>8227</td>\n",
       "      <td>62.55</td>\n",
       "      <td>3771</td>\n",
       "      <td>49.78</td>\n",
       "      <td>2507</td>\n",
       "      <td>55.70</td>\n",
       "      <td>504</td>\n",
       "      <td>47.55</td>\n",
       "    </tr>\n",
       "    <tr>\n",
       "      <th>3</th>\n",
       "      <td>facilities</td>\n",
       "      <td>29718</td>\n",
       "      <td>91.58</td>\n",
       "      <td>3794</td>\n",
       "      <td>92.42</td>\n",
       "      <td>1781</td>\n",
       "      <td>86.71</td>\n",
       "      <td>12266</td>\n",
       "      <td>93.26</td>\n",
       "      <td>6932</td>\n",
       "      <td>91.50</td>\n",
       "      <td>3986</td>\n",
       "      <td>88.56</td>\n",
       "      <td>959</td>\n",
       "      <td>90.47</td>\n",
       "    </tr>\n",
       "    <tr>\n",
       "      <th>4</th>\n",
       "      <td>service</td>\n",
       "      <td>29595</td>\n",
       "      <td>91.20</td>\n",
       "      <td>3700</td>\n",
       "      <td>90.13</td>\n",
       "      <td>1851</td>\n",
       "      <td>90.12</td>\n",
       "      <td>12170</td>\n",
       "      <td>92.53</td>\n",
       "      <td>6932</td>\n",
       "      <td>91.50</td>\n",
       "      <td>4040</td>\n",
       "      <td>89.76</td>\n",
       "      <td>902</td>\n",
       "      <td>85.09</td>\n",
       "    </tr>\n",
       "    <tr>\n",
       "      <th>5</th>\n",
       "      <td>value</td>\n",
       "      <td>11200</td>\n",
       "      <td>34.52</td>\n",
       "      <td>1328</td>\n",
       "      <td>32.35</td>\n",
       "      <td>752</td>\n",
       "      <td>36.61</td>\n",
       "      <td>5264</td>\n",
       "      <td>40.02</td>\n",
       "      <td>2237</td>\n",
       "      <td>29.53</td>\n",
       "      <td>1367</td>\n",
       "      <td>30.37</td>\n",
       "      <td>252</td>\n",
       "      <td>23.77</td>\n",
       "    </tr>\n",
       "    <tr>\n",
       "      <th>6</th>\n",
       "      <td>food_and_beverage</td>\n",
       "      <td>25084</td>\n",
       "      <td>77.30</td>\n",
       "      <td>3102</td>\n",
       "      <td>75.57</td>\n",
       "      <td>1476</td>\n",
       "      <td>71.86</td>\n",
       "      <td>10639</td>\n",
       "      <td>80.89</td>\n",
       "      <td>5755</td>\n",
       "      <td>75.96</td>\n",
       "      <td>3381</td>\n",
       "      <td>75.12</td>\n",
       "      <td>731</td>\n",
       "      <td>68.96</td>\n",
       "    </tr>\n",
       "  </tbody>\n",
       "</table>\n",
       "</div>"
      ],
      "text/plain": [
       "              aspect  frequency  share  none_freq  none_share  solo_freq  \\\n",
       "0           location      26062  80.32       3289       80.12       1665   \n",
       "1        cleanliness       9130  28.14       1128       27.48        642   \n",
       "2            comfort      18492  56.99       2220       54.08       1263   \n",
       "3         facilities      29718  91.58       3794       92.42       1781   \n",
       "4            service      29595  91.20       3700       90.13       1851   \n",
       "5              value      11200  34.52       1328       32.35        752   \n",
       "6  food_and_beverage      25084  77.30       3102       75.57       1476   \n",
       "\n",
       "   solo_share  couples_freq  couples_share  family_freq  family_share  \\\n",
       "0       81.06         10945          83.21         5900         77.88   \n",
       "1       31.26          3747          28.49         2008         26.50   \n",
       "2       61.49          8227          62.55         3771         49.78   \n",
       "3       86.71         12266          93.26         6932         91.50   \n",
       "4       90.12         12170          92.53         6932         91.50   \n",
       "5       36.61          5264          40.02         2237         29.53   \n",
       "6       71.86         10639          80.89         5755         75.96   \n",
       "\n",
       "   friends_freq  friends_share  business_freq  business_share  \n",
       "0          3532          78.47            731           68.96  \n",
       "1          1294          28.75            311           29.34  \n",
       "2          2507          55.70            504           47.55  \n",
       "3          3986          88.56            959           90.47  \n",
       "4          4040          89.76            902           85.09  \n",
       "5          1367          30.37            252           23.77  \n",
       "6          3381          75.12            731           68.96  "
      ]
     },
     "execution_count": 141,
     "metadata": {},
     "output_type": "execute_result"
    }
   ],
   "source": [
    "# Aspect frequency and share by trip type\n",
    "trip_types = list(df['tripType'].unique())\n",
    "aspect_columns = ['location', 'cleanliness', 'comfort', 'facilities', 'service', 'value',\n",
    "       'food_and_beverage']\n",
    "\n",
    "for trtype in trip_types:\n",
    "    trtype_df = df[df['tripType'] == trtype]\n",
    "    \n",
    "    # Total number of reviews per trip type\n",
    "    no_of_reviews = len(trtype_df)\n",
    "\n",
    "    aspect_frequencies = []\n",
    "    aspect_shares = []\n",
    "\n",
    "    for column in aspect_columns:\n",
    "        # Number of columns where an aspect is present\n",
    "        aspect_present = len(trtype_df[trtype_df[column] != 0])\n",
    "        aspect_frequencies.append(aspect_present)\n",
    "        aspect_share = round((aspect_present *100)/no_of_reviews,2)\n",
    "        aspect_shares.append(aspect_share)\n",
    "        #print('For trip type', trtype ,'aspect', column, 'is present in', aspect_share, '% of reviews' )\n",
    "    \n",
    "    column_freq_name = trtype.lower() + '_freq'\n",
    "    column_share_name = trtype.lower() + '_share'\n",
    "    aspect_frequency_df[column_freq_name] = aspect_frequencies\n",
    "    aspect_frequency_df[column_share_name] = aspect_shares\n",
    "\n",
    "aspect_frequency_df"
   ]
  },
  {
   "cell_type": "code",
   "execution_count": 188,
   "id": "72655ea6",
   "metadata": {},
   "outputs": [],
   "source": [
    "# Export aspect frequncy to CSV\n",
    "aspect_frequency_df.to_csv(\"output/aspect_frequency_V2.csv\", index = False, header = True)"
   ]
  },
  {
   "cell_type": "markdown",
   "id": "d099b6fd",
   "metadata": {},
   "source": [
    "### Analysis of aspects by trip type"
   ]
  },
  {
   "cell_type": "code",
   "execution_count": 142,
   "id": "27600c3a",
   "metadata": {},
   "outputs": [
    {
     "data": {
      "image/png": "[encoded data removed]",
      "text/plain": [
       "<Figure size 900x500 with 1 Axes>"
      ]
     },
     "metadata": {},
     "output_type": "display_data"
    }
   ],
   "source": [
    "# Average number of aspects by trip type - plot\n",
    "plt.figure(figsize=(9,5))\n",
    "ax = sns.barplot(df, x='tripType', y=\"aspect_no\", estimator=np.mean)\n",
    "ax.set_ylabel('Mean number of aspects per review')\n",
    "ax.set_xlabel('Trip type')\n",
    "plt.show()"
   ]
  },
  {
   "cell_type": "code",
   "execution_count": 143,
   "id": "c7966e23",
   "metadata": {},
   "outputs": [
    {
     "data": {
      "text/html": [
       "<div>\n",
       "<style scoped>\n",
       "    .dataframe tbody tr th:only-of-type {\n",
       "        vertical-align: middle;\n",
       "    }\n",
       "\n",
       "    .dataframe tbody tr th {\n",
       "        vertical-align: top;\n",
       "    }\n",
       "\n",
       "    .dataframe thead th {\n",
       "        text-align: right;\n",
       "    }\n",
       "</style>\n",
       "<table border=\"1\" class=\"dataframe\">\n",
       "  <thead>\n",
       "    <tr style=\"text-align: right;\">\n",
       "      <th></th>\n",
       "      <th>aspect_no</th>\n",
       "    </tr>\n",
       "    <tr>\n",
       "      <th>tripType</th>\n",
       "      <th></th>\n",
       "    </tr>\n",
       "  </thead>\n",
       "  <tbody>\n",
       "    <tr>\n",
       "      <th>BUSINESS</th>\n",
       "      <td>4.141509</td>\n",
       "    </tr>\n",
       "    <tr>\n",
       "      <th>COUPLES</th>\n",
       "      <td>4.809397</td>\n",
       "    </tr>\n",
       "    <tr>\n",
       "      <th>FAMILY</th>\n",
       "      <td>4.426478</td>\n",
       "    </tr>\n",
       "    <tr>\n",
       "      <th>FRIENDS</th>\n",
       "      <td>4.467230</td>\n",
       "    </tr>\n",
       "    <tr>\n",
       "      <th>NONE</th>\n",
       "      <td>4.521559</td>\n",
       "    </tr>\n",
       "    <tr>\n",
       "      <th>SOLO</th>\n",
       "      <td>4.591042</td>\n",
       "    </tr>\n",
       "  </tbody>\n",
       "</table>\n",
       "</div>"
      ],
      "text/plain": [
       "          aspect_no\n",
       "tripType           \n",
       "BUSINESS   4.141509\n",
       "COUPLES    4.809397\n",
       "FAMILY     4.426478\n",
       "FRIENDS    4.467230\n",
       "NONE       4.521559\n",
       "SOLO       4.591042"
      ]
     },
     "execution_count": 143,
     "metadata": {},
     "output_type": "execute_result"
    }
   ],
   "source": [
    "# Average number of aspects by trip type\n",
    "df[['tripType', 'aspect_no']].groupby('tripType').mean()"
   ]
  },
  {
   "cell_type": "code",
   "execution_count": 145,
   "id": "ad7c5772",
   "metadata": {},
   "outputs": [
    {
     "data": {
      "image/png": "[encoded data removed]",
      "text/plain": [
       "<Figure size 900x600 with 1 Axes>"
      ]
     },
     "metadata": {},
     "output_type": "display_data"
    }
   ],
   "source": [
    "# Average number of aspects by user rating - plot\n",
    "plt.figure(figsize=(9,6))\n",
    "ax = sns.barplot(df, x=\"rating\", y=\"aspect_no\")\n",
    "ax.set_ylabel('Mean number of aspects per review')\n",
    "ax.set_xlabel('User rating')\n",
    "plt.show()"
   ]
  },
  {
   "cell_type": "code",
   "execution_count": 144,
   "id": "c64d31af",
   "metadata": {},
   "outputs": [
    {
     "data": {
      "text/html": [
       "<div>\n",
       "<style scoped>\n",
       "    .dataframe tbody tr th:only-of-type {\n",
       "        vertical-align: middle;\n",
       "    }\n",
       "\n",
       "    .dataframe tbody tr th {\n",
       "        vertical-align: top;\n",
       "    }\n",
       "\n",
       "    .dataframe thead th {\n",
       "        text-align: right;\n",
       "    }\n",
       "</style>\n",
       "<table border=\"1\" class=\"dataframe\">\n",
       "  <thead>\n",
       "    <tr style=\"text-align: right;\">\n",
       "      <th></th>\n",
       "      <th>aspect_no</th>\n",
       "    </tr>\n",
       "    <tr>\n",
       "      <th>rating</th>\n",
       "      <th></th>\n",
       "    </tr>\n",
       "  </thead>\n",
       "  <tbody>\n",
       "    <tr>\n",
       "      <th>1</th>\n",
       "      <td>4.687356</td>\n",
       "    </tr>\n",
       "    <tr>\n",
       "      <th>2</th>\n",
       "      <td>4.982724</td>\n",
       "    </tr>\n",
       "    <tr>\n",
       "      <th>3</th>\n",
       "      <td>5.036019</td>\n",
       "    </tr>\n",
       "    <tr>\n",
       "      <th>4</th>\n",
       "      <td>4.898235</td>\n",
       "    </tr>\n",
       "    <tr>\n",
       "      <th>5</th>\n",
       "      <td>4.472818</td>\n",
       "    </tr>\n",
       "  </tbody>\n",
       "</table>\n",
       "</div>"
      ],
      "text/plain": [
       "        aspect_no\n",
       "rating           \n",
       "1        4.687356\n",
       "2        4.982724\n",
       "3        5.036019\n",
       "4        4.898235\n",
       "5        4.472818"
      ]
     },
     "execution_count": 144,
     "metadata": {},
     "output_type": "execute_result"
    }
   ],
   "source": [
    "# Average number of aspects by user rating\n",
    "df[['rating', 'aspect_no']].groupby('rating').mean()"
   ]
  },
  {
   "cell_type": "code",
   "execution_count": 149,
   "id": "c64adc6f",
   "metadata": {},
   "outputs": [
    {
     "data": {
      "image/png": "[encoded data removed]",
      "text/plain": [
       "<Figure size 640x480 with 1 Axes>"
      ]
     },
     "metadata": {},
     "output_type": "display_data"
    }
   ],
   "source": [
    "# Aspect frequency per trip type (for Solo travellers)\n",
    "ax = sns.barplot(aspect_frequency_df, x=\"aspect\", y=\"solo_freq\")\n",
    "ax.set_ylabel('Reviews')\n",
    "ax.set_xlabel('Aspect')\n",
    "plt.show()"
   ]
  },
  {
   "cell_type": "markdown",
   "id": "aab13045",
   "metadata": {},
   "source": [
    "### Analysis of aspects by accommodation category"
   ]
  },
  {
   "cell_type": "code",
   "execution_count": 151,
   "id": "a889eda5",
   "metadata": {},
   "outputs": [
    {
     "name": "stdout",
     "output_type": "stream",
     "text": [
      "Number of accommodations: 946\n"
     ]
    },
    {
     "data": {
      "text/html": [
       "<div>\n",
       "<style scoped>\n",
       "    .dataframe tbody tr th:only-of-type {\n",
       "        vertical-align: middle;\n",
       "    }\n",
       "\n",
       "    .dataframe tbody tr th {\n",
       "        vertical-align: top;\n",
       "    }\n",
       "\n",
       "    .dataframe thead th {\n",
       "        text-align: right;\n",
       "    }\n",
       "</style>\n",
       "<table border=\"1\" class=\"dataframe\">\n",
       "  <thead>\n",
       "    <tr style=\"text-align: right;\">\n",
       "      <th></th>\n",
       "      <th>tripType</th>\n",
       "      <th>hotelName</th>\n",
       "      <th>Count</th>\n",
       "      <th>accom_type</th>\n",
       "      <th>Stars</th>\n",
       "      <th>eng_name</th>\n",
       "    </tr>\n",
       "  </thead>\n",
       "  <tbody>\n",
       "    <tr>\n",
       "      <th>0</th>\n",
       "      <td>COUPLES</td>\n",
       "      <td>Khách sạn Nam Hải Hội An</td>\n",
       "      <td>1024</td>\n",
       "      <td>Resort</td>\n",
       "      <td>5.0</td>\n",
       "      <td>Four Seasons Resort The Nam Hai, Hoi An</td>\n",
       "    </tr>\n",
       "    <tr>\n",
       "      <th>1</th>\n",
       "      <td>COUPLES</td>\n",
       "      <td>Banyan Tree Lang Co</td>\n",
       "      <td>651</td>\n",
       "      <td>Resort</td>\n",
       "      <td>5.0</td>\n",
       "      <td>Banyan Tree Lang Co</td>\n",
       "    </tr>\n",
       "    <tr>\n",
       "      <th>2</th>\n",
       "      <td>FAMILY</td>\n",
       "      <td>Angsana Lang Co Vietnam</td>\n",
       "      <td>579</td>\n",
       "      <td>Resort</td>\n",
       "      <td>5.0</td>\n",
       "      <td>Angsana Lang Co Vietnam</td>\n",
       "    </tr>\n",
       "    <tr>\n",
       "      <th>3</th>\n",
       "      <td>COUPLES</td>\n",
       "      <td>Six Senses Ninh Van Bay</td>\n",
       "      <td>554</td>\n",
       "      <td>Resort</td>\n",
       "      <td>5.0</td>\n",
       "      <td>Six Senses Ninh Van Bay</td>\n",
       "    </tr>\n",
       "    <tr>\n",
       "      <th>4</th>\n",
       "      <td>COUPLES</td>\n",
       "      <td>Phong Nha Farmstay</td>\n",
       "      <td>550</td>\n",
       "      <td>Homestay / Farmstay / House / Lodge / Eco</td>\n",
       "      <td>NaN</td>\n",
       "      <td>Phong Nha Farmstay</td>\n",
       "    </tr>\n",
       "  </tbody>\n",
       "</table>\n",
       "</div>"
      ],
      "text/plain": [
       "  tripType                     hotelName  Count  \\\n",
       "0  COUPLES  Khách sạn Nam Hải Hội An   1024   \n",
       "1  COUPLES           Banyan Tree Lang Co    651   \n",
       "2   FAMILY       Angsana Lang Co Vietnam    579   \n",
       "3  COUPLES       Six Senses Ninh Van Bay    554   \n",
       "4  COUPLES            Phong Nha Farmstay    550   \n",
       "\n",
       "                                  accom_type  Stars  \\\n",
       "0                                     Resort    5.0   \n",
       "1                                     Resort    5.0   \n",
       "2                                     Resort    5.0   \n",
       "3                                     Resort    5.0   \n",
       "4  Homestay / Farmstay / House / Lodge / Eco    NaN   \n",
       "\n",
       "                                  eng_name  \n",
       "0  Four Seasons Resort The Nam Hai, Hoi An  \n",
       "1                      Banyan Tree Lang Co  \n",
       "2                  Angsana Lang Co Vietnam  \n",
       "3                  Six Senses Ninh Van Bay  \n",
       "4                       Phong Nha Farmstay  "
      ]
     },
     "execution_count": 151,
     "metadata": {},
     "output_type": "execute_result"
    }
   ],
   "source": [
    "# Dataframe with hotel names, accommodation type (category) and English name\n",
    "hotels_df = pd.read_csv('input/accom_categories_combined.csv')\n",
    "hotels_df = hotels_df.drop_duplicates(subset=['hotelName'])\n",
    "hotels_df = hotels_df.reset_index(drop = True)\n",
    "hotels_df = hotels_df.rename(columns={\"Type\": \"accom_type\", \"English Name\": \"eng_name\"})\n",
    "print('Number of accommodations:', len(hotels_df))\n",
    "hotels_df.head()"
   ]
  },
  {
   "cell_type": "code",
   "execution_count": 153,
   "id": "44a091ec",
   "metadata": {},
   "outputs": [
    {
     "data": {
      "text/html": [
       "<div>\n",
       "<style scoped>\n",
       "    .dataframe tbody tr th:only-of-type {\n",
       "        vertical-align: middle;\n",
       "    }\n",
       "\n",
       "    .dataframe tbody tr th {\n",
       "        vertical-align: top;\n",
       "    }\n",
       "\n",
       "    .dataframe thead th {\n",
       "        text-align: right;\n",
       "    }\n",
       "</style>\n",
       "<table border=\"1\" class=\"dataframe\">\n",
       "  <thead>\n",
       "    <tr style=\"text-align: right;\">\n",
       "      <th></th>\n",
       "      <th>Count</th>\n",
       "      <th>Reviews</th>\n",
       "    </tr>\n",
       "    <tr>\n",
       "      <th>Accommodation Category</th>\n",
       "      <th></th>\n",
       "      <th></th>\n",
       "    </tr>\n",
       "  </thead>\n",
       "  <tbody>\n",
       "    <tr>\n",
       "      <th>Hotel</th>\n",
       "      <td>386</td>\n",
       "      <td>2504</td>\n",
       "    </tr>\n",
       "    <tr>\n",
       "      <th>Homestay / Farmstay / House / Lodge / Eco</th>\n",
       "      <td>238</td>\n",
       "      <td>2589</td>\n",
       "    </tr>\n",
       "    <tr>\n",
       "      <th>Resort</th>\n",
       "      <td>156</td>\n",
       "      <td>9500</td>\n",
       "    </tr>\n",
       "    <tr>\n",
       "      <th>Guesthouse / Hostel</th>\n",
       "      <td>62</td>\n",
       "      <td>473</td>\n",
       "    </tr>\n",
       "    <tr>\n",
       "      <th>Bungalow / Villa / Retreat</th>\n",
       "      <td>39</td>\n",
       "      <td>490</td>\n",
       "    </tr>\n",
       "  </tbody>\n",
       "</table>\n",
       "</div>"
      ],
      "text/plain": [
       "                                           Count  Reviews\n",
       "Accommodation Category                                   \n",
       "Hotel                                        386     2504\n",
       "Homestay / Farmstay / House / Lodge / Eco    238     2589\n",
       "Resort                                       156     9500\n",
       "Guesthouse / Hostel                           62      473\n",
       "Bungalow / Villa / Retreat                    39      490"
      ]
     },
     "execution_count": 153,
     "metadata": {},
     "output_type": "execute_result"
    }
   ],
   "source": [
    "# Number of accommodations and reviews by category\n",
    "accom_count = hotels_df[['hotelName', 'accom_type']].groupby('accom_type').count()\n",
    "accom_count = accom_count.rename(columns={\"hotelName\": \"Count\"})\n",
    "accom_count.index.names = ['Accommodation Category']\n",
    "accom_count['Reviews'] = hotels_df[['Count', 'accom_type']].groupby('accom_type').sum()\n",
    "accom_count = accom_count.sort_values('Count', ascending = False)\n",
    "accom_count"
   ]
  },
  {
   "cell_type": "code",
   "execution_count": 154,
   "id": "b97811d6",
   "metadata": {},
   "outputs": [
    {
     "data": {
      "text/html": [
       "<div>\n",
       "<style scoped>\n",
       "    .dataframe tbody tr th:only-of-type {\n",
       "        vertical-align: middle;\n",
       "    }\n",
       "\n",
       "    .dataframe tbody tr th {\n",
       "        vertical-align: top;\n",
       "    }\n",
       "\n",
       "    .dataframe thead th {\n",
       "        text-align: right;\n",
       "    }\n",
       "</style>\n",
       "<table border=\"1\" class=\"dataframe\">\n",
       "  <thead>\n",
       "    <tr style=\"text-align: right;\">\n",
       "      <th></th>\n",
       "      <th>createdDate</th>\n",
       "      <th>stayDate</th>\n",
       "      <th>hotelName</th>\n",
       "      <th>rating</th>\n",
       "      <th>helpfulVotes</th>\n",
       "      <th>text</th>\n",
       "      <th>tripType</th>\n",
       "      <th>parentGeo</th>\n",
       "      <th>text_n</th>\n",
       "      <th>tokens</th>\n",
       "      <th>...</th>\n",
       "      <th>location</th>\n",
       "      <th>cleanliness</th>\n",
       "      <th>comfort</th>\n",
       "      <th>facilities</th>\n",
       "      <th>service</th>\n",
       "      <th>value</th>\n",
       "      <th>food_and_beverage</th>\n",
       "      <th>aspect_no</th>\n",
       "      <th>accom_type</th>\n",
       "      <th>eng_name</th>\n",
       "    </tr>\n",
       "  </thead>\n",
       "  <tbody>\n",
       "    <tr>\n",
       "      <th>0</th>\n",
       "      <td>2020-07-14</td>\n",
       "      <td>2020-02-29</td>\n",
       "      <td>Hana Riverside Villa</td>\n",
       "      <td>4</td>\n",
       "      <td>0</td>\n",
       "      <td>Hana Riverside Quang Ngai hotel, - Located in ...</td>\n",
       "      <td>NONE</td>\n",
       "      <td>Quảng Ngãi</td>\n",
       "      <td>hana riverside quang ngai hotel located in a q...</td>\n",
       "      <td>[[hana, riverside, quang, ngai, hotel, locate,...</td>\n",
       "      <td>...</td>\n",
       "      <td>[river, area, city]</td>\n",
       "      <td>[clean, dusty]</td>\n",
       "      <td>[quiet, sleep, night]</td>\n",
       "      <td>[villa, hotel, spacious, room, hotel]</td>\n",
       "      <td>[friendly_staff]</td>\n",
       "      <td>0</td>\n",
       "      <td>0</td>\n",
       "      <td>5</td>\n",
       "      <td>Bungalow / Villa / Retreat</td>\n",
       "      <td>Hana Riverside Villa</td>\n",
       "    </tr>\n",
       "    <tr>\n",
       "      <th>1</th>\n",
       "      <td>2020-02-18</td>\n",
       "      <td>2020-02-29</td>\n",
       "      <td>Hana Riverside Villa</td>\n",
       "      <td>5</td>\n",
       "      <td>0</td>\n",
       "      <td>Dropped in here for 1 night on my way north. F...</td>\n",
       "      <td>SOLO</td>\n",
       "      <td>Quảng Ngãi</td>\n",
       "      <td>dropped in here for 1 night on my way north. f...</td>\n",
       "      <td>[[drop, night, way, north], [friendly, helpful...</td>\n",
       "      <td>...</td>\n",
       "      <td>0</td>\n",
       "      <td>[clean]</td>\n",
       "      <td>[night, night]</td>\n",
       "      <td>[spacious, room]</td>\n",
       "      <td>[staff, friendly_helpful]</td>\n",
       "      <td>0</td>\n",
       "      <td>[seafood]</td>\n",
       "      <td>5</td>\n",
       "      <td>Bungalow / Villa / Retreat</td>\n",
       "      <td>Hana Riverside Villa</td>\n",
       "    </tr>\n",
       "    <tr>\n",
       "      <th>2</th>\n",
       "      <td>2019-09-17</td>\n",
       "      <td>2019-09-30</td>\n",
       "      <td>Hana Riverside Villa</td>\n",
       "      <td>4</td>\n",
       "      <td>0</td>\n",
       "      <td>Stayed here for one night while passing throug...</td>\n",
       "      <td>COUPLES</td>\n",
       "      <td>Quảng Ngãi</td>\n",
       "      <td>stayed here for one night while passing throug...</td>\n",
       "      <td>[[stay, one, night, pass], [room, clean, tidy,...</td>\n",
       "      <td>...</td>\n",
       "      <td>[location]</td>\n",
       "      <td>[tidy, room_clean, nice_clean]</td>\n",
       "      <td>[night, bed, wake, comfy, night]</td>\n",
       "      <td>[bathroom, accommodation]</td>\n",
       "      <td>0</td>\n",
       "      <td>0</td>\n",
       "      <td>[food, dinner]</td>\n",
       "      <td>5</td>\n",
       "      <td>Bungalow / Villa / Retreat</td>\n",
       "      <td>Hana Riverside Villa</td>\n",
       "    </tr>\n",
       "    <tr>\n",
       "      <th>3</th>\n",
       "      <td>2018-10-04</td>\n",
       "      <td>2018-09-30</td>\n",
       "      <td>Hana Riverside Villa</td>\n",
       "      <td>5</td>\n",
       "      <td>0</td>\n",
       "      <td>Kinda difficult to find but we had a great sta...</td>\n",
       "      <td>COUPLES</td>\n",
       "      <td>Quảng Ngãi</td>\n",
       "      <td>kind of difficult to find but we had a great s...</td>\n",
       "      <td>[[kind, difficult, find, great, stay], [place,...</td>\n",
       "      <td>...</td>\n",
       "      <td>[place, city, far, city]</td>\n",
       "      <td>0</td>\n",
       "      <td>0</td>\n",
       "      <td>0</td>\n",
       "      <td>[kind, staff]</td>\n",
       "      <td>0</td>\n",
       "      <td>[food]</td>\n",
       "      <td>3</td>\n",
       "      <td>Bungalow / Villa / Retreat</td>\n",
       "      <td>Hana Riverside Villa</td>\n",
       "    </tr>\n",
       "    <tr>\n",
       "      <th>4</th>\n",
       "      <td>2020-03-10</td>\n",
       "      <td>2020-03-31</td>\n",
       "      <td>Cocoland River Beach Resort &amp; Spa</td>\n",
       "      <td>1</td>\n",
       "      <td>1</td>\n",
       "      <td>Don’t go to this place. The manager is a liar....</td>\n",
       "      <td>COUPLES</td>\n",
       "      <td>Quảng Ngãi</td>\n",
       "      <td>do not go to this place. the manager is a liar...</td>\n",
       "      <td>[[not, go, place], [manager, liar], [first, re...</td>\n",
       "      <td>...</td>\n",
       "      <td>[place, far]</td>\n",
       "      <td>0</td>\n",
       "      <td>[comfortable]</td>\n",
       "      <td>[bungalow, view, bungalow, pool]</td>\n",
       "      <td>[manager, person, reception, manager, service]</td>\n",
       "      <td>[expensive, expensive, price, pay, price, pric...</td>\n",
       "      <td>[food]</td>\n",
       "      <td>6</td>\n",
       "      <td>Resort</td>\n",
       "      <td>Cocoland River Beach Resort &amp; Spa</td>\n",
       "    </tr>\n",
       "  </tbody>\n",
       "</table>\n",
       "<p>5 rows × 24 columns</p>\n",
       "</div>"
      ],
      "text/plain": [
       "  createdDate    stayDate                          hotelName  rating  \\\n",
       "0  2020-07-14  2020-02-29               Hana Riverside Villa       4   \n",
       "1  2020-02-18  2020-02-29               Hana Riverside Villa       5   \n",
       "2  2019-09-17  2019-09-30               Hana Riverside Villa       4   \n",
       "3  2018-10-04  2018-09-30               Hana Riverside Villa       5   \n",
       "4  2020-03-10  2020-03-31  Cocoland River Beach Resort & Spa       1   \n",
       "\n",
       "   helpfulVotes                                               text tripType  \\\n",
       "0             0  Hana Riverside Quang Ngai hotel, - Located in ...     NONE   \n",
       "1             0  Dropped in here for 1 night on my way north. F...     SOLO   \n",
       "2             0  Stayed here for one night while passing throug...  COUPLES   \n",
       "3             0  Kinda difficult to find but we had a great sta...  COUPLES   \n",
       "4             1  Don’t go to this place. The manager is a liar....  COUPLES   \n",
       "\n",
       "      parentGeo                                             text_n  \\\n",
       "0  Quảng Ngãi  hana riverside quang ngai hotel located in a q...   \n",
       "1  Quảng Ngãi  dropped in here for 1 night on my way north. f...   \n",
       "2  Quảng Ngãi  stayed here for one night while passing throug...   \n",
       "3  Quảng Ngãi  kind of difficult to find but we had a great s...   \n",
       "4  Quảng Ngãi  do not go to this place. the manager is a liar...   \n",
       "\n",
       "                                              tokens  ...  \\\n",
       "0  [[hana, riverside, quang, ngai, hotel, locate,...  ...   \n",
       "1  [[drop, night, way, north], [friendly, helpful...  ...   \n",
       "2  [[stay, one, night, pass], [room, clean, tidy,...  ...   \n",
       "3  [[kind, difficult, find, great, stay], [place,...  ...   \n",
       "4  [[not, go, place], [manager, liar], [first, re...  ...   \n",
       "\n",
       "                   location                     cleanliness  \\\n",
       "0       [river, area, city]                  [clean, dusty]   \n",
       "1                         0                         [clean]   \n",
       "2                [location]  [tidy, room_clean, nice_clean]   \n",
       "3  [place, city, far, city]                               0   \n",
       "4              [place, far]                               0   \n",
       "\n",
       "                            comfort                             facilities  \\\n",
       "0             [quiet, sleep, night]  [villa, hotel, spacious, room, hotel]   \n",
       "1                    [night, night]                       [spacious, room]   \n",
       "2  [night, bed, wake, comfy, night]              [bathroom, accommodation]   \n",
       "3                                 0                                      0   \n",
       "4                     [comfortable]       [bungalow, view, bungalow, pool]   \n",
       "\n",
       "                                          service  \\\n",
       "0                                [friendly_staff]   \n",
       "1                       [staff, friendly_helpful]   \n",
       "2                                               0   \n",
       "3                                   [kind, staff]   \n",
       "4  [manager, person, reception, manager, service]   \n",
       "\n",
       "                                               value food_and_beverage  \\\n",
       "0                                                  0                 0   \n",
       "1                                                  0         [seafood]   \n",
       "2                                                  0    [food, dinner]   \n",
       "3                                                  0            [food]   \n",
       "4  [expensive, expensive, price, pay, price, pric...            [food]   \n",
       "\n",
       "  aspect_no                  accom_type                           eng_name  \n",
       "0         5  Bungalow / Villa / Retreat               Hana Riverside Villa  \n",
       "1         5  Bungalow / Villa / Retreat               Hana Riverside Villa  \n",
       "2         5  Bungalow / Villa / Retreat               Hana Riverside Villa  \n",
       "3         3  Bungalow / Villa / Retreat               Hana Riverside Villa  \n",
       "4         6                      Resort  Cocoland River Beach Resort & Spa  \n",
       "\n",
       "[5 rows x 24 columns]"
      ]
     },
     "execution_count": 154,
     "metadata": {},
     "output_type": "execute_result"
    }
   ],
   "source": [
    "# Adding accommodation category and translated hotel name to dataframe\n",
    "df = df.merge(hotels_df[['hotelName', 'accom_type', 'eng_name']], on='hotelName', how='left')\n",
    "df.head()"
   ]
  },
  {
   "cell_type": "code",
   "execution_count": 172,
   "id": "dcf5c79b",
   "metadata": {},
   "outputs": [
    {
     "data": {
      "text/html": [
       "<div>\n",
       "<style scoped>\n",
       "    .dataframe tbody tr th:only-of-type {\n",
       "        vertical-align: middle;\n",
       "    }\n",
       "\n",
       "    .dataframe tbody tr th {\n",
       "        vertical-align: top;\n",
       "    }\n",
       "\n",
       "    .dataframe thead th {\n",
       "        text-align: right;\n",
       "    }\n",
       "</style>\n",
       "<table border=\"1\" class=\"dataframe\">\n",
       "  <thead>\n",
       "    <tr style=\"text-align: right;\">\n",
       "      <th></th>\n",
       "      <th>accom_type</th>\n",
       "      <th>tripType</th>\n",
       "      <th>reviews</th>\n",
       "      <th>hotels</th>\n",
       "      <th>avg_rating</th>\n",
       "      <th>avg_aspect</th>\n",
       "    </tr>\n",
       "  </thead>\n",
       "  <tbody>\n",
       "    <tr>\n",
       "      <th>0</th>\n",
       "      <td>Bungalow / Villa / Retreat</td>\n",
       "      <td>BUSINESS</td>\n",
       "      <td>17</td>\n",
       "      <td>7</td>\n",
       "      <td>4.058824</td>\n",
       "      <td>4.352941</td>\n",
       "    </tr>\n",
       "    <tr>\n",
       "      <th>1</th>\n",
       "      <td>Bungalow / Villa / Retreat</td>\n",
       "      <td>COUPLES</td>\n",
       "      <td>443</td>\n",
       "      <td>33</td>\n",
       "      <td>4.467269</td>\n",
       "      <td>4.772009</td>\n",
       "    </tr>\n",
       "    <tr>\n",
       "      <th>2</th>\n",
       "      <td>Bungalow / Villa / Retreat</td>\n",
       "      <td>FAMILY</td>\n",
       "      <td>171</td>\n",
       "      <td>21</td>\n",
       "      <td>4.192982</td>\n",
       "      <td>4.573099</td>\n",
       "    </tr>\n",
       "    <tr>\n",
       "      <th>3</th>\n",
       "      <td>Bungalow / Villa / Retreat</td>\n",
       "      <td>FRIENDS</td>\n",
       "      <td>223</td>\n",
       "      <td>24</td>\n",
       "      <td>4.497758</td>\n",
       "      <td>4.439462</td>\n",
       "    </tr>\n",
       "    <tr>\n",
       "      <th>4</th>\n",
       "      <td>Bungalow / Villa / Retreat</td>\n",
       "      <td>NONE</td>\n",
       "      <td>173</td>\n",
       "      <td>30</td>\n",
       "      <td>4.502890</td>\n",
       "      <td>4.630058</td>\n",
       "    </tr>\n",
       "  </tbody>\n",
       "</table>\n",
       "</div>"
      ],
      "text/plain": [
       "                   accom_type  tripType  reviews  hotels  avg_rating  \\\n",
       "0  Bungalow / Villa / Retreat  BUSINESS       17       7    4.058824   \n",
       "1  Bungalow / Villa / Retreat   COUPLES      443      33    4.467269   \n",
       "2  Bungalow / Villa / Retreat    FAMILY      171      21    4.192982   \n",
       "3  Bungalow / Villa / Retreat   FRIENDS      223      24    4.497758   \n",
       "4  Bungalow / Villa / Retreat      NONE      173      30    4.502890   \n",
       "\n",
       "   avg_aspect  \n",
       "0    4.352941  \n",
       "1    4.772009  \n",
       "2    4.573099  \n",
       "3    4.439462  \n",
       "4    4.630058  "
      ]
     },
     "execution_count": 172,
     "metadata": {},
     "output_type": "execute_result"
    }
   ],
   "source": [
    "# Create a dataframe with aggregated data for treeplot\n",
    "treeplot_df = df[['accom_type','tripType', 'text', 'hotelName']].groupby(['accom_type','tripType']).nunique()\n",
    "treeplot_df['avg_rating'] = df[['accom_type','tripType', 'rating']].groupby(['accom_type','tripType']).mean()\n",
    "treeplot_df['avg_aspect'] = df[['accom_type','tripType', 'aspect_no']].groupby(['accom_type','tripType']).mean()\n",
    "treeplot_df = treeplot_df.rename(columns={\"text\": \"reviews\", \"hotelName\": \"hotels\"})\n",
    "treeplot_df = treeplot_df.reset_index()\n",
    "treeplot_df.head()"
   ]
  },
  {
   "cell_type": "code",
   "execution_count": 178,
   "id": "a4dec2ea",
   "metadata": {},
   "outputs": [
    {
     "data": {
      "application/vnd.plotly.v1+json": {
       "config": {
        "plotlyServerURL": "https://plot.ly"
       },
       "data": [
        {
         "branchvalues": "total",
         "customdata": [
          [
           4.0588235294117645
          ],
          [
           4.6
          ],
          [
           4.25
          ],
          [
           3.8908382066276803
          ],
          [
           4.545253863134658
          ],
          [
           4.467268623024831
          ],
          [
           4.443729903536977
          ],
          [
           4.562786816854401
          ],
          [
           4.02665910380034
          ],
          [
           4.615733922434953
          ],
          [
           4.192982456140351
          ],
          [
           4.632352941176471
          ],
          [
           4.642129105322764
          ],
          [
           4.275824175824176
          ],
          [
           4.571558630735615
          ],
          [
           4.497757847533633
          ],
          [
           4.539936102236422
          ],
          [
           4.671028037383177
          ],
          [
           4.044235924932976
          ],
          [
           4.56555023923445
          ],
          [
           4.502890173410405
          ],
          [
           4.451219512195122
          ],
          [
           4.603539823008849
          ],
          [
           4.198996655518394
          ],
          [
           4.557987711213518
          ],
          [
           4.764705882352941
          ],
          [
           4.581005586592179
          ],
          [
           4.743390357698289
          ],
          [
           4.102296450939457
          ],
          [
           4.652777777777778
          ],
          [
           4.466895958727429
          ],
          [
           4.516095534787124
          ],
          [
           4.618855106319025
          ],
          [
           4.0884006150136285
          ],
          [
           4.589478792177999
          ],
          [
           4.509748465185646
          ]
         ],
         "domain": {
          "x": [
           0,
           1
          ],
          "y": [
           0,
           1
          ]
         },
         "hovertemplate": "labels=%{label}<br>reviews=%{value}<br>parent=%{parent}<br>id=%{id}<br>avg_rating=%{color}<extra></extra>",
         "ids": [
          "All accommodation/Bungalow / Villa / Retreat/BUSINESS",
          "All accommodation/Guesthouse / Hostel/BUSINESS",
          "All accommodation/Homestay / Farmstay / House / Lodge / Eco/BUSINESS",
          "All accommodation/Hotel/BUSINESS",
          "All accommodation/Resort/BUSINESS",
          "All accommodation/Bungalow / Villa / Retreat/COUPLES",
          "All accommodation/Guesthouse / Hostel/COUPLES",
          "All accommodation/Homestay / Farmstay / House / Lodge / Eco/COUPLES",
          "All accommodation/Hotel/COUPLES",
          "All accommodation/Resort/COUPLES",
          "All accommodation/Bungalow / Villa / Retreat/FAMILY",
          "All accommodation/Guesthouse / Hostel/FAMILY",
          "All accommodation/Homestay / Farmstay / House / Lodge / Eco/FAMILY",
          "All accommodation/Hotel/FAMILY",
          "All accommodation/Resort/FAMILY",
          "All accommodation/Bungalow / Villa / Retreat/FRIENDS",
          "All accommodation/Guesthouse / Hostel/FRIENDS",
          "All accommodation/Homestay / Farmstay / House / Lodge / Eco/FRIENDS",
          "All accommodation/Hotel/FRIENDS",
          "All accommodation/Resort/FRIENDS",
          "All accommodation/Bungalow / Villa / Retreat/NONE",
          "All accommodation/Guesthouse / Hostel/NONE",
          "All accommodation/Homestay / Farmstay / House / Lodge / Eco/NONE",
          "All accommodation/Hotel/NONE",
          "All accommodation/Resort/NONE",
          "All accommodation/Bungalow / Villa / Retreat/SOLO",
          "All accommodation/Guesthouse / Hostel/SOLO",
          "All accommodation/Homestay / Farmstay / House / Lodge / Eco/SOLO",
          "All accommodation/Hotel/SOLO",
          "All accommodation/Resort/SOLO",
          "All accommodation/Bungalow / Villa / Retreat",
          "All accommodation/Guesthouse / Hostel",
          "All accommodation/Homestay / Farmstay / House / Lodge / Eco",
          "All accommodation/Hotel",
          "All accommodation/Resort",
          "All accommodation"
         ],
         "labels": [
          "BUSINESS",
          "BUSINESS",
          "BUSINESS",
          "BUSINESS",
          "BUSINESS",
          "COUPLES",
          "COUPLES",
          "COUPLES",
          "COUPLES",
          "COUPLES",
          "FAMILY",
          "FAMILY",
          "FAMILY",
          "FAMILY",
          "FAMILY",
          "FRIENDS",
          "FRIENDS",
          "FRIENDS",
          "FRIENDS",
          "FRIENDS",
          "NONE",
          "NONE",
          "NONE",
          "NONE",
          "NONE",
          "SOLO",
          "SOLO",
          "SOLO",
          "SOLO",
          "SOLO",
          "Bungalow / Villa / Retreat",
          "Guesthouse / Hostel",
          "Homestay / Farmstay / House / Lodge / Eco",
          "Hotel",
          "Resort",
          "All accommodation"
         ],
         "marker": {
          "coloraxis": "coloraxis",
          "colors": [
           4.0588235294117645,
           4.6,
           4.25,
           3.8908382066276803,
           4.545253863134658,
           4.467268623024831,
           4.443729903536977,
           4.562786816854401,
           4.02665910380034,
           4.615733922434953,
           4.192982456140351,
           4.632352941176471,
           4.642129105322764,
           4.275824175824176,
           4.571558630735615,
           4.497757847533633,
           4.539936102236422,
           4.671028037383177,
           4.044235924932976,
           4.56555023923445,
           4.502890173410405,
           4.451219512195122,
           4.603539823008849,
           4.198996655518394,
           4.557987711213518,
           4.764705882352941,
           4.581005586592179,
           4.743390357698289,
           4.102296450939457,
           4.652777777777778,
           4.466895958727429,
           4.516095534787124,
           4.618855106319025,
           4.0884006150136285,
           4.589478792177999,
           4.509748465185646
          ]
         },
         "name": "",
         "parents": [
          "All accommodation/Bungalow / Villa / Retreat",
          "All accommodation/Guesthouse / Hostel",
          "All accommodation/Homestay / Farmstay / House / Lodge / Eco",
          "All accommodation/Hotel",
          "All accommodation/Resort",
          "All accommodation/Bungalow / Villa / Retreat",
          "All accommodation/Guesthouse / Hostel",
          "All accommodation/Homestay / Farmstay / House / Lodge / Eco",
          "All accommodation/Hotel",
          "All accommodation/Resort",
          "All accommodation/Bungalow / Villa / Retreat",
          "All accommodation/Guesthouse / Hostel",
          "All accommodation/Homestay / Farmstay / House / Lodge / Eco",
          "All accommodation/Hotel",
          "All accommodation/Resort",
          "All accommodation/Bungalow / Villa / Retreat",
          "All accommodation/Guesthouse / Hostel",
          "All accommodation/Homestay / Farmstay / House / Lodge / Eco",
          "All accommodation/Hotel",
          "All accommodation/Resort",
          "All accommodation/Bungalow / Villa / Retreat",
          "All accommodation/Guesthouse / Hostel",
          "All accommodation/Homestay / Farmstay / House / Lodge / Eco",
          "All accommodation/Hotel",
          "All accommodation/Resort",
          "All accommodation/Bungalow / Villa / Retreat",
          "All accommodation/Guesthouse / Hostel",
          "All accommodation/Homestay / Farmstay / House / Lodge / Eco",
          "All accommodation/Hotel",
          "All accommodation/Resort",
          "All accommodation",
          "All accommodation",
          "All accommodation",
          "All accommodation",
          "All accommodation",
          ""
         ],
         "type": "treemap",
         "values": [
          17,
          10,
          36,
          513,
          452,
          443,
          311,
          2397,
          1763,
          8145,
          171,
          68,
          883,
          909,
          5491,
          223,
          313,
          1070,
          746,
          2090,
          173,
          82,
          565,
          598,
          2601,
          136,
          179,
          642,
          478,
          576,
          1163,
          963,
          5593,
          5007,
          19355,
          32081
         ]
        }
       ],
       "layout": {
        "coloraxis": {
         "colorbar": {
          "title": {
           "text": "avg_rating"
          }
         },
         "colorscale": [
          [
           0,
           "rgb(103,0,31)"
          ],
          [
           0.1,
           "rgb(178,24,43)"
          ],
          [
           0.2,
           "rgb(214,96,77)"
          ],
          [
           0.3,
           "rgb(244,165,130)"
          ],
          [
           0.4,
           "rgb(253,219,199)"
          ],
          [
           0.5,
           "rgb(247,247,247)"
          ],
          [
           0.6,
           "rgb(209,229,240)"
          ],
          [
           0.7,
           "rgb(146,197,222)"
          ],
          [
           0.8,
           "rgb(67,147,195)"
          ],
          [
           0.9,
           "rgb(33,102,172)"
          ],
          [
           1,
           "rgb(5,48,97)"
          ]
         ]
        },
        "legend": {
         "tracegroupgap": 0
        },
        "margin": {
         "b": 25,
         "l": 25,
         "r": 25,
         "t": 50
        },
        "template": {
         "data": {
          "bar": [
           {
            "error_x": {
             "color": "#2a3f5f"
            },
            "error_y": {
             "color": "#2a3f5f"
            },
            "marker": {
             "line": {
              "color": "#E5ECF6",
              "width": 0.5
             },
             "pattern": {
              "fillmode": "overlay",
              "size": 10,
              "solidity": 0.2
             }
            },
            "type": "bar"
           }
          ],
          "barpolar": [
           {
            "marker": {
             "line": {
              "color": "#E5ECF6",
              "width": 0.5
             },
             "pattern": {
              "fillmode": "overlay",
              "size": 10,
              "solidity": 0.2
             }
            },
            "type": "barpolar"
           }
          ],
          "carpet": [
           {
            "aaxis": {
             "endlinecolor": "#2a3f5f",
             "gridcolor": "white",
             "linecolor": "white",
             "minorgridcolor": "white",
             "startlinecolor": "#2a3f5f"
            },
            "baxis": {
             "endlinecolor": "#2a3f5f",
             "gridcolor": "white",
             "linecolor": "white",
             "minorgridcolor": "white",
             "startlinecolor": "#2a3f5f"
            },
            "type": "carpet"
           }
          ],
          "choropleth": [
           {
            "colorbar": {
             "outlinewidth": 0,
             "ticks": ""
            },
            "type": "choropleth"
           }
          ],
          "contour": [
           {
            "colorbar": {
             "outlinewidth": 0,
             "ticks": ""
            },
            "colorscale": [
             [
              0,
              "#0d0887"
             ],
             [
              0.1111111111111111,
              "#46039f"
             ],
             [
              0.2222222222222222,
              "#7201a8"
             ],
             [
              0.3333333333333333,
              "#9c179e"
             ],
             [
              0.4444444444444444,
              "#bd3786"
             ],
             [
              0.5555555555555556,
              "#d8576b"
             ],
             [
              0.6666666666666666,
              "#ed7953"
             ],
             [
              0.7777777777777778,
              "#fb9f3a"
             ],
             [
              0.8888888888888888,
              "#fdca26"
             ],
             [
              1,
              "#f0f921"
             ]
            ],
            "type": "contour"
           }
          ],
          "contourcarpet": [
           {
            "colorbar": {
             "outlinewidth": 0,
             "ticks": ""
            },
            "type": "contourcarpet"
           }
          ],
          "heatmap": [
           {
            "colorbar": {
             "outlinewidth": 0,
             "ticks": ""
            },
            "colorscale": [
             [
              0,
              "#0d0887"
             ],
             [
              0.1111111111111111,
              "#46039f"
             ],
             [
              0.2222222222222222,
              "#7201a8"
             ],
             [
              0.3333333333333333,
              "#9c179e"
             ],
             [
              0.4444444444444444,
              "#bd3786"
             ],
             [
              0.5555555555555556,
              "#d8576b"
             ],
             [
              0.6666666666666666,
              "#ed7953"
             ],
             [
              0.7777777777777778,
              "#fb9f3a"
             ],
             [
              0.8888888888888888,
              "#fdca26"
             ],
             [
              1,
              "#f0f921"
             ]
            ],
            "type": "heatmap"
           }
          ],
          "heatmapgl": [
           {
            "colorbar": {
             "outlinewidth": 0,
             "ticks": ""
            },
            "colorscale": [
             [
              0,
              "#0d0887"
             ],
             [
              0.1111111111111111,
              "#46039f"
             ],
             [
              0.2222222222222222,
              "#7201a8"
             ],
             [
              0.3333333333333333,
              "#9c179e"
             ],
             [
              0.4444444444444444,
              "#bd3786"
             ],
             [
              0.5555555555555556,
              "#d8576b"
             ],
             [
              0.6666666666666666,
              "#ed7953"
             ],
             [
              0.7777777777777778,
              "#fb9f3a"
             ],
             [
              0.8888888888888888,
              "#fdca26"
             ],
             [
              1,
              "#f0f921"
             ]
            ],
            "type": "heatmapgl"
           }
          ],
          "histogram": [
           {
            "marker": {
             "pattern": {
              "fillmode": "overlay",
              "size": 10,
              "solidity": 0.2
             }
            },
            "type": "histogram"
           }
          ],
          "histogram2d": [
           {
            "colorbar": {
             "outlinewidth": 0,
             "ticks": ""
            },
            "colorscale": [
             [
              0,
              "#0d0887"
             ],
             [
              0.1111111111111111,
              "#46039f"
             ],
             [
              0.2222222222222222,
              "#7201a8"
             ],
             [
              0.3333333333333333,
              "#9c179e"
             ],
             [
              0.4444444444444444,
              "#bd3786"
             ],
             [
              0.5555555555555556,
              "#d8576b"
             ],
             [
              0.6666666666666666,
              "#ed7953"
             ],
             [
              0.7777777777777778,
              "#fb9f3a"
             ],
             [
              0.8888888888888888,
              "#fdca26"
             ],
             [
              1,
              "#f0f921"
             ]
            ],
            "type": "histogram2d"
           }
          ],
          "histogram2dcontour": [
           {
            "colorbar": {
             "outlinewidth": 0,
             "ticks": ""
            },
            "colorscale": [
             [
              0,
              "#0d0887"
             ],
             [
              0.1111111111111111,
              "#46039f"
             ],
             [
              0.2222222222222222,
              "#7201a8"
             ],
             [
              0.3333333333333333,
              "#9c179e"
             ],
             [
              0.4444444444444444,
              "#bd3786"
             ],
             [
              0.5555555555555556,
              "#d8576b"
             ],
             [
              0.6666666666666666,
              "#ed7953"
             ],
             [
              0.7777777777777778,
              "#fb9f3a"
             ],
             [
              0.8888888888888888,
              "#fdca26"
             ],
             [
              1,
              "#f0f921"
             ]
            ],
            "type": "histogram2dcontour"
           }
          ],
          "mesh3d": [
           {
            "colorbar": {
             "outlinewidth": 0,
             "ticks": ""
            },
            "type": "mesh3d"
           }
          ],
          "parcoords": [
           {
            "line": {
             "colorbar": {
              "outlinewidth": 0,
              "ticks": ""
             }
            },
            "type": "parcoords"
           }
          ],
          "pie": [
           {
            "automargin": true,
            "type": "pie"
           }
          ],
          "scatter": [
           {
            "fillpattern": {
             "fillmode": "overlay",
             "size": 10,
             "solidity": 0.2
            },
            "type": "scatter"
           }
          ],
          "scatter3d": [
           {
            "line": {
             "colorbar": {
              "outlinewidth": 0,
              "ticks": ""
             }
            },
            "marker": {
             "colorbar": {
              "outlinewidth": 0,
              "ticks": ""
             }
            },
            "type": "scatter3d"
           }
          ],
          "scattercarpet": [
           {
            "marker": {
             "colorbar": {
              "outlinewidth": 0,
              "ticks": ""
             }
            },
            "type": "scattercarpet"
           }
          ],
          "scattergeo": [
           {
            "marker": {
             "colorbar": {
              "outlinewidth": 0,
              "ticks": ""
             }
            },
            "type": "scattergeo"
           }
          ],
          "scattergl": [
           {
            "marker": {
             "colorbar": {
              "outlinewidth": 0,
              "ticks": ""
             }
            },
            "type": "scattergl"
           }
          ],
          "scattermapbox": [
           {
            "marker": {
             "colorbar": {
              "outlinewidth": 0,
              "ticks": ""
             }
            },
            "type": "scattermapbox"
           }
          ],
          "scatterpolar": [
           {
            "marker": {
             "colorbar": {
              "outlinewidth": 0,
              "ticks": ""
             }
            },
            "type": "scatterpolar"
           }
          ],
          "scatterpolargl": [
           {
            "marker": {
             "colorbar": {
              "outlinewidth": 0,
              "ticks": ""
             }
            },
            "type": "scatterpolargl"
           }
          ],
          "scatterternary": [
           {
            "marker": {
             "colorbar": {
              "outlinewidth": 0,
              "ticks": ""
             }
            },
            "type": "scatterternary"
           }
          ],
          "surface": [
           {
            "colorbar": {
             "outlinewidth": 0,
             "ticks": ""
            },
            "colorscale": [
             [
              0,
              "#0d0887"
             ],
             [
              0.1111111111111111,
              "#46039f"
             ],
             [
              0.2222222222222222,
              "#7201a8"
             ],
             [
              0.3333333333333333,
              "#9c179e"
             ],
             [
              0.4444444444444444,
              "#bd3786"
             ],
             [
              0.5555555555555556,
              "#d8576b"
             ],
             [
              0.6666666666666666,
              "#ed7953"
             ],
             [
              0.7777777777777778,
              "#fb9f3a"
             ],
             [
              0.8888888888888888,
              "#fdca26"
             ],
             [
              1,
              "#f0f921"
             ]
            ],
            "type": "surface"
           }
          ],
          "table": [
           {
            "cells": {
             "fill": {
              "color": "#EBF0F8"
             },
             "line": {
              "color": "white"
             }
            },
            "header": {
             "fill": {
              "color": "#C8D4E3"
             },
             "line": {
              "color": "white"
             }
            },
            "type": "table"
           }
          ]
         },
         "layout": {
          "annotationdefaults": {
           "arrowcolor": "#2a3f5f",
           "arrowhead": 0,
           "arrowwidth": 1
          },
          "autotypenumbers": "strict",
          "coloraxis": {
           "colorbar": {
            "outlinewidth": 0,
            "ticks": ""
           }
          },
          "colorscale": {
           "diverging": [
            [
             0,
             "#8e0152"
            ],
            [
             0.1,
             "#c51b7d"
            ],
            [
             0.2,
             "#de77ae"
            ],
            [
             0.3,
             "#f1b6da"
            ],
            [
             0.4,
             "#fde0ef"
            ],
            [
             0.5,
             "#f7f7f7"
            ],
            [
             0.6,
             "#e6f5d0"
            ],
            [
             0.7,
             "#b8e186"
            ],
            [
             0.8,
             "#7fbc41"
            ],
            [
             0.9,
             "#4d9221"
            ],
            [
             1,
             "#276419"
            ]
           ],
           "sequential": [
            [
             0,
             "#0d0887"
            ],
            [
             0.1111111111111111,
             "#46039f"
            ],
            [
             0.2222222222222222,
             "#7201a8"
            ],
            [
             0.3333333333333333,
             "#9c179e"
            ],
            [
             0.4444444444444444,
             "#bd3786"
            ],
            [
             0.5555555555555556,
             "#d8576b"
            ],
            [
             0.6666666666666666,
             "#ed7953"
            ],
            [
             0.7777777777777778,
             "#fb9f3a"
            ],
            [
             0.8888888888888888,
             "#fdca26"
            ],
            [
             1,
             "#f0f921"
            ]
           ],
           "sequentialminus": [
            [
             0,
             "#0d0887"
            ],
            [
             0.1111111111111111,
             "#46039f"
            ],
            [
             0.2222222222222222,
             "#7201a8"
            ],
            [
             0.3333333333333333,
             "#9c179e"
            ],
            [
             0.4444444444444444,
             "#bd3786"
            ],
            [
             0.5555555555555556,
             "#d8576b"
            ],
            [
             0.6666666666666666,
             "#ed7953"
            ],
            [
             0.7777777777777778,
             "#fb9f3a"
            ],
            [
             0.8888888888888888,
             "#fdca26"
            ],
            [
             1,
             "#f0f921"
            ]
           ]
          },
          "colorway": [
           "#636efa",
           "#EF553B",
           "#00cc96",
           "#ab63fa",
           "#FFA15A",
           "#19d3f3",
           "#FF6692",
           "#B6E880",
           "#FF97FF",
           "#FECB52"
          ],
          "font": {
           "color": "#2a3f5f"
          },
          "geo": {
           "bgcolor": "white",
           "lakecolor": "white",
           "landcolor": "#E5ECF6",
           "showlakes": true,
           "showland": true,
           "subunitcolor": "white"
          },
          "hoverlabel": {
           "align": "left"
          },
          "hovermode": "closest",
          "mapbox": {
           "style": "light"
          },
          "paper_bgcolor": "white",
          "plot_bgcolor": "#E5ECF6",
          "polar": {
           "angularaxis": {
            "gridcolor": "white",
            "linecolor": "white",
            "ticks": ""
           },
           "bgcolor": "#E5ECF6",
           "radialaxis": {
            "gridcolor": "white",
            "linecolor": "white",
            "ticks": ""
           }
          },
          "scene": {
           "xaxis": {
            "backgroundcolor": "#E5ECF6",
            "gridcolor": "white",
            "gridwidth": 2,
            "linecolor": "white",
            "showbackground": true,
            "ticks": "",
            "zerolinecolor": "white"
           },
           "yaxis": {
            "backgroundcolor": "#E5ECF6",
            "gridcolor": "white",
            "gridwidth": 2,
            "linecolor": "white",
            "showbackground": true,
            "ticks": "",
            "zerolinecolor": "white"
           },
           "zaxis": {
            "backgroundcolor": "#E5ECF6",
            "gridcolor": "white",
            "gridwidth": 2,
            "linecolor": "white",
            "showbackground": true,
            "ticks": "",
            "zerolinecolor": "white"
           }
          },
          "shapedefaults": {
           "line": {
            "color": "#2a3f5f"
           }
          },
          "ternary": {
           "aaxis": {
            "gridcolor": "white",
            "linecolor": "white",
            "ticks": ""
           },
           "baxis": {
            "gridcolor": "white",
            "linecolor": "white",
            "ticks": ""
           },
           "bgcolor": "#E5ECF6",
           "caxis": {
            "gridcolor": "white",
            "linecolor": "white",
            "ticks": ""
           }
          },
          "title": {
           "x": 0.05
          },
          "xaxis": {
           "automargin": true,
           "gridcolor": "white",
           "linecolor": "white",
           "ticks": "",
           "title": {
            "standoff": 15
           },
           "zerolinecolor": "white",
           "zerolinewidth": 2
          },
          "yaxis": {
           "automargin": true,
           "gridcolor": "white",
           "linecolor": "white",
           "ticks": "",
           "title": {
            "standoff": 15
           },
           "zerolinecolor": "white",
           "zerolinewidth": 2
          }
         }
        }
       }
      },
      "text/html": [
       "<div>                            <div id=\"9b822fbc-d9a9-45a8-8b8b-44975d3410df\" class=\"plotly-graph-div\" style=\"height:525px; width:100%;\"></div>            <script type=\"text/javascript\">                require([\"plotly\"], function(Plotly) {                    window.PLOTLYENV=window.PLOTLYENV || {};                                    if (document.getElementById(\"9b822fbc-d9a9-45a8-8b8b-44975d3410df\")) {                    Plotly.newPlot(                        \"9b822fbc-d9a9-45a8-8b8b-44975d3410df\",                        [{\"branchvalues\":\"total\",\"customdata\":[[4.0588235294117645],[4.6],[4.25],[3.8908382066276803],[4.545253863134658],[4.467268623024831],[4.443729903536977],[4.562786816854401],[4.02665910380034],[4.615733922434953],[4.192982456140351],[4.632352941176471],[4.642129105322764],[4.275824175824176],[4.571558630735615],[4.497757847533633],[4.539936102236422],[4.671028037383177],[4.044235924932976],[4.56555023923445],[4.502890173410405],[4.451219512195122],[4.603539823008849],[4.198996655518394],[4.557987711213518],[4.764705882352941],[4.581005586592179],[4.743390357698289],[4.102296450939457],[4.652777777777778],[4.466895958727429],[4.516095534787124],[4.618855106319025],[4.0884006150136285],[4.589478792177999],[4.509748465185646]],\"domain\":{\"x\":[0.0,1.0],\"y\":[0.0,1.0]},\"hovertemplate\":\"labels=%{label}\\u003cbr\\u003ereviews=%{value}\\u003cbr\\u003eparent=%{parent}\\u003cbr\\u003eid=%{id}\\u003cbr\\u003eavg_rating=%{color}\\u003cextra\\u003e\\u003c\\u002fextra\\u003e\",\"ids\":[\"All accommodation\\u002fBungalow \\u002f Villa \\u002f Retreat\\u002fBUSINESS\",\"All accommodation\\u002fGuesthouse \\u002f Hostel\\u002fBUSINESS\",\"All accommodation\\u002fHomestay \\u002f Farmstay \\u002f House \\u002f Lodge \\u002f Eco\\u002fBUSINESS\",\"All accommodation\\u002fHotel\\u002fBUSINESS\",\"All accommodation\\u002fResort\\u002fBUSINESS\",\"All accommodation\\u002fBungalow \\u002f Villa \\u002f Retreat\\u002fCOUPLES\",\"All accommodation\\u002fGuesthouse \\u002f Hostel\\u002fCOUPLES\",\"All accommodation\\u002fHomestay \\u002f Farmstay \\u002f House \\u002f Lodge \\u002f Eco\\u002fCOUPLES\",\"All accommodation\\u002fHotel\\u002fCOUPLES\",\"All accommodation\\u002fResort\\u002fCOUPLES\",\"All accommodation\\u002fBungalow \\u002f Villa \\u002f Retreat\\u002fFAMILY\",\"All accommodation\\u002fGuesthouse \\u002f Hostel\\u002fFAMILY\",\"All accommodation\\u002fHomestay \\u002f Farmstay \\u002f House \\u002f Lodge \\u002f Eco\\u002fFAMILY\",\"All accommodation\\u002fHotel\\u002fFAMILY\",\"All accommodation\\u002fResort\\u002fFAMILY\",\"All accommodation\\u002fBungalow \\u002f Villa \\u002f Retreat\\u002fFRIENDS\",\"All accommodation\\u002fGuesthouse \\u002f Hostel\\u002fFRIENDS\",\"All accommodation\\u002fHomestay \\u002f Farmstay \\u002f House \\u002f Lodge \\u002f Eco\\u002fFRIENDS\",\"All accommodation\\u002fHotel\\u002fFRIENDS\",\"All accommodation\\u002fResort\\u002fFRIENDS\",\"All accommodation\\u002fBungalow \\u002f Villa \\u002f Retreat\\u002fNONE\",\"All accommodation\\u002fGuesthouse \\u002f Hostel\\u002fNONE\",\"All accommodation\\u002fHomestay \\u002f Farmstay \\u002f House \\u002f Lodge \\u002f Eco\\u002fNONE\",\"All accommodation\\u002fHotel\\u002fNONE\",\"All accommodation\\u002fResort\\u002fNONE\",\"All accommodation\\u002fBungalow \\u002f Villa \\u002f Retreat\\u002fSOLO\",\"All accommodation\\u002fGuesthouse \\u002f Hostel\\u002fSOLO\",\"All accommodation\\u002fHomestay \\u002f Farmstay \\u002f House \\u002f Lodge \\u002f Eco\\u002fSOLO\",\"All accommodation\\u002fHotel\\u002fSOLO\",\"All accommodation\\u002fResort\\u002fSOLO\",\"All accommodation\\u002fBungalow \\u002f Villa \\u002f Retreat\",\"All accommodation\\u002fGuesthouse \\u002f Hostel\",\"All accommodation\\u002fHomestay \\u002f Farmstay \\u002f House \\u002f Lodge \\u002f Eco\",\"All accommodation\\u002fHotel\",\"All accommodation\\u002fResort\",\"All accommodation\"],\"labels\":[\"BUSINESS\",\"BUSINESS\",\"BUSINESS\",\"BUSINESS\",\"BUSINESS\",\"COUPLES\",\"COUPLES\",\"COUPLES\",\"COUPLES\",\"COUPLES\",\"FAMILY\",\"FAMILY\",\"FAMILY\",\"FAMILY\",\"FAMILY\",\"FRIENDS\",\"FRIENDS\",\"FRIENDS\",\"FRIENDS\",\"FRIENDS\",\"NONE\",\"NONE\",\"NONE\",\"NONE\",\"NONE\",\"SOLO\",\"SOLO\",\"SOLO\",\"SOLO\",\"SOLO\",\"Bungalow \\u002f Villa \\u002f Retreat\",\"Guesthouse \\u002f Hostel\",\"Homestay \\u002f Farmstay \\u002f House \\u002f Lodge \\u002f Eco\",\"Hotel\",\"Resort\",\"All accommodation\"],\"marker\":{\"coloraxis\":\"coloraxis\",\"colors\":[4.0588235294117645,4.6,4.25,3.8908382066276803,4.545253863134658,4.467268623024831,4.443729903536977,4.562786816854401,4.02665910380034,4.615733922434953,4.192982456140351,4.632352941176471,4.642129105322764,4.275824175824176,4.571558630735615,4.497757847533633,4.539936102236422,4.671028037383177,4.044235924932976,4.56555023923445,4.502890173410405,4.451219512195122,4.603539823008849,4.198996655518394,4.557987711213518,4.764705882352941,4.581005586592179,4.743390357698289,4.102296450939457,4.652777777777778,4.466895958727429,4.516095534787124,4.618855106319025,4.0884006150136285,4.589478792177999,4.509748465185646]},\"name\":\"\",\"parents\":[\"All accommodation\\u002fBungalow \\u002f Villa \\u002f Retreat\",\"All accommodation\\u002fGuesthouse \\u002f Hostel\",\"All accommodation\\u002fHomestay \\u002f Farmstay \\u002f House \\u002f Lodge \\u002f Eco\",\"All accommodation\\u002fHotel\",\"All accommodation\\u002fResort\",\"All accommodation\\u002fBungalow \\u002f Villa \\u002f Retreat\",\"All accommodation\\u002fGuesthouse \\u002f Hostel\",\"All accommodation\\u002fHomestay \\u002f Farmstay \\u002f House \\u002f Lodge \\u002f Eco\",\"All accommodation\\u002fHotel\",\"All accommodation\\u002fResort\",\"All accommodation\\u002fBungalow \\u002f Villa \\u002f Retreat\",\"All accommodation\\u002fGuesthouse \\u002f Hostel\",\"All accommodation\\u002fHomestay \\u002f Farmstay \\u002f House \\u002f Lodge \\u002f Eco\",\"All accommodation\\u002fHotel\",\"All accommodation\\u002fResort\",\"All accommodation\\u002fBungalow \\u002f Villa \\u002f Retreat\",\"All accommodation\\u002fGuesthouse \\u002f Hostel\",\"All accommodation\\u002fHomestay \\u002f Farmstay \\u002f House \\u002f Lodge \\u002f Eco\",\"All accommodation\\u002fHotel\",\"All accommodation\\u002fResort\",\"All accommodation\\u002fBungalow \\u002f Villa \\u002f Retreat\",\"All accommodation\\u002fGuesthouse \\u002f Hostel\",\"All accommodation\\u002fHomestay \\u002f Farmstay \\u002f House \\u002f Lodge \\u002f Eco\",\"All accommodation\\u002fHotel\",\"All accommodation\\u002fResort\",\"All accommodation\\u002fBungalow \\u002f Villa \\u002f Retreat\",\"All accommodation\\u002fGuesthouse \\u002f Hostel\",\"All accommodation\\u002fHomestay \\u002f Farmstay \\u002f House \\u002f Lodge \\u002f Eco\",\"All accommodation\\u002fHotel\",\"All accommodation\\u002fResort\",\"All accommodation\",\"All accommodation\",\"All accommodation\",\"All accommodation\",\"All accommodation\",\"\"],\"values\":[17,10,36,513,452,443,311,2397,1763,8145,171,68,883,909,5491,223,313,1070,746,2090,173,82,565,598,2601,136,179,642,478,576,1163,963,5593,5007,19355,32081],\"type\":\"treemap\"}],                        {\"template\":{\"data\":{\"histogram2dcontour\":[{\"type\":\"histogram2dcontour\",\"colorbar\":{\"outlinewidth\":0,\"ticks\":\"\"},\"colorscale\":[[0.0,\"#0d0887\"],[0.1111111111111111,\"#46039f\"],[0.2222222222222222,\"#7201a8\"],[0.3333333333333333,\"#9c179e\"],[0.4444444444444444,\"#bd3786\"],[0.5555555555555556,\"#d8576b\"],[0.6666666666666666,\"#ed7953\"],[0.7777777777777778,\"#fb9f3a\"],[0.8888888888888888,\"#fdca26\"],[1.0,\"#f0f921\"]]}],\"choropleth\":[{\"type\":\"choropleth\",\"colorbar\":{\"outlinewidth\":0,\"ticks\":\"\"}}],\"histogram2d\":[{\"type\":\"histogram2d\",\"colorbar\":{\"outlinewidth\":0,\"ticks\":\"\"},\"colorscale\":[[0.0,\"#0d0887\"],[0.1111111111111111,\"#46039f\"],[0.2222222222222222,\"#7201a8\"],[0.3333333333333333,\"#9c179e\"],[0.4444444444444444,\"#bd3786\"],[0.5555555555555556,\"#d8576b\"],[0.6666666666666666,\"#ed7953\"],[0.7777777777777778,\"#fb9f3a\"],[0.8888888888888888,\"#fdca26\"],[1.0,\"#f0f921\"]]}],\"heatmap\":[{\"type\":\"heatmap\",\"colorbar\":{\"outlinewidth\":0,\"ticks\":\"\"},\"colorscale\":[[0.0,\"#0d0887\"],[0.1111111111111111,\"#46039f\"],[0.2222222222222222,\"#7201a8\"],[0.3333333333333333,\"#9c179e\"],[0.4444444444444444,\"#bd3786\"],[0.5555555555555556,\"#d8576b\"],[0.6666666666666666,\"#ed7953\"],[0.7777777777777778,\"#fb9f3a\"],[0.8888888888888888,\"#fdca26\"],[1.0,\"#f0f921\"]]}],\"heatmapgl\":[{\"type\":\"heatmapgl\",\"colorbar\":{\"outlinewidth\":0,\"ticks\":\"\"},\"colorscale\":[[0.0,\"#0d0887\"],[0.1111111111111111,\"#46039f\"],[0.2222222222222222,\"#7201a8\"],[0.3333333333333333,\"#9c179e\"],[0.4444444444444444,\"#bd3786\"],[0.5555555555555556,\"#d8576b\"],[0.6666666666666666,\"#ed7953\"],[0.7777777777777778,\"#fb9f3a\"],[0.8888888888888888,\"#fdca26\"],[1.0,\"#f0f921\"]]}],\"contourcarpet\":[{\"type\":\"contourcarpet\",\"colorbar\":{\"outlinewidth\":0,\"ticks\":\"\"}}],\"contour\":[{\"type\":\"contour\",\"colorbar\":{\"outlinewidth\":0,\"ticks\":\"\"},\"colorscale\":[[0.0,\"#0d0887\"],[0.1111111111111111,\"#46039f\"],[0.2222222222222222,\"#7201a8\"],[0.3333333333333333,\"#9c179e\"],[0.4444444444444444,\"#bd3786\"],[0.5555555555555556,\"#d8576b\"],[0.6666666666666666,\"#ed7953\"],[0.7777777777777778,\"#fb9f3a\"],[0.8888888888888888,\"#fdca26\"],[1.0,\"#f0f921\"]]}],\"surface\":[{\"type\":\"surface\",\"colorbar\":{\"outlinewidth\":0,\"ticks\":\"\"},\"colorscale\":[[0.0,\"#0d0887\"],[0.1111111111111111,\"#46039f\"],[0.2222222222222222,\"#7201a8\"],[0.3333333333333333,\"#9c179e\"],[0.4444444444444444,\"#bd3786\"],[0.5555555555555556,\"#d8576b\"],[0.6666666666666666,\"#ed7953\"],[0.7777777777777778,\"#fb9f3a\"],[0.8888888888888888,\"#fdca26\"],[1.0,\"#f0f921\"]]}],\"mesh3d\":[{\"type\":\"mesh3d\",\"colorbar\":{\"outlinewidth\":0,\"ticks\":\"\"}}],\"scatter\":[{\"fillpattern\":{\"fillmode\":\"overlay\",\"size\":10,\"solidity\":0.2},\"type\":\"scatter\"}],\"parcoords\":[{\"type\":\"parcoords\",\"line\":{\"colorbar\":{\"outlinewidth\":0,\"ticks\":\"\"}}}],\"scatterpolargl\":[{\"type\":\"scatterpolargl\",\"marker\":{\"colorbar\":{\"outlinewidth\":0,\"ticks\":\"\"}}}],\"bar\":[{\"error_x\":{\"color\":\"#2a3f5f\"},\"error_y\":{\"color\":\"#2a3f5f\"},\"marker\":{\"line\":{\"color\":\"#E5ECF6\",\"width\":0.5},\"pattern\":{\"fillmode\":\"overlay\",\"size\":10,\"solidity\":0.2}},\"type\":\"bar\"}],\"scattergeo\":[{\"type\":\"scattergeo\",\"marker\":{\"colorbar\":{\"outlinewidth\":0,\"ticks\":\"\"}}}],\"scatterpolar\":[{\"type\":\"scatterpolar\",\"marker\":{\"colorbar\":{\"outlinewidth\":0,\"ticks\":\"\"}}}],\"histogram\":[{\"marker\":{\"pattern\":{\"fillmode\":\"overlay\",\"size\":10,\"solidity\":0.2}},\"type\":\"histogram\"}],\"scattergl\":[{\"type\":\"scattergl\",\"marker\":{\"colorbar\":{\"outlinewidth\":0,\"ticks\":\"\"}}}],\"scatter3d\":[{\"type\":\"scatter3d\",\"line\":{\"colorbar\":{\"outlinewidth\":0,\"ticks\":\"\"}},\"marker\":{\"colorbar\":{\"outlinewidth\":0,\"ticks\":\"\"}}}],\"scattermapbox\":[{\"type\":\"scattermapbox\",\"marker\":{\"colorbar\":{\"outlinewidth\":0,\"ticks\":\"\"}}}],\"scatterternary\":[{\"type\":\"scatterternary\",\"marker\":{\"colorbar\":{\"outlinewidth\":0,\"ticks\":\"\"}}}],\"scattercarpet\":[{\"type\":\"scattercarpet\",\"marker\":{\"colorbar\":{\"outlinewidth\":0,\"ticks\":\"\"}}}],\"carpet\":[{\"aaxis\":{\"endlinecolor\":\"#2a3f5f\",\"gridcolor\":\"white\",\"linecolor\":\"white\",\"minorgridcolor\":\"white\",\"startlinecolor\":\"#2a3f5f\"},\"baxis\":{\"endlinecolor\":\"#2a3f5f\",\"gridcolor\":\"white\",\"linecolor\":\"white\",\"minorgridcolor\":\"white\",\"startlinecolor\":\"#2a3f5f\"},\"type\":\"carpet\"}],\"table\":[{\"cells\":{\"fill\":{\"color\":\"#EBF0F8\"},\"line\":{\"color\":\"white\"}},\"header\":{\"fill\":{\"color\":\"#C8D4E3\"},\"line\":{\"color\":\"white\"}},\"type\":\"table\"}],\"barpolar\":[{\"marker\":{\"line\":{\"color\":\"#E5ECF6\",\"width\":0.5},\"pattern\":{\"fillmode\":\"overlay\",\"size\":10,\"solidity\":0.2}},\"type\":\"barpolar\"}],\"pie\":[{\"automargin\":true,\"type\":\"pie\"}]},\"layout\":{\"autotypenumbers\":\"strict\",\"colorway\":[\"#636efa\",\"#EF553B\",\"#00cc96\",\"#ab63fa\",\"#FFA15A\",\"#19d3f3\",\"#FF6692\",\"#B6E880\",\"#FF97FF\",\"#FECB52\"],\"font\":{\"color\":\"#2a3f5f\"},\"hovermode\":\"closest\",\"hoverlabel\":{\"align\":\"left\"},\"paper_bgcolor\":\"white\",\"plot_bgcolor\":\"#E5ECF6\",\"polar\":{\"bgcolor\":\"#E5ECF6\",\"angularaxis\":{\"gridcolor\":\"white\",\"linecolor\":\"white\",\"ticks\":\"\"},\"radialaxis\":{\"gridcolor\":\"white\",\"linecolor\":\"white\",\"ticks\":\"\"}},\"ternary\":{\"bgcolor\":\"#E5ECF6\",\"aaxis\":{\"gridcolor\":\"white\",\"linecolor\":\"white\",\"ticks\":\"\"},\"baxis\":{\"gridcolor\":\"white\",\"linecolor\":\"white\",\"ticks\":\"\"},\"caxis\":{\"gridcolor\":\"white\",\"linecolor\":\"white\",\"ticks\":\"\"}},\"coloraxis\":{\"colorbar\":{\"outlinewidth\":0,\"ticks\":\"\"}},\"colorscale\":{\"sequential\":[[0.0,\"#0d0887\"],[0.1111111111111111,\"#46039f\"],[0.2222222222222222,\"#7201a8\"],[0.3333333333333333,\"#9c179e\"],[0.4444444444444444,\"#bd3786\"],[0.5555555555555556,\"#d8576b\"],[0.6666666666666666,\"#ed7953\"],[0.7777777777777778,\"#fb9f3a\"],[0.8888888888888888,\"#fdca26\"],[1.0,\"#f0f921\"]],\"sequentialminus\":[[0.0,\"#0d0887\"],[0.1111111111111111,\"#46039f\"],[0.2222222222222222,\"#7201a8\"],[0.3333333333333333,\"#9c179e\"],[0.4444444444444444,\"#bd3786\"],[0.5555555555555556,\"#d8576b\"],[0.6666666666666666,\"#ed7953\"],[0.7777777777777778,\"#fb9f3a\"],[0.8888888888888888,\"#fdca26\"],[1.0,\"#f0f921\"]],\"diverging\":[[0,\"#8e0152\"],[0.1,\"#c51b7d\"],[0.2,\"#de77ae\"],[0.3,\"#f1b6da\"],[0.4,\"#fde0ef\"],[0.5,\"#f7f7f7\"],[0.6,\"#e6f5d0\"],[0.7,\"#b8e186\"],[0.8,\"#7fbc41\"],[0.9,\"#4d9221\"],[1,\"#276419\"]]},\"xaxis\":{\"gridcolor\":\"white\",\"linecolor\":\"white\",\"ticks\":\"\",\"title\":{\"standoff\":15},\"zerolinecolor\":\"white\",\"automargin\":true,\"zerolinewidth\":2},\"yaxis\":{\"gridcolor\":\"white\",\"linecolor\":\"white\",\"ticks\":\"\",\"title\":{\"standoff\":15},\"zerolinecolor\":\"white\",\"automargin\":true,\"zerolinewidth\":2},\"scene\":{\"xaxis\":{\"backgroundcolor\":\"#E5ECF6\",\"gridcolor\":\"white\",\"linecolor\":\"white\",\"showbackground\":true,\"ticks\":\"\",\"zerolinecolor\":\"white\",\"gridwidth\":2},\"yaxis\":{\"backgroundcolor\":\"#E5ECF6\",\"gridcolor\":\"white\",\"linecolor\":\"white\",\"showbackground\":true,\"ticks\":\"\",\"zerolinecolor\":\"white\",\"gridwidth\":2},\"zaxis\":{\"backgroundcolor\":\"#E5ECF6\",\"gridcolor\":\"white\",\"linecolor\":\"white\",\"showbackground\":true,\"ticks\":\"\",\"zerolinecolor\":\"white\",\"gridwidth\":2}},\"shapedefaults\":{\"line\":{\"color\":\"#2a3f5f\"}},\"annotationdefaults\":{\"arrowcolor\":\"#2a3f5f\",\"arrowhead\":0,\"arrowwidth\":1},\"geo\":{\"bgcolor\":\"white\",\"landcolor\":\"#E5ECF6\",\"subunitcolor\":\"white\",\"showland\":true,\"showlakes\":true,\"lakecolor\":\"white\"},\"title\":{\"x\":0.05},\"mapbox\":{\"style\":\"light\"}}},\"coloraxis\":{\"colorbar\":{\"title\":{\"text\":\"avg_rating\"}},\"colorscale\":[[0.0,\"rgb(103,0,31)\"],[0.1,\"rgb(178,24,43)\"],[0.2,\"rgb(214,96,77)\"],[0.3,\"rgb(244,165,130)\"],[0.4,\"rgb(253,219,199)\"],[0.5,\"rgb(247,247,247)\"],[0.6,\"rgb(209,229,240)\"],[0.7,\"rgb(146,197,222)\"],[0.8,\"rgb(67,147,195)\"],[0.9,\"rgb(33,102,172)\"],[1.0,\"rgb(5,48,97)\"]]},\"legend\":{\"tracegroupgap\":0},\"margin\":{\"t\":50,\"l\":25,\"r\":25,\"b\":25}},                        {\"responsive\": true}                    ).then(function(){\n",
       "                            \n",
       "var gd = document.getElementById('9b822fbc-d9a9-45a8-8b8b-44975d3410df');\n",
       "var x = new MutationObserver(function (mutations, observer) {{\n",
       "        var display = window.getComputedStyle(gd).display;\n",
       "        if (!display || display === 'none') {{\n",
       "            console.log([gd, 'removed!']);\n",
       "            Plotly.purge(gd);\n",
       "            observer.disconnect();\n",
       "        }}\n",
       "}});\n",
       "\n",
       "// Listen for the removal of the full notebook cells\n",
       "var notebookContainer = gd.closest('#notebook-container');\n",
       "if (notebookContainer) {{\n",
       "    x.observe(notebookContainer, {childList: true});\n",
       "}}\n",
       "\n",
       "// Listen for the clearing of the current output cell\n",
       "var outputEl = gd.closest('.output');\n",
       "if (outputEl) {{\n",
       "    x.observe(outputEl, {childList: true});\n",
       "}}\n",
       "\n",
       "                        })                };                });            </script>        </div>"
      ]
     },
     "metadata": {},
     "output_type": "display_data"
    }
   ],
   "source": [
    "# https://plotly.com/python/treemaps/\n",
    "data = treeplot_df\n",
    "fig = px.treemap(data, path=[px.Constant(\"All accommodation\"), 'accom_type', 'tripType'], values='reviews',\n",
    "                  color='avg_rating', #hover_data=['tripType'],\n",
    "                  color_continuous_scale='RdBu',\n",
    "                  #color_continuous_midpoint=np.average(data['Count'], weights=data['Count'])\n",
    "                )\n",
    "fig.update_layout(margin = dict(t=50, l=25, r=25, b=25))\n",
    "fig.show()"
   ]
  },
  {
   "cell_type": "code",
   "execution_count": 182,
   "id": "c2e1a32d",
   "metadata": {},
   "outputs": [
    {
     "data": {
      "application/vnd.plotly.v1+json": {
       "config": {
        "plotlyServerURL": "https://plot.ly"
       },
       "data": [
        {
         "branchvalues": "total",
         "customdata": [
          [
           4.352941176470588
          ],
          [
           4.772009029345372
          ],
          [
           4.573099415204679
          ],
          [
           4.439461883408072
          ],
          [
           4.630057803468208
          ],
          [
           4.4411764705882355
          ],
          [
           4.9
          ],
          [
           4.819935691318328
          ],
          [
           4.573529411764706
          ],
          [
           4.34185303514377
          ],
          [
           4.463414634146342
          ],
          [
           4.363128491620111
          ],
          [
           4
          ],
          [
           4.842720066750104
          ],
          [
           4.6342015855039635
          ],
          [
           4.526168224299066
          ],
          [
           4.548672566371682
          ],
          [
           4.648522550544324
          ],
          [
           4.23196881091618
          ],
          [
           4.894498014747589
          ],
          [
           4.343956043956044
          ],
          [
           4.53485254691689
          ],
          [
           4.538461538461538
          ],
          [
           4.65553235908142
          ],
          [
           4.052980132450331
          ],
          [
           4.784486990672558
          ],
          [
           4.400400582665696
          ],
          [
           4.431578947368421
          ],
          [
           4.508448540706605
          ],
          [
           4.633680555555555
          ],
          [
           4.153644960960651
          ],
          [
           4.8104484676489765
          ],
          [
           4.42651630462289
          ],
          [
           4.465781179648807
          ],
          [
           4.5228849600343075
          ],
          [
           4.606512155688898
          ],
          [
           4.602849655613515
          ]
         ],
         "domain": {
          "x": [
           0,
           1
          ],
          "y": [
           0,
           1
          ]
         },
         "hovertemplate": "labels=%{label}<br>reviews=%{value}<br>parent=%{parent}<br>id=%{id}<br>avg_aspect=%{color}<extra></extra>",
         "ids": [
          "All accommodation/BUSINESS/Bungalow / Villa / Retreat",
          "All accommodation/COUPLES/Bungalow / Villa / Retreat",
          "All accommodation/FAMILY/Bungalow / Villa / Retreat",
          "All accommodation/FRIENDS/Bungalow / Villa / Retreat",
          "All accommodation/NONE/Bungalow / Villa / Retreat",
          "All accommodation/SOLO/Bungalow / Villa / Retreat",
          "All accommodation/BUSINESS/Guesthouse / Hostel",
          "All accommodation/COUPLES/Guesthouse / Hostel",
          "All accommodation/FAMILY/Guesthouse / Hostel",
          "All accommodation/FRIENDS/Guesthouse / Hostel",
          "All accommodation/NONE/Guesthouse / Hostel",
          "All accommodation/SOLO/Guesthouse / Hostel",
          "All accommodation/BUSINESS/Homestay / Farmstay / House / Lodge / Eco",
          "All accommodation/COUPLES/Homestay / Farmstay / House / Lodge / Eco",
          "All accommodation/FAMILY/Homestay / Farmstay / House / Lodge / Eco",
          "All accommodation/FRIENDS/Homestay / Farmstay / House / Lodge / Eco",
          "All accommodation/NONE/Homestay / Farmstay / House / Lodge / Eco",
          "All accommodation/SOLO/Homestay / Farmstay / House / Lodge / Eco",
          "All accommodation/BUSINESS/Hotel",
          "All accommodation/COUPLES/Hotel",
          "All accommodation/FAMILY/Hotel",
          "All accommodation/FRIENDS/Hotel",
          "All accommodation/NONE/Hotel",
          "All accommodation/SOLO/Hotel",
          "All accommodation/BUSINESS/Resort",
          "All accommodation/COUPLES/Resort",
          "All accommodation/FAMILY/Resort",
          "All accommodation/FRIENDS/Resort",
          "All accommodation/NONE/Resort",
          "All accommodation/SOLO/Resort",
          "All accommodation/BUSINESS",
          "All accommodation/COUPLES",
          "All accommodation/FAMILY",
          "All accommodation/FRIENDS",
          "All accommodation/NONE",
          "All accommodation/SOLO",
          "All accommodation"
         ],
         "labels": [
          "Bungalow / Villa / Retreat",
          "Bungalow / Villa / Retreat",
          "Bungalow / Villa / Retreat",
          "Bungalow / Villa / Retreat",
          "Bungalow / Villa / Retreat",
          "Bungalow / Villa / Retreat",
          "Guesthouse / Hostel",
          "Guesthouse / Hostel",
          "Guesthouse / Hostel",
          "Guesthouse / Hostel",
          "Guesthouse / Hostel",
          "Guesthouse / Hostel",
          "Homestay / Farmstay / House / Lodge / Eco",
          "Homestay / Farmstay / House / Lodge / Eco",
          "Homestay / Farmstay / House / Lodge / Eco",
          "Homestay / Farmstay / House / Lodge / Eco",
          "Homestay / Farmstay / House / Lodge / Eco",
          "Homestay / Farmstay / House / Lodge / Eco",
          "Hotel",
          "Hotel",
          "Hotel",
          "Hotel",
          "Hotel",
          "Hotel",
          "Resort",
          "Resort",
          "Resort",
          "Resort",
          "Resort",
          "Resort",
          "BUSINESS",
          "COUPLES",
          "FAMILY",
          "FRIENDS",
          "NONE",
          "SOLO",
          "All accommodation"
         ],
         "marker": {
          "coloraxis": "coloraxis",
          "colors": [
           4.352941176470588,
           4.772009029345372,
           4.573099415204679,
           4.439461883408072,
           4.630057803468208,
           4.4411764705882355,
           4.9,
           4.819935691318328,
           4.573529411764706,
           4.34185303514377,
           4.463414634146342,
           4.363128491620111,
           4,
           4.842720066750104,
           4.6342015855039635,
           4.526168224299066,
           4.548672566371682,
           4.648522550544324,
           4.23196881091618,
           4.894498014747589,
           4.343956043956044,
           4.53485254691689,
           4.538461538461538,
           4.65553235908142,
           4.052980132450331,
           4.784486990672558,
           4.400400582665696,
           4.431578947368421,
           4.508448540706605,
           4.633680555555555,
           4.153644960960651,
           4.8104484676489765,
           4.42651630462289,
           4.465781179648807,
           4.5228849600343075,
           4.606512155688898,
           4.602849655613515
          ]
         },
         "name": "",
         "parents": [
          "All accommodation/BUSINESS",
          "All accommodation/COUPLES",
          "All accommodation/FAMILY",
          "All accommodation/FRIENDS",
          "All accommodation/NONE",
          "All accommodation/SOLO",
          "All accommodation/BUSINESS",
          "All accommodation/COUPLES",
          "All accommodation/FAMILY",
          "All accommodation/FRIENDS",
          "All accommodation/NONE",
          "All accommodation/SOLO",
          "All accommodation/BUSINESS",
          "All accommodation/COUPLES",
          "All accommodation/FAMILY",
          "All accommodation/FRIENDS",
          "All accommodation/NONE",
          "All accommodation/SOLO",
          "All accommodation/BUSINESS",
          "All accommodation/COUPLES",
          "All accommodation/FAMILY",
          "All accommodation/FRIENDS",
          "All accommodation/NONE",
          "All accommodation/SOLO",
          "All accommodation/BUSINESS",
          "All accommodation/COUPLES",
          "All accommodation/FAMILY",
          "All accommodation/FRIENDS",
          "All accommodation/NONE",
          "All accommodation/SOLO",
          "All accommodation",
          "All accommodation",
          "All accommodation",
          "All accommodation",
          "All accommodation",
          "All accommodation",
          ""
         ],
         "type": "treemap",
         "values": [
          17,
          443,
          171,
          223,
          173,
          136,
          10,
          311,
          68,
          313,
          82,
          179,
          36,
          2397,
          883,
          1070,
          565,
          642,
          513,
          1763,
          909,
          746,
          598,
          478,
          452,
          8145,
          5491,
          2090,
          2601,
          576,
          1028,
          13059,
          7522,
          4442,
          4019,
          2011,
          32081
         ]
        }
       ],
       "layout": {
        "coloraxis": {
         "colorbar": {
          "title": {
           "text": "avg_aspect"
          }
         },
         "colorscale": [
          [
           0,
           "rgb(103,0,31)"
          ],
          [
           0.1,
           "rgb(178,24,43)"
          ],
          [
           0.2,
           "rgb(214,96,77)"
          ],
          [
           0.3,
           "rgb(244,165,130)"
          ],
          [
           0.4,
           "rgb(253,219,199)"
          ],
          [
           0.5,
           "rgb(247,247,247)"
          ],
          [
           0.6,
           "rgb(209,229,240)"
          ],
          [
           0.7,
           "rgb(146,197,222)"
          ],
          [
           0.8,
           "rgb(67,147,195)"
          ],
          [
           0.9,
           "rgb(33,102,172)"
          ],
          [
           1,
           "rgb(5,48,97)"
          ]
         ]
        },
        "legend": {
         "tracegroupgap": 0
        },
        "margin": {
         "b": 25,
         "l": 25,
         "r": 25,
         "t": 50
        },
        "template": {
         "data": {
          "bar": [
           {
            "error_x": {
             "color": "#2a3f5f"
            },
            "error_y": {
             "color": "#2a3f5f"
            },
            "marker": {
             "line": {
              "color": "#E5ECF6",
              "width": 0.5
             },
             "pattern": {
              "fillmode": "overlay",
              "size": 10,
              "solidity": 0.2
             }
            },
            "type": "bar"
           }
          ],
          "barpolar": [
           {
            "marker": {
             "line": {
              "color": "#E5ECF6",
              "width": 0.5
             },
             "pattern": {
              "fillmode": "overlay",
              "size": 10,
              "solidity": 0.2
             }
            },
            "type": "barpolar"
           }
          ],
          "carpet": [
           {
            "aaxis": {
             "endlinecolor": "#2a3f5f",
             "gridcolor": "white",
             "linecolor": "white",
             "minorgridcolor": "white",
             "startlinecolor": "#2a3f5f"
            },
            "baxis": {
             "endlinecolor": "#2a3f5f",
             "gridcolor": "white",
             "linecolor": "white",
             "minorgridcolor": "white",
             "startlinecolor": "#2a3f5f"
            },
            "type": "carpet"
           }
          ],
          "choropleth": [
           {
            "colorbar": {
             "outlinewidth": 0,
             "ticks": ""
            },
            "type": "choropleth"
           }
          ],
          "contour": [
           {
            "colorbar": {
             "outlinewidth": 0,
             "ticks": ""
            },
            "colorscale": [
             [
              0,
              "#0d0887"
             ],
             [
              0.1111111111111111,
              "#46039f"
             ],
             [
              0.2222222222222222,
              "#7201a8"
             ],
             [
              0.3333333333333333,
              "#9c179e"
             ],
             [
              0.4444444444444444,
              "#bd3786"
             ],
             [
              0.5555555555555556,
              "#d8576b"
             ],
             [
              0.6666666666666666,
              "#ed7953"
             ],
             [
              0.7777777777777778,
              "#fb9f3a"
             ],
             [
              0.8888888888888888,
              "#fdca26"
             ],
             [
              1,
              "#f0f921"
             ]
            ],
            "type": "contour"
           }
          ],
          "contourcarpet": [
           {
            "colorbar": {
             "outlinewidth": 0,
             "ticks": ""
            },
            "type": "contourcarpet"
           }
          ],
          "heatmap": [
           {
            "colorbar": {
             "outlinewidth": 0,
             "ticks": ""
            },
            "colorscale": [
             [
              0,
              "#0d0887"
             ],
             [
              0.1111111111111111,
              "#46039f"
             ],
             [
              0.2222222222222222,
              "#7201a8"
             ],
             [
              0.3333333333333333,
              "#9c179e"
             ],
             [
              0.4444444444444444,
              "#bd3786"
             ],
             [
              0.5555555555555556,
              "#d8576b"
             ],
             [
              0.6666666666666666,
              "#ed7953"
             ],
             [
              0.7777777777777778,
              "#fb9f3a"
             ],
             [
              0.8888888888888888,
              "#fdca26"
             ],
             [
              1,
              "#f0f921"
             ]
            ],
            "type": "heatmap"
           }
          ],
          "heatmapgl": [
           {
            "colorbar": {
             "outlinewidth": 0,
             "ticks": ""
            },
            "colorscale": [
             [
              0,
              "#0d0887"
             ],
             [
              0.1111111111111111,
              "#46039f"
             ],
             [
              0.2222222222222222,
              "#7201a8"
             ],
             [
              0.3333333333333333,
              "#9c179e"
             ],
             [
              0.4444444444444444,
              "#bd3786"
             ],
             [
              0.5555555555555556,
              "#d8576b"
             ],
             [
              0.6666666666666666,
              "#ed7953"
             ],
             [
              0.7777777777777778,
              "#fb9f3a"
             ],
             [
              0.8888888888888888,
              "#fdca26"
             ],
             [
              1,
              "#f0f921"
             ]
            ],
            "type": "heatmapgl"
           }
          ],
          "histogram": [
           {
            "marker": {
             "pattern": {
              "fillmode": "overlay",
              "size": 10,
              "solidity": 0.2
             }
            },
            "type": "histogram"
           }
          ],
          "histogram2d": [
           {
            "colorbar": {
             "outlinewidth": 0,
             "ticks": ""
            },
            "colorscale": [
             [
              0,
              "#0d0887"
             ],
             [
              0.1111111111111111,
              "#46039f"
             ],
             [
              0.2222222222222222,
              "#7201a8"
             ],
             [
              0.3333333333333333,
              "#9c179e"
             ],
             [
              0.4444444444444444,
              "#bd3786"
             ],
             [
              0.5555555555555556,
              "#d8576b"
             ],
             [
              0.6666666666666666,
              "#ed7953"
             ],
             [
              0.7777777777777778,
              "#fb9f3a"
             ],
             [
              0.8888888888888888,
              "#fdca26"
             ],
             [
              1,
              "#f0f921"
             ]
            ],
            "type": "histogram2d"
           }
          ],
          "histogram2dcontour": [
           {
            "colorbar": {
             "outlinewidth": 0,
             "ticks": ""
            },
            "colorscale": [
             [
              0,
              "#0d0887"
             ],
             [
              0.1111111111111111,
              "#46039f"
             ],
             [
              0.2222222222222222,
              "#7201a8"
             ],
             [
              0.3333333333333333,
              "#9c179e"
             ],
             [
              0.4444444444444444,
              "#bd3786"
             ],
             [
              0.5555555555555556,
              "#d8576b"
             ],
             [
              0.6666666666666666,
              "#ed7953"
             ],
             [
              0.7777777777777778,
              "#fb9f3a"
             ],
             [
              0.8888888888888888,
              "#fdca26"
             ],
             [
              1,
              "#f0f921"
             ]
            ],
            "type": "histogram2dcontour"
           }
          ],
          "mesh3d": [
           {
            "colorbar": {
             "outlinewidth": 0,
             "ticks": ""
            },
            "type": "mesh3d"
           }
          ],
          "parcoords": [
           {
            "line": {
             "colorbar": {
              "outlinewidth": 0,
              "ticks": ""
             }
            },
            "type": "parcoords"
           }
          ],
          "pie": [
           {
            "automargin": true,
            "type": "pie"
           }
          ],
          "scatter": [
           {
            "fillpattern": {
             "fillmode": "overlay",
             "size": 10,
             "solidity": 0.2
            },
            "type": "scatter"
           }
          ],
          "scatter3d": [
           {
            "line": {
             "colorbar": {
              "outlinewidth": 0,
              "ticks": ""
             }
            },
            "marker": {
             "colorbar": {
              "outlinewidth": 0,
              "ticks": ""
             }
            },
            "type": "scatter3d"
           }
          ],
          "scattercarpet": [
           {
            "marker": {
             "colorbar": {
              "outlinewidth": 0,
              "ticks": ""
             }
            },
            "type": "scattercarpet"
           }
          ],
          "scattergeo": [
           {
            "marker": {
             "colorbar": {
              "outlinewidth": 0,
              "ticks": ""
             }
            },
            "type": "scattergeo"
           }
          ],
          "scattergl": [
           {
            "marker": {
             "colorbar": {
              "outlinewidth": 0,
              "ticks": ""
             }
            },
            "type": "scattergl"
           }
          ],
          "scattermapbox": [
           {
            "marker": {
             "colorbar": {
              "outlinewidth": 0,
              "ticks": ""
             }
            },
            "type": "scattermapbox"
           }
          ],
          "scatterpolar": [
           {
            "marker": {
             "colorbar": {
              "outlinewidth": 0,
              "ticks": ""
             }
            },
            "type": "scatterpolar"
           }
          ],
          "scatterpolargl": [
           {
            "marker": {
             "colorbar": {
              "outlinewidth": 0,
              "ticks": ""
             }
            },
            "type": "scatterpolargl"
           }
          ],
          "scatterternary": [
           {
            "marker": {
             "colorbar": {
              "outlinewidth": 0,
              "ticks": ""
             }
            },
            "type": "scatterternary"
           }
          ],
          "surface": [
           {
            "colorbar": {
             "outlinewidth": 0,
             "ticks": ""
            },
            "colorscale": [
             [
              0,
              "#0d0887"
             ],
             [
              0.1111111111111111,
              "#46039f"
             ],
             [
              0.2222222222222222,
              "#7201a8"
             ],
             [
              0.3333333333333333,
              "#9c179e"
             ],
             [
              0.4444444444444444,
              "#bd3786"
             ],
             [
              0.5555555555555556,
              "#d8576b"
             ],
             [
              0.6666666666666666,
              "#ed7953"
             ],
             [
              0.7777777777777778,
              "#fb9f3a"
             ],
             [
              0.8888888888888888,
              "#fdca26"
             ],
             [
              1,
              "#f0f921"
             ]
            ],
            "type": "surface"
           }
          ],
          "table": [
           {
            "cells": {
             "fill": {
              "color": "#EBF0F8"
             },
             "line": {
              "color": "white"
             }
            },
            "header": {
             "fill": {
              "color": "#C8D4E3"
             },
             "line": {
              "color": "white"
             }
            },
            "type": "table"
           }
          ]
         },
         "layout": {
          "annotationdefaults": {
           "arrowcolor": "#2a3f5f",
           "arrowhead": 0,
           "arrowwidth": 1
          },
          "autotypenumbers": "strict",
          "coloraxis": {
           "colorbar": {
            "outlinewidth": 0,
            "ticks": ""
           }
          },
          "colorscale": {
           "diverging": [
            [
             0,
             "#8e0152"
            ],
            [
             0.1,
             "#c51b7d"
            ],
            [
             0.2,
             "#de77ae"
            ],
            [
             0.3,
             "#f1b6da"
            ],
            [
             0.4,
             "#fde0ef"
            ],
            [
             0.5,
             "#f7f7f7"
            ],
            [
             0.6,
             "#e6f5d0"
            ],
            [
             0.7,
             "#b8e186"
            ],
            [
             0.8,
             "#7fbc41"
            ],
            [
             0.9,
             "#4d9221"
            ],
            [
             1,
             "#276419"
            ]
           ],
           "sequential": [
            [
             0,
             "#0d0887"
            ],
            [
             0.1111111111111111,
             "#46039f"
            ],
            [
             0.2222222222222222,
             "#7201a8"
            ],
            [
             0.3333333333333333,
             "#9c179e"
            ],
            [
             0.4444444444444444,
             "#bd3786"
            ],
            [
             0.5555555555555556,
             "#d8576b"
            ],
            [
             0.6666666666666666,
             "#ed7953"
            ],
            [
             0.7777777777777778,
             "#fb9f3a"
            ],
            [
             0.8888888888888888,
             "#fdca26"
            ],
            [
             1,
             "#f0f921"
            ]
           ],
           "sequentialminus": [
            [
             0,
             "#0d0887"
            ],
            [
             0.1111111111111111,
             "#46039f"
            ],
            [
             0.2222222222222222,
             "#7201a8"
            ],
            [
             0.3333333333333333,
             "#9c179e"
            ],
            [
             0.4444444444444444,
             "#bd3786"
            ],
            [
             0.5555555555555556,
             "#d8576b"
            ],
            [
             0.6666666666666666,
             "#ed7953"
            ],
            [
             0.7777777777777778,
             "#fb9f3a"
            ],
            [
             0.8888888888888888,
             "#fdca26"
            ],
            [
             1,
             "#f0f921"
            ]
           ]
          },
          "colorway": [
           "#636efa",
           "#EF553B",
           "#00cc96",
           "#ab63fa",
           "#FFA15A",
           "#19d3f3",
           "#FF6692",
           "#B6E880",
           "#FF97FF",
           "#FECB52"
          ],
          "font": {
           "color": "#2a3f5f"
          },
          "geo": {
           "bgcolor": "white",
           "lakecolor": "white",
           "landcolor": "#E5ECF6",
           "showlakes": true,
           "showland": true,
           "subunitcolor": "white"
          },
          "hoverlabel": {
           "align": "left"
          },
          "hovermode": "closest",
          "mapbox": {
           "style": "light"
          },
          "paper_bgcolor": "white",
          "plot_bgcolor": "#E5ECF6",
          "polar": {
           "angularaxis": {
            "gridcolor": "white",
            "linecolor": "white",
            "ticks": ""
           },
           "bgcolor": "#E5ECF6",
           "radialaxis": {
            "gridcolor": "white",
            "linecolor": "white",
            "ticks": ""
           }
          },
          "scene": {
           "xaxis": {
            "backgroundcolor": "#E5ECF6",
            "gridcolor": "white",
            "gridwidth": 2,
            "linecolor": "white",
            "showbackground": true,
            "ticks": "",
            "zerolinecolor": "white"
           },
           "yaxis": {
            "backgroundcolor": "#E5ECF6",
            "gridcolor": "white",
            "gridwidth": 2,
            "linecolor": "white",
            "showbackground": true,
            "ticks": "",
            "zerolinecolor": "white"
           },
           "zaxis": {
            "backgroundcolor": "#E5ECF6",
            "gridcolor": "white",
            "gridwidth": 2,
            "linecolor": "white",
            "showbackground": true,
            "ticks": "",
            "zerolinecolor": "white"
           }
          },
          "shapedefaults": {
           "line": {
            "color": "#2a3f5f"
           }
          },
          "ternary": {
           "aaxis": {
            "gridcolor": "white",
            "linecolor": "white",
            "ticks": ""
           },
           "baxis": {
            "gridcolor": "white",
            "linecolor": "white",
            "ticks": ""
           },
           "bgcolor": "#E5ECF6",
           "caxis": {
            "gridcolor": "white",
            "linecolor": "white",
            "ticks": ""
           }
          },
          "title": {
           "x": 0.05
          },
          "xaxis": {
           "automargin": true,
           "gridcolor": "white",
           "linecolor": "white",
           "ticks": "",
           "title": {
            "standoff": 15
           },
           "zerolinecolor": "white",
           "zerolinewidth": 2
          },
          "yaxis": {
           "automargin": true,
           "gridcolor": "white",
           "linecolor": "white",
           "ticks": "",
           "title": {
            "standoff": 15
           },
           "zerolinecolor": "white",
           "zerolinewidth": 2
          }
         }
        }
       }
      },
      "text/html": [
       "<div>                            <div id=\"4f3af161-7cbe-4a06-8bd7-bbb7561de2db\" class=\"plotly-graph-div\" style=\"height:525px; width:100%;\"></div>            <script type=\"text/javascript\">                require([\"plotly\"], function(Plotly) {                    window.PLOTLYENV=window.PLOTLYENV || {};                                    if (document.getElementById(\"4f3af161-7cbe-4a06-8bd7-bbb7561de2db\")) {                    Plotly.newPlot(                        \"4f3af161-7cbe-4a06-8bd7-bbb7561de2db\",                        [{\"branchvalues\":\"total\",\"customdata\":[[4.352941176470588],[4.772009029345372],[4.573099415204679],[4.439461883408072],[4.630057803468208],[4.4411764705882355],[4.9],[4.819935691318328],[4.573529411764706],[4.34185303514377],[4.463414634146342],[4.363128491620111],[4.0],[4.842720066750104],[4.6342015855039635],[4.526168224299066],[4.548672566371682],[4.648522550544324],[4.23196881091618],[4.894498014747589],[4.343956043956044],[4.53485254691689],[4.538461538461538],[4.65553235908142],[4.052980132450331],[4.784486990672558],[4.400400582665696],[4.431578947368421],[4.508448540706605],[4.633680555555555],[4.153644960960651],[4.8104484676489765],[4.42651630462289],[4.465781179648807],[4.5228849600343075],[4.606512155688898],[4.602849655613515]],\"domain\":{\"x\":[0.0,1.0],\"y\":[0.0,1.0]},\"hovertemplate\":\"labels=%{label}\\u003cbr\\u003ereviews=%{value}\\u003cbr\\u003eparent=%{parent}\\u003cbr\\u003eid=%{id}\\u003cbr\\u003eavg_aspect=%{color}\\u003cextra\\u003e\\u003c\\u002fextra\\u003e\",\"ids\":[\"All accommodation\\u002fBUSINESS\\u002fBungalow \\u002f Villa \\u002f Retreat\",\"All accommodation\\u002fCOUPLES\\u002fBungalow \\u002f Villa \\u002f Retreat\",\"All accommodation\\u002fFAMILY\\u002fBungalow \\u002f Villa \\u002f Retreat\",\"All accommodation\\u002fFRIENDS\\u002fBungalow \\u002f Villa \\u002f Retreat\",\"All accommodation\\u002fNONE\\u002fBungalow \\u002f Villa \\u002f Retreat\",\"All accommodation\\u002fSOLO\\u002fBungalow \\u002f Villa \\u002f Retreat\",\"All accommodation\\u002fBUSINESS\\u002fGuesthouse \\u002f Hostel\",\"All accommodation\\u002fCOUPLES\\u002fGuesthouse \\u002f Hostel\",\"All accommodation\\u002fFAMILY\\u002fGuesthouse \\u002f Hostel\",\"All accommodation\\u002fFRIENDS\\u002fGuesthouse \\u002f Hostel\",\"All accommodation\\u002fNONE\\u002fGuesthouse \\u002f Hostel\",\"All accommodation\\u002fSOLO\\u002fGuesthouse \\u002f Hostel\",\"All accommodation\\u002fBUSINESS\\u002fHomestay \\u002f Farmstay \\u002f House \\u002f Lodge \\u002f Eco\",\"All accommodation\\u002fCOUPLES\\u002fHomestay \\u002f Farmstay \\u002f House \\u002f Lodge \\u002f Eco\",\"All accommodation\\u002fFAMILY\\u002fHomestay \\u002f Farmstay \\u002f House \\u002f Lodge \\u002f Eco\",\"All accommodation\\u002fFRIENDS\\u002fHomestay \\u002f Farmstay \\u002f House \\u002f Lodge \\u002f Eco\",\"All accommodation\\u002fNONE\\u002fHomestay \\u002f Farmstay \\u002f House \\u002f Lodge \\u002f Eco\",\"All accommodation\\u002fSOLO\\u002fHomestay \\u002f Farmstay \\u002f House \\u002f Lodge \\u002f Eco\",\"All accommodation\\u002fBUSINESS\\u002fHotel\",\"All accommodation\\u002fCOUPLES\\u002fHotel\",\"All accommodation\\u002fFAMILY\\u002fHotel\",\"All accommodation\\u002fFRIENDS\\u002fHotel\",\"All accommodation\\u002fNONE\\u002fHotel\",\"All accommodation\\u002fSOLO\\u002fHotel\",\"All accommodation\\u002fBUSINESS\\u002fResort\",\"All accommodation\\u002fCOUPLES\\u002fResort\",\"All accommodation\\u002fFAMILY\\u002fResort\",\"All accommodation\\u002fFRIENDS\\u002fResort\",\"All accommodation\\u002fNONE\\u002fResort\",\"All accommodation\\u002fSOLO\\u002fResort\",\"All accommodation\\u002fBUSINESS\",\"All accommodation\\u002fCOUPLES\",\"All accommodation\\u002fFAMILY\",\"All accommodation\\u002fFRIENDS\",\"All accommodation\\u002fNONE\",\"All accommodation\\u002fSOLO\",\"All accommodation\"],\"labels\":[\"Bungalow \\u002f Villa \\u002f Retreat\",\"Bungalow \\u002f Villa \\u002f Retreat\",\"Bungalow \\u002f Villa \\u002f Retreat\",\"Bungalow \\u002f Villa \\u002f Retreat\",\"Bungalow \\u002f Villa \\u002f Retreat\",\"Bungalow \\u002f Villa \\u002f Retreat\",\"Guesthouse \\u002f Hostel\",\"Guesthouse \\u002f Hostel\",\"Guesthouse \\u002f Hostel\",\"Guesthouse \\u002f Hostel\",\"Guesthouse \\u002f Hostel\",\"Guesthouse \\u002f Hostel\",\"Homestay \\u002f Farmstay \\u002f House \\u002f Lodge \\u002f Eco\",\"Homestay \\u002f Farmstay \\u002f House \\u002f Lodge \\u002f Eco\",\"Homestay \\u002f Farmstay \\u002f House \\u002f Lodge \\u002f Eco\",\"Homestay \\u002f Farmstay \\u002f House \\u002f Lodge \\u002f Eco\",\"Homestay \\u002f Farmstay \\u002f House \\u002f Lodge \\u002f Eco\",\"Homestay \\u002f Farmstay \\u002f House \\u002f Lodge \\u002f Eco\",\"Hotel\",\"Hotel\",\"Hotel\",\"Hotel\",\"Hotel\",\"Hotel\",\"Resort\",\"Resort\",\"Resort\",\"Resort\",\"Resort\",\"Resort\",\"BUSINESS\",\"COUPLES\",\"FAMILY\",\"FRIENDS\",\"NONE\",\"SOLO\",\"All accommodation\"],\"marker\":{\"coloraxis\":\"coloraxis\",\"colors\":[4.352941176470588,4.772009029345372,4.573099415204679,4.439461883408072,4.630057803468208,4.4411764705882355,4.9,4.819935691318328,4.573529411764706,4.34185303514377,4.463414634146342,4.363128491620111,4.0,4.842720066750104,4.6342015855039635,4.526168224299066,4.548672566371682,4.648522550544324,4.23196881091618,4.894498014747589,4.343956043956044,4.53485254691689,4.538461538461538,4.65553235908142,4.052980132450331,4.784486990672558,4.400400582665696,4.431578947368421,4.508448540706605,4.633680555555555,4.153644960960651,4.8104484676489765,4.42651630462289,4.465781179648807,4.5228849600343075,4.606512155688898,4.602849655613515]},\"name\":\"\",\"parents\":[\"All accommodation\\u002fBUSINESS\",\"All accommodation\\u002fCOUPLES\",\"All accommodation\\u002fFAMILY\",\"All accommodation\\u002fFRIENDS\",\"All accommodation\\u002fNONE\",\"All accommodation\\u002fSOLO\",\"All accommodation\\u002fBUSINESS\",\"All accommodation\\u002fCOUPLES\",\"All accommodation\\u002fFAMILY\",\"All accommodation\\u002fFRIENDS\",\"All accommodation\\u002fNONE\",\"All accommodation\\u002fSOLO\",\"All accommodation\\u002fBUSINESS\",\"All accommodation\\u002fCOUPLES\",\"All accommodation\\u002fFAMILY\",\"All accommodation\\u002fFRIENDS\",\"All accommodation\\u002fNONE\",\"All accommodation\\u002fSOLO\",\"All accommodation\\u002fBUSINESS\",\"All accommodation\\u002fCOUPLES\",\"All accommodation\\u002fFAMILY\",\"All accommodation\\u002fFRIENDS\",\"All accommodation\\u002fNONE\",\"All accommodation\\u002fSOLO\",\"All accommodation\\u002fBUSINESS\",\"All accommodation\\u002fCOUPLES\",\"All accommodation\\u002fFAMILY\",\"All accommodation\\u002fFRIENDS\",\"All accommodation\\u002fNONE\",\"All accommodation\\u002fSOLO\",\"All accommodation\",\"All accommodation\",\"All accommodation\",\"All accommodation\",\"All accommodation\",\"All accommodation\",\"\"],\"values\":[17,443,171,223,173,136,10,311,68,313,82,179,36,2397,883,1070,565,642,513,1763,909,746,598,478,452,8145,5491,2090,2601,576,1028,13059,7522,4442,4019,2011,32081],\"type\":\"treemap\"}],                        {\"template\":{\"data\":{\"histogram2dcontour\":[{\"type\":\"histogram2dcontour\",\"colorbar\":{\"outlinewidth\":0,\"ticks\":\"\"},\"colorscale\":[[0.0,\"#0d0887\"],[0.1111111111111111,\"#46039f\"],[0.2222222222222222,\"#7201a8\"],[0.3333333333333333,\"#9c179e\"],[0.4444444444444444,\"#bd3786\"],[0.5555555555555556,\"#d8576b\"],[0.6666666666666666,\"#ed7953\"],[0.7777777777777778,\"#fb9f3a\"],[0.8888888888888888,\"#fdca26\"],[1.0,\"#f0f921\"]]}],\"choropleth\":[{\"type\":\"choropleth\",\"colorbar\":{\"outlinewidth\":0,\"ticks\":\"\"}}],\"histogram2d\":[{\"type\":\"histogram2d\",\"colorbar\":{\"outlinewidth\":0,\"ticks\":\"\"},\"colorscale\":[[0.0,\"#0d0887\"],[0.1111111111111111,\"#46039f\"],[0.2222222222222222,\"#7201a8\"],[0.3333333333333333,\"#9c179e\"],[0.4444444444444444,\"#bd3786\"],[0.5555555555555556,\"#d8576b\"],[0.6666666666666666,\"#ed7953\"],[0.7777777777777778,\"#fb9f3a\"],[0.8888888888888888,\"#fdca26\"],[1.0,\"#f0f921\"]]}],\"heatmap\":[{\"type\":\"heatmap\",\"colorbar\":{\"outlinewidth\":0,\"ticks\":\"\"},\"colorscale\":[[0.0,\"#0d0887\"],[0.1111111111111111,\"#46039f\"],[0.2222222222222222,\"#7201a8\"],[0.3333333333333333,\"#9c179e\"],[0.4444444444444444,\"#bd3786\"],[0.5555555555555556,\"#d8576b\"],[0.6666666666666666,\"#ed7953\"],[0.7777777777777778,\"#fb9f3a\"],[0.8888888888888888,\"#fdca26\"],[1.0,\"#f0f921\"]]}],\"heatmapgl\":[{\"type\":\"heatmapgl\",\"colorbar\":{\"outlinewidth\":0,\"ticks\":\"\"},\"colorscale\":[[0.0,\"#0d0887\"],[0.1111111111111111,\"#46039f\"],[0.2222222222222222,\"#7201a8\"],[0.3333333333333333,\"#9c179e\"],[0.4444444444444444,\"#bd3786\"],[0.5555555555555556,\"#d8576b\"],[0.6666666666666666,\"#ed7953\"],[0.7777777777777778,\"#fb9f3a\"],[0.8888888888888888,\"#fdca26\"],[1.0,\"#f0f921\"]]}],\"contourcarpet\":[{\"type\":\"contourcarpet\",\"colorbar\":{\"outlinewidth\":0,\"ticks\":\"\"}}],\"contour\":[{\"type\":\"contour\",\"colorbar\":{\"outlinewidth\":0,\"ticks\":\"\"},\"colorscale\":[[0.0,\"#0d0887\"],[0.1111111111111111,\"#46039f\"],[0.2222222222222222,\"#7201a8\"],[0.3333333333333333,\"#9c179e\"],[0.4444444444444444,\"#bd3786\"],[0.5555555555555556,\"#d8576b\"],[0.6666666666666666,\"#ed7953\"],[0.7777777777777778,\"#fb9f3a\"],[0.8888888888888888,\"#fdca26\"],[1.0,\"#f0f921\"]]}],\"surface\":[{\"type\":\"surface\",\"colorbar\":{\"outlinewidth\":0,\"ticks\":\"\"},\"colorscale\":[[0.0,\"#0d0887\"],[0.1111111111111111,\"#46039f\"],[0.2222222222222222,\"#7201a8\"],[0.3333333333333333,\"#9c179e\"],[0.4444444444444444,\"#bd3786\"],[0.5555555555555556,\"#d8576b\"],[0.6666666666666666,\"#ed7953\"],[0.7777777777777778,\"#fb9f3a\"],[0.8888888888888888,\"#fdca26\"],[1.0,\"#f0f921\"]]}],\"mesh3d\":[{\"type\":\"mesh3d\",\"colorbar\":{\"outlinewidth\":0,\"ticks\":\"\"}}],\"scatter\":[{\"fillpattern\":{\"fillmode\":\"overlay\",\"size\":10,\"solidity\":0.2},\"type\":\"scatter\"}],\"parcoords\":[{\"type\":\"parcoords\",\"line\":{\"colorbar\":{\"outlinewidth\":0,\"ticks\":\"\"}}}],\"scatterpolargl\":[{\"type\":\"scatterpolargl\",\"marker\":{\"colorbar\":{\"outlinewidth\":0,\"ticks\":\"\"}}}],\"bar\":[{\"error_x\":{\"color\":\"#2a3f5f\"},\"error_y\":{\"color\":\"#2a3f5f\"},\"marker\":{\"line\":{\"color\":\"#E5ECF6\",\"width\":0.5},\"pattern\":{\"fillmode\":\"overlay\",\"size\":10,\"solidity\":0.2}},\"type\":\"bar\"}],\"scattergeo\":[{\"type\":\"scattergeo\",\"marker\":{\"colorbar\":{\"outlinewidth\":0,\"ticks\":\"\"}}}],\"scatterpolar\":[{\"type\":\"scatterpolar\",\"marker\":{\"colorbar\":{\"outlinewidth\":0,\"ticks\":\"\"}}}],\"histogram\":[{\"marker\":{\"pattern\":{\"fillmode\":\"overlay\",\"size\":10,\"solidity\":0.2}},\"type\":\"histogram\"}],\"scattergl\":[{\"type\":\"scattergl\",\"marker\":{\"colorbar\":{\"outlinewidth\":0,\"ticks\":\"\"}}}],\"scatter3d\":[{\"type\":\"scatter3d\",\"line\":{\"colorbar\":{\"outlinewidth\":0,\"ticks\":\"\"}},\"marker\":{\"colorbar\":{\"outlinewidth\":0,\"ticks\":\"\"}}}],\"scattermapbox\":[{\"type\":\"scattermapbox\",\"marker\":{\"colorbar\":{\"outlinewidth\":0,\"ticks\":\"\"}}}],\"scatterternary\":[{\"type\":\"scatterternary\",\"marker\":{\"colorbar\":{\"outlinewidth\":0,\"ticks\":\"\"}}}],\"scattercarpet\":[{\"type\":\"scattercarpet\",\"marker\":{\"colorbar\":{\"outlinewidth\":0,\"ticks\":\"\"}}}],\"carpet\":[{\"aaxis\":{\"endlinecolor\":\"#2a3f5f\",\"gridcolor\":\"white\",\"linecolor\":\"white\",\"minorgridcolor\":\"white\",\"startlinecolor\":\"#2a3f5f\"},\"baxis\":{\"endlinecolor\":\"#2a3f5f\",\"gridcolor\":\"white\",\"linecolor\":\"white\",\"minorgridcolor\":\"white\",\"startlinecolor\":\"#2a3f5f\"},\"type\":\"carpet\"}],\"table\":[{\"cells\":{\"fill\":{\"color\":\"#EBF0F8\"},\"line\":{\"color\":\"white\"}},\"header\":{\"fill\":{\"color\":\"#C8D4E3\"},\"line\":{\"color\":\"white\"}},\"type\":\"table\"}],\"barpolar\":[{\"marker\":{\"line\":{\"color\":\"#E5ECF6\",\"width\":0.5},\"pattern\":{\"fillmode\":\"overlay\",\"size\":10,\"solidity\":0.2}},\"type\":\"barpolar\"}],\"pie\":[{\"automargin\":true,\"type\":\"pie\"}]},\"layout\":{\"autotypenumbers\":\"strict\",\"colorway\":[\"#636efa\",\"#EF553B\",\"#00cc96\",\"#ab63fa\",\"#FFA15A\",\"#19d3f3\",\"#FF6692\",\"#B6E880\",\"#FF97FF\",\"#FECB52\"],\"font\":{\"color\":\"#2a3f5f\"},\"hovermode\":\"closest\",\"hoverlabel\":{\"align\":\"left\"},\"paper_bgcolor\":\"white\",\"plot_bgcolor\":\"#E5ECF6\",\"polar\":{\"bgcolor\":\"#E5ECF6\",\"angularaxis\":{\"gridcolor\":\"white\",\"linecolor\":\"white\",\"ticks\":\"\"},\"radialaxis\":{\"gridcolor\":\"white\",\"linecolor\":\"white\",\"ticks\":\"\"}},\"ternary\":{\"bgcolor\":\"#E5ECF6\",\"aaxis\":{\"gridcolor\":\"white\",\"linecolor\":\"white\",\"ticks\":\"\"},\"baxis\":{\"gridcolor\":\"white\",\"linecolor\":\"white\",\"ticks\":\"\"},\"caxis\":{\"gridcolor\":\"white\",\"linecolor\":\"white\",\"ticks\":\"\"}},\"coloraxis\":{\"colorbar\":{\"outlinewidth\":0,\"ticks\":\"\"}},\"colorscale\":{\"sequential\":[[0.0,\"#0d0887\"],[0.1111111111111111,\"#46039f\"],[0.2222222222222222,\"#7201a8\"],[0.3333333333333333,\"#9c179e\"],[0.4444444444444444,\"#bd3786\"],[0.5555555555555556,\"#d8576b\"],[0.6666666666666666,\"#ed7953\"],[0.7777777777777778,\"#fb9f3a\"],[0.8888888888888888,\"#fdca26\"],[1.0,\"#f0f921\"]],\"sequentialminus\":[[0.0,\"#0d0887\"],[0.1111111111111111,\"#46039f\"],[0.2222222222222222,\"#7201a8\"],[0.3333333333333333,\"#9c179e\"],[0.4444444444444444,\"#bd3786\"],[0.5555555555555556,\"#d8576b\"],[0.6666666666666666,\"#ed7953\"],[0.7777777777777778,\"#fb9f3a\"],[0.8888888888888888,\"#fdca26\"],[1.0,\"#f0f921\"]],\"diverging\":[[0,\"#8e0152\"],[0.1,\"#c51b7d\"],[0.2,\"#de77ae\"],[0.3,\"#f1b6da\"],[0.4,\"#fde0ef\"],[0.5,\"#f7f7f7\"],[0.6,\"#e6f5d0\"],[0.7,\"#b8e186\"],[0.8,\"#7fbc41\"],[0.9,\"#4d9221\"],[1,\"#276419\"]]},\"xaxis\":{\"gridcolor\":\"white\",\"linecolor\":\"white\",\"ticks\":\"\",\"title\":{\"standoff\":15},\"zerolinecolor\":\"white\",\"automargin\":true,\"zerolinewidth\":2},\"yaxis\":{\"gridcolor\":\"white\",\"linecolor\":\"white\",\"ticks\":\"\",\"title\":{\"standoff\":15},\"zerolinecolor\":\"white\",\"automargin\":true,\"zerolinewidth\":2},\"scene\":{\"xaxis\":{\"backgroundcolor\":\"#E5ECF6\",\"gridcolor\":\"white\",\"linecolor\":\"white\",\"showbackground\":true,\"ticks\":\"\",\"zerolinecolor\":\"white\",\"gridwidth\":2},\"yaxis\":{\"backgroundcolor\":\"#E5ECF6\",\"gridcolor\":\"white\",\"linecolor\":\"white\",\"showbackground\":true,\"ticks\":\"\",\"zerolinecolor\":\"white\",\"gridwidth\":2},\"zaxis\":{\"backgroundcolor\":\"#E5ECF6\",\"gridcolor\":\"white\",\"linecolor\":\"white\",\"showbackground\":true,\"ticks\":\"\",\"zerolinecolor\":\"white\",\"gridwidth\":2}},\"shapedefaults\":{\"line\":{\"color\":\"#2a3f5f\"}},\"annotationdefaults\":{\"arrowcolor\":\"#2a3f5f\",\"arrowhead\":0,\"arrowwidth\":1},\"geo\":{\"bgcolor\":\"white\",\"landcolor\":\"#E5ECF6\",\"subunitcolor\":\"white\",\"showland\":true,\"showlakes\":true,\"lakecolor\":\"white\"},\"title\":{\"x\":0.05},\"mapbox\":{\"style\":\"light\"}}},\"coloraxis\":{\"colorbar\":{\"title\":{\"text\":\"avg_aspect\"}},\"colorscale\":[[0.0,\"rgb(103,0,31)\"],[0.1,\"rgb(178,24,43)\"],[0.2,\"rgb(214,96,77)\"],[0.3,\"rgb(244,165,130)\"],[0.4,\"rgb(253,219,199)\"],[0.5,\"rgb(247,247,247)\"],[0.6,\"rgb(209,229,240)\"],[0.7,\"rgb(146,197,222)\"],[0.8,\"rgb(67,147,195)\"],[0.9,\"rgb(33,102,172)\"],[1.0,\"rgb(5,48,97)\"]]},\"legend\":{\"tracegroupgap\":0},\"margin\":{\"t\":50,\"l\":25,\"r\":25,\"b\":25}},                        {\"responsive\": true}                    ).then(function(){\n",
       "                            \n",
       "var gd = document.getElementById('4f3af161-7cbe-4a06-8bd7-bbb7561de2db');\n",
       "var x = new MutationObserver(function (mutations, observer) {{\n",
       "        var display = window.getComputedStyle(gd).display;\n",
       "        if (!display || display === 'none') {{\n",
       "            console.log([gd, 'removed!']);\n",
       "            Plotly.purge(gd);\n",
       "            observer.disconnect();\n",
       "        }}\n",
       "}});\n",
       "\n",
       "// Listen for the removal of the full notebook cells\n",
       "var notebookContainer = gd.closest('#notebook-container');\n",
       "if (notebookContainer) {{\n",
       "    x.observe(notebookContainer, {childList: true});\n",
       "}}\n",
       "\n",
       "// Listen for the clearing of the current output cell\n",
       "var outputEl = gd.closest('.output');\n",
       "if (outputEl) {{\n",
       "    x.observe(outputEl, {childList: true});\n",
       "}}\n",
       "\n",
       "                        })                };                });            </script>        </div>"
      ]
     },
     "metadata": {},
     "output_type": "display_data"
    }
   ],
   "source": [
    "# https://plotly.com/python/treemaps/\n",
    "data = treeplot_df\n",
    "fig = px.treemap(data, path=[px.Constant(\"All accommodation\"), 'tripType','accom_type'], values='reviews',\n",
    "                  color='avg_aspect', #hover_data=['tripType'],\n",
    "                  color_continuous_scale='RdBu',\n",
    "                  #color_continuous_midpoint=np.average(data['Count'], weights=data['Count'])\n",
    "                )\n",
    "fig.update_layout(margin = dict(t=50, l=25, r=25, b=25))\n",
    "fig.show()"
   ]
  },
  {
   "cell_type": "code",
   "execution_count": 184,
   "id": "87f8b130",
   "metadata": {},
   "outputs": [
    {
     "data": {
      "image/png": "[encoded data removed]",
      "text/plain": [
       "<Figure size 1400x600 with 1 Axes>"
      ]
     },
     "metadata": {},
     "output_type": "display_data"
    }
   ],
   "source": [
    "# Number of words by accommodation category\n",
    "plt.figure(figsize=(14,6))\n",
    "ax = sns.barplot(df, x=\"accom_type\", y=\"no_words\")\n",
    "ax.set_ylabel('Mean number of words per review')\n",
    "ax.set_xlabel('Accommodation category')\n",
    "ax.bar_label(ax.containers[0], fontsize=12, label_type = 'edge', padding = 12, fmt = '{:.2f}')\n",
    "plt.show()"
   ]
  },
  {
   "cell_type": "code",
   "execution_count": 183,
   "id": "b0ef6492",
   "metadata": {},
   "outputs": [
    {
     "data": {
      "image/png": "[encoded data removed]",
      "text/plain": [
       "<Figure size 1100x600 with 1 Axes>"
      ]
     },
     "metadata": {},
     "output_type": "display_data"
    }
   ],
   "source": [
    "# Number of aspects by accommodation category\n",
    "plt.figure(figsize=(11,6))\n",
    "ax = sns.barplot(df, x=\"accom_type\", y=\"aspect_no\")\n",
    "ax.set_ylabel('Mean number of aspects per review')\n",
    "ax.set_xlabel('Accommodation category')\n",
    "ax.bar_label(ax.containers[0], fontsize=12, label_type = 'edge', padding = 12, fmt = '{:.2f}')\n",
    "plt.show()"
   ]
  },
  {
   "cell_type": "code",
   "execution_count": 260,
   "id": "95768346",
   "metadata": {},
   "outputs": [
    {
     "data": {
      "image/png": "[encoded data removed]",
      "text/plain": [
       "<Figure size 1100x600 with 1 Axes>"
      ]
     },
     "metadata": {},
     "output_type": "display_data"
    }
   ],
   "source": [
    "# User rating by accommodation category\n",
    "plt.figure(figsize=(11,6))\n",
    "ax = sns.barplot(df, x=\"accom_type\", y=\"rating\")\n",
    "ax.set_ylabel('Average user rating')\n",
    "ax.set_xlabel('Accommodation category')\n",
    "ax.bar_label(ax.containers[0], fontsize=12, label_type = 'edge', padding = 5, fmt = '{:.2f}')\n",
    "plt.show()"
   ]
  },
  {
   "cell_type": "markdown",
   "id": "3b8642bc",
   "metadata": {},
   "source": [
    "## 10 Most popular words per aspect"
   ]
  },
  {
   "cell_type": "code",
   "execution_count": 185,
   "id": "390199fd",
   "metadata": {},
   "outputs": [
    {
     "name": "stdout",
     "output_type": "stream",
     "text": [
      "\n",
      "Aspect: location\n",
      "Top 20 tokens by frequency\n",
      "\n",
      "1. place - 12458\n",
      "2. beach - 11208\n",
      "3. area - 6959\n",
      "4. location - 4576\n",
      "5. town - 3978\n",
      "6. river - 3330\n",
      "7. city - 3326\n",
      "8. island - 2911\n",
      "9. airport - 2618\n",
      "10. garden - 2533\n",
      "\n",
      "Aspect: cleanliness\n",
      "Top 20 tokens by frequency\n",
      "\n",
      "1. clean - 6656\n",
      "2. room_clean - 1027\n",
      "3. dirty - 680\n",
      "4. well_maintain - 509\n",
      "5. clean_room - 457\n",
      "6. clean_comfortable - 315\n",
      "7. immaculate - 288\n",
      "8. pristine - 264\n",
      "9. nice_clean - 257\n",
      "10. tidy - 256\n",
      "\n",
      "Aspect: comfort\n",
      "Top 20 tokens by frequency\n",
      "\n",
      "1. night - 8746\n",
      "2. bed - 5467\n",
      "3. relax - 4733\n",
      "4. comfortable - 3383\n",
      "5. quiet - 2736\n",
      "6. cold - 1655\n",
      "7. hot - 1604\n",
      "8. sleep - 1397\n",
      "9. rest - 1366\n",
      "10. privacy - 916\n",
      "\n",
      "Aspect: facilities\n",
      "Top 20 tokens by frequency\n",
      "\n",
      "1. room - 19883\n",
      "2. resort - 19376\n",
      "3. hotel - 18483\n",
      "4. villa - 10702\n",
      "5. pool - 9797\n",
      "6. view - 5850\n",
      "7. spa - 4636\n",
      "8. bathroom - 4099\n",
      "9. facility - 2882\n",
      "10. shower - 2742\n",
      "\n",
      "Aspect: service\n",
      "Top 20 tokens by frequency\n",
      "\n",
      "1. staff - 16107\n",
      "2. service - 9927\n",
      "3. experience - 7022\n",
      "4. friendly - 5175\n",
      "5. helpful - 3919\n",
      "6. arrive - 3704\n",
      "7. welcome - 3327\n",
      "8. manager - 3137\n",
      "9. english - 2971\n",
      "10. staff_very - 2483\n",
      "\n",
      "Aspect: value\n",
      "Top 20 tokens by frequency\n",
      "\n",
      "1. price - 4768\n",
      "2. pay - 2757\n",
      "3. expensive - 2148\n",
      "4. worth - 2090\n",
      "5. cheap - 1766\n",
      "6. luxury - 1713\n",
      "7. cost - 1207\n",
      "8. money - 1124\n",
      "9. value - 665\n",
      "10. reasonable - 647\n",
      "\n",
      "Aspect: food_and_beverage\n",
      "Top 20 tokens by frequency\n",
      "\n",
      "1. food - 11726\n",
      "2. restaurant - 11079\n",
      "3. breakfast - 8631\n",
      "4. dinner - 4613\n",
      "5. bar - 3481\n",
      "6. eat - 3273\n",
      "7. drink - 3122\n",
      "8. meal - 3032\n",
      "9. menu - 2565\n",
      "10. delicious - 2304\n"
     ]
    }
   ],
   "source": [
    "# create dictionary for aspect - a map of unique tokens\n",
    "aspect_columns = list(aspect_df.aspect.unique())\n",
    "aspect_columns = list(map(lambda x: x.lower(), aspect_columns))\n",
    "\n",
    "for column in aspect_columns:\n",
    "    print('\\nAspect:', column)\n",
    "    data = df[column][df[column] != 0]\n",
    "\n",
    "    dictionary = Dictionary(data)\n",
    "\n",
    "    # 100 tokens by frequency for cleaned up dictionary\n",
    "    t_most_freq = dictionary.most_common(100)\n",
    "\n",
    "    # Print info about top 20 tokens\n",
    "    print('Top 20 tokens by frequency\\n')\n",
    "    num = 1\n",
    "    for t, f in t_most_freq[:10]:\n",
    "        print(str(num) + '.', t, '-', f)\n",
    "        num = num + 1"
   ]
  }
 ],
 "metadata": {
  "kernelspec": {
   "display_name": "flair",
   "language": "python",
   "name": "flair"
  },
  "language_info": {
   "codemirror_mode": {
    "name": "ipython",
    "version": 3
   },
   "file_extension": ".py",
   "mimetype": "text/x-python",
   "name": "python",
   "nbconvert_exporter": "python",
   "pygments_lexer": "ipython3",
   "version": "3.12.4"
  }
 },
 "nbformat": 4,
 "nbformat_minor": 5
}
